{
 "cells": [
  {
   "cell_type": "code",
   "execution_count": 5,
   "metadata": {},
   "outputs": [],
   "source": [
    "import pandas as pd\n",
    "import plotly.express as px\n",
    "import os\n",
    "\n",
    "def create_path_if_not_existant(path):\n",
    "    if not os.path.exists(path):\n",
    "        os.makedirs(path)"
   ]
  },
  {
   "attachments": {},
   "cell_type": "markdown",
   "metadata": {},
   "source": [
    "### ZCCR Ablation Study"
   ]
  },
  {
   "cell_type": "code",
   "execution_count": 8,
   "metadata": {},
   "outputs": [
    {
     "data": {
      "application/vnd.plotly.v1+json": {
       "config": {
        "plotlyServerURL": "https://plot.ly"
       },
       "data": [
        {
         "hovertemplate": "clustering=hdbscan<br>representative=centroid<br>proj=None<br>n_ImageNet_classes=1<br>n_points_per_ImageNet_class=%{x}<br>R@10=%{y}<br>text=%{text}<extra></extra>",
         "legendgroup": "hdbscan, centroid",
         "line": {
          "color": "#636efa",
          "dash": "solid"
         },
         "marker": {
          "symbol": "circle"
         },
         "mode": "text+lines+markers",
         "name": "hdbscan, centroid",
         "orientation": "v",
         "showlegend": true,
         "text": [
          "0.0",
          "0.0",
          "0.04",
          "0.0"
         ],
         "textposition": "bottom center",
         "type": "scatter",
         "x": [
          "5",
          "10",
          "20",
          "30"
         ],
         "xaxis": "x7",
         "y": [
          0,
          0,
          0.04,
          0
         ],
         "yaxis": "y7"
        },
        {
         "hovertemplate": "clustering=hdbscan<br>representative=centroid<br>proj=None<br>n_ImageNet_classes=2<br>n_points_per_ImageNet_class=%{x}<br>R@10=%{y}<br>text=%{text}<extra></extra>",
         "legendgroup": "hdbscan, centroid",
         "line": {
          "color": "#636efa",
          "dash": "solid"
         },
         "marker": {
          "symbol": "circle"
         },
         "mode": "text+lines+markers",
         "name": "hdbscan, centroid",
         "orientation": "v",
         "showlegend": false,
         "text": [
          "0.0",
          "0.6",
          "0.92",
          "0.88"
         ],
         "textposition": "bottom center",
         "type": "scatter",
         "x": [
          "5",
          "10",
          "20",
          "30"
         ],
         "xaxis": "x8",
         "y": [
          0,
          0.6,
          0.92,
          0.88
         ],
         "yaxis": "y8"
        },
        {
         "hovertemplate": "clustering=hdbscan<br>representative=centroid<br>proj=None<br>n_ImageNet_classes=5<br>n_points_per_ImageNet_class=%{x}<br>R@10=%{y}<br>text=%{text}<extra></extra>",
         "legendgroup": "hdbscan, centroid",
         "line": {
          "color": "#636efa",
          "dash": "solid"
         },
         "marker": {
          "symbol": "circle"
         },
         "mode": "text+lines+markers",
         "name": "hdbscan, centroid",
         "orientation": "v",
         "showlegend": false,
         "text": [
          "0.0",
          "0.64",
          "0.68",
          "0.48"
         ],
         "textposition": "bottom center",
         "type": "scatter",
         "x": [
          "5",
          "10",
          "20",
          "30"
         ],
         "xaxis": "x9",
         "y": [
          0,
          0.64,
          0.68,
          0.48
         ],
         "yaxis": "y9"
        },
        {
         "hovertemplate": "clustering=hdbscan<br>representative=centroid<br>proj=pca<br>n_ImageNet_classes=1<br>n_points_per_ImageNet_class=%{x}<br>R@10=%{y}<br>text=%{text}<extra></extra>",
         "legendgroup": "hdbscan, centroid",
         "line": {
          "color": "#636efa",
          "dash": "solid"
         },
         "marker": {
          "symbol": "circle"
         },
         "mode": "text+lines+markers",
         "name": "hdbscan, centroid",
         "orientation": "v",
         "showlegend": false,
         "text": [
          "0.0",
          "0.0",
          "0.0",
          "0.08"
         ],
         "textposition": "bottom center",
         "type": "scatter",
         "x": [
          "5",
          "10",
          "20",
          "30"
         ],
         "xaxis": "x4",
         "y": [
          0,
          0,
          0,
          0.08
         ],
         "yaxis": "y4"
        },
        {
         "hovertemplate": "clustering=hdbscan<br>representative=centroid<br>proj=pca<br>n_ImageNet_classes=2<br>n_points_per_ImageNet_class=%{x}<br>R@10=%{y}<br>text=%{text}<extra></extra>",
         "legendgroup": "hdbscan, centroid",
         "line": {
          "color": "#636efa",
          "dash": "solid"
         },
         "marker": {
          "symbol": "circle"
         },
         "mode": "text+lines+markers",
         "name": "hdbscan, centroid",
         "orientation": "v",
         "showlegend": false,
         "text": [
          "0.0",
          "0.64",
          "0.88",
          "0.84"
         ],
         "textposition": "bottom center",
         "type": "scatter",
         "x": [
          "5",
          "10",
          "20",
          "30"
         ],
         "xaxis": "x5",
         "y": [
          0,
          0.64,
          0.88,
          0.84
         ],
         "yaxis": "y5"
        },
        {
         "hovertemplate": "clustering=hdbscan<br>representative=centroid<br>proj=pca<br>n_ImageNet_classes=5<br>n_points_per_ImageNet_class=%{x}<br>R@10=%{y}<br>text=%{text}<extra></extra>",
         "legendgroup": "hdbscan, centroid",
         "line": {
          "color": "#636efa",
          "dash": "solid"
         },
         "marker": {
          "symbol": "circle"
         },
         "mode": "text+lines+markers",
         "name": "hdbscan, centroid",
         "orientation": "v",
         "showlegend": false,
         "text": [
          "0.0",
          "0.68",
          "0.88",
          "0.88"
         ],
         "textposition": "bottom center",
         "type": "scatter",
         "x": [
          "5",
          "10",
          "20",
          "30"
         ],
         "xaxis": "x6",
         "y": [
          0,
          0.68,
          0.88,
          0.88
         ],
         "yaxis": "y6"
        },
        {
         "hovertemplate": "clustering=hdbscan<br>representative=centroid<br>proj=tsne<br>n_ImageNet_classes=1<br>n_points_per_ImageNet_class=%{x}<br>R@10=%{y}<br>text=%{text}<extra></extra>",
         "legendgroup": "hdbscan, centroid",
         "line": {
          "color": "#636efa",
          "dash": "solid"
         },
         "marker": {
          "symbol": "circle"
         },
         "mode": "text+lines+markers",
         "name": "hdbscan, centroid",
         "orientation": "v",
         "showlegend": false,
         "text": [
          "0.0",
          "0.0",
          "0.0",
          "0.48"
         ],
         "textposition": "bottom center",
         "type": "scatter",
         "x": [
          "5",
          "10",
          "20",
          "30"
         ],
         "xaxis": "x",
         "y": [
          0,
          0,
          0,
          0.48
         ],
         "yaxis": "y"
        },
        {
         "hovertemplate": "clustering=hdbscan<br>representative=centroid<br>proj=tsne<br>n_ImageNet_classes=2<br>n_points_per_ImageNet_class=%{x}<br>R@10=%{y}<br>text=%{text}<extra></extra>",
         "legendgroup": "hdbscan, centroid",
         "line": {
          "color": "#636efa",
          "dash": "solid"
         },
         "marker": {
          "symbol": "circle"
         },
         "mode": "text+lines+markers",
         "name": "hdbscan, centroid",
         "orientation": "v",
         "showlegend": false,
         "text": [
          "0.0",
          "0.0",
          "0.8",
          "0.92"
         ],
         "textposition": "bottom center",
         "type": "scatter",
         "x": [
          "5",
          "10",
          "20",
          "30"
         ],
         "xaxis": "x2",
         "y": [
          0,
          0,
          0.8,
          0.92
         ],
         "yaxis": "y2"
        },
        {
         "hovertemplate": "clustering=hdbscan<br>representative=centroid<br>proj=tsne<br>n_ImageNet_classes=5<br>n_points_per_ImageNet_class=%{x}<br>R@10=%{y}<br>text=%{text}<extra></extra>",
         "legendgroup": "hdbscan, centroid",
         "line": {
          "color": "#636efa",
          "dash": "solid"
         },
         "marker": {
          "symbol": "circle"
         },
         "mode": "text+lines+markers",
         "name": "hdbscan, centroid",
         "orientation": "v",
         "showlegend": false,
         "text": [
          "0.0",
          "0.68",
          "0.72",
          "0.6"
         ],
         "textposition": "bottom center",
         "type": "scatter",
         "x": [
          "5",
          "10",
          "20",
          "30"
         ],
         "xaxis": "x3",
         "y": [
          0,
          0.68,
          0.72,
          0.6
         ],
         "yaxis": "y3"
        },
        {
         "hovertemplate": "clustering=hdbscan<br>representative=medoid<br>proj=None<br>n_ImageNet_classes=1<br>n_points_per_ImageNet_class=%{x}<br>R@10=%{y}<br>text=%{text}<extra></extra>",
         "legendgroup": "hdbscan, medoid",
         "line": {
          "color": "#636efa",
          "dash": "dot"
         },
         "marker": {
          "symbol": "circle"
         },
         "mode": "text+lines+markers",
         "name": "hdbscan, medoid",
         "orientation": "v",
         "showlegend": true,
         "text": [
          "",
          "",
          "",
          ""
         ],
         "textposition": "bottom center",
         "type": "scatter",
         "x": [
          "5",
          "10",
          "20",
          "30"
         ],
         "xaxis": "x7",
         "y": [
          0,
          0,
          0,
          0.08
         ],
         "yaxis": "y7"
        },
        {
         "hovertemplate": "clustering=hdbscan<br>representative=medoid<br>proj=None<br>n_ImageNet_classes=2<br>n_points_per_ImageNet_class=%{x}<br>R@10=%{y}<br>text=%{text}<extra></extra>",
         "legendgroup": "hdbscan, medoid",
         "line": {
          "color": "#636efa",
          "dash": "dot"
         },
         "marker": {
          "symbol": "circle"
         },
         "mode": "text+lines+markers",
         "name": "hdbscan, medoid",
         "orientation": "v",
         "showlegend": false,
         "text": [
          "",
          "",
          "",
          ""
         ],
         "textposition": "bottom center",
         "type": "scatter",
         "x": [
          "5",
          "10",
          "20",
          "30"
         ],
         "xaxis": "x8",
         "y": [
          0,
          0.64,
          0.72,
          0.8
         ],
         "yaxis": "y8"
        },
        {
         "hovertemplate": "clustering=hdbscan<br>representative=medoid<br>proj=None<br>n_ImageNet_classes=5<br>n_points_per_ImageNet_class=%{x}<br>R@10=%{y}<br>text=%{text}<extra></extra>",
         "legendgroup": "hdbscan, medoid",
         "line": {
          "color": "#636efa",
          "dash": "dot"
         },
         "marker": {
          "symbol": "circle"
         },
         "mode": "text+lines+markers",
         "name": "hdbscan, medoid",
         "orientation": "v",
         "showlegend": false,
         "text": [
          "",
          "",
          "",
          ""
         ],
         "textposition": "bottom center",
         "type": "scatter",
         "x": [
          "5",
          "10",
          "20",
          "30"
         ],
         "xaxis": "x9",
         "y": [
          0,
          0.4,
          0.4,
          0.48
         ],
         "yaxis": "y9"
        },
        {
         "hovertemplate": "clustering=hdbscan<br>representative=medoid<br>proj=pca<br>n_ImageNet_classes=1<br>n_points_per_ImageNet_class=%{x}<br>R@10=%{y}<br>text=%{text}<extra></extra>",
         "legendgroup": "hdbscan, medoid",
         "line": {
          "color": "#636efa",
          "dash": "dot"
         },
         "marker": {
          "symbol": "circle"
         },
         "mode": "text+lines+markers",
         "name": "hdbscan, medoid",
         "orientation": "v",
         "showlegend": false,
         "text": [
          "",
          "",
          "",
          ""
         ],
         "textposition": "bottom center",
         "type": "scatter",
         "x": [
          "5",
          "10",
          "20",
          "30"
         ],
         "xaxis": "x4",
         "y": [
          0,
          0,
          0,
          0
         ],
         "yaxis": "y4"
        },
        {
         "hovertemplate": "clustering=hdbscan<br>representative=medoid<br>proj=pca<br>n_ImageNet_classes=2<br>n_points_per_ImageNet_class=%{x}<br>R@10=%{y}<br>text=%{text}<extra></extra>",
         "legendgroup": "hdbscan, medoid",
         "line": {
          "color": "#636efa",
          "dash": "dot"
         },
         "marker": {
          "symbol": "circle"
         },
         "mode": "text+lines+markers",
         "name": "hdbscan, medoid",
         "orientation": "v",
         "showlegend": false,
         "text": [
          "",
          "",
          "",
          ""
         ],
         "textposition": "bottom center",
         "type": "scatter",
         "x": [
          "5",
          "10",
          "20",
          "30"
         ],
         "xaxis": "x5",
         "y": [
          0,
          0.32,
          0.72,
          0.76
         ],
         "yaxis": "y5"
        },
        {
         "hovertemplate": "clustering=hdbscan<br>representative=medoid<br>proj=pca<br>n_ImageNet_classes=5<br>n_points_per_ImageNet_class=%{x}<br>R@10=%{y}<br>text=%{text}<extra></extra>",
         "legendgroup": "hdbscan, medoid",
         "line": {
          "color": "#636efa",
          "dash": "dot"
         },
         "marker": {
          "symbol": "circle"
         },
         "mode": "text+lines+markers",
         "name": "hdbscan, medoid",
         "orientation": "v",
         "showlegend": false,
         "text": [
          "",
          "",
          "",
          ""
         ],
         "textposition": "bottom center",
         "type": "scatter",
         "x": [
          "5",
          "10",
          "20",
          "30"
         ],
         "xaxis": "x6",
         "y": [
          0.16,
          0.56,
          0.84,
          0.84
         ],
         "yaxis": "y6"
        },
        {
         "hovertemplate": "clustering=hdbscan<br>representative=medoid<br>proj=tsne<br>n_ImageNet_classes=1<br>n_points_per_ImageNet_class=%{x}<br>R@10=%{y}<br>text=%{text}<extra></extra>",
         "legendgroup": "hdbscan, medoid",
         "line": {
          "color": "#636efa",
          "dash": "dot"
         },
         "marker": {
          "symbol": "circle"
         },
         "mode": "text+lines+markers",
         "name": "hdbscan, medoid",
         "orientation": "v",
         "showlegend": false,
         "text": [
          "",
          "",
          "",
          ""
         ],
         "textposition": "bottom center",
         "type": "scatter",
         "x": [
          "5",
          "10",
          "20",
          "30"
         ],
         "xaxis": "x",
         "y": [
          0,
          0,
          0,
          0.4
         ],
         "yaxis": "y"
        },
        {
         "hovertemplate": "clustering=hdbscan<br>representative=medoid<br>proj=tsne<br>n_ImageNet_classes=2<br>n_points_per_ImageNet_class=%{x}<br>R@10=%{y}<br>text=%{text}<extra></extra>",
         "legendgroup": "hdbscan, medoid",
         "line": {
          "color": "#636efa",
          "dash": "dot"
         },
         "marker": {
          "symbol": "circle"
         },
         "mode": "text+lines+markers",
         "name": "hdbscan, medoid",
         "orientation": "v",
         "showlegend": false,
         "text": [
          "",
          "",
          "",
          ""
         ],
         "textposition": "bottom center",
         "type": "scatter",
         "x": [
          "5",
          "10",
          "20",
          "30"
         ],
         "xaxis": "x2",
         "y": [
          0,
          0,
          0.84,
          0.8
         ],
         "yaxis": "y2"
        },
        {
         "hovertemplate": "clustering=hdbscan<br>representative=medoid<br>proj=tsne<br>n_ImageNet_classes=5<br>n_points_per_ImageNet_class=%{x}<br>R@10=%{y}<br>text=%{text}<extra></extra>",
         "legendgroup": "hdbscan, medoid",
         "line": {
          "color": "#636efa",
          "dash": "dot"
         },
         "marker": {
          "symbol": "circle"
         },
         "mode": "text+lines+markers",
         "name": "hdbscan, medoid",
         "orientation": "v",
         "showlegend": false,
         "text": [
          "",
          "",
          "",
          ""
         ],
         "textposition": "bottom center",
         "type": "scatter",
         "x": [
          "5",
          "10",
          "20",
          "30"
         ],
         "xaxis": "x3",
         "y": [
          0.08,
          0.44,
          0.44,
          0.44
         ],
         "yaxis": "y3"
        },
        {
         "hovertemplate": "clustering=agglomerative<br>representative=centroid<br>proj=None<br>n_ImageNet_classes=1<br>n_points_per_ImageNet_class=%{x}<br>R@10=%{y}<br>text=%{text}<extra></extra>",
         "legendgroup": "agglomerative, centroid",
         "line": {
          "color": "#EF553B",
          "dash": "solid"
         },
         "marker": {
          "symbol": "circle"
         },
         "mode": "text+lines+markers",
         "name": "agglomerative, centroid",
         "orientation": "v",
         "showlegend": true,
         "text": [
          "0.84",
          "0.92",
          "0.92",
          "1.0"
         ],
         "textposition": "bottom center",
         "type": "scatter",
         "x": [
          "5",
          "10",
          "20",
          "30"
         ],
         "xaxis": "x7",
         "y": [
          0.84,
          0.92,
          0.92,
          1
         ],
         "yaxis": "y7"
        },
        {
         "hovertemplate": "clustering=agglomerative<br>representative=centroid<br>proj=None<br>n_ImageNet_classes=2<br>n_points_per_ImageNet_class=%{x}<br>R@10=%{y}<br>text=%{text}<extra></extra>",
         "legendgroup": "agglomerative, centroid",
         "line": {
          "color": "#EF553B",
          "dash": "solid"
         },
         "marker": {
          "symbol": "circle"
         },
         "mode": "text+lines+markers",
         "name": "agglomerative, centroid",
         "orientation": "v",
         "showlegend": false,
         "text": [
          "0.64",
          "0.52",
          "0.8",
          "0.8"
         ],
         "textposition": "bottom center",
         "type": "scatter",
         "x": [
          "5",
          "10",
          "20",
          "30"
         ],
         "xaxis": "x8",
         "y": [
          0.64,
          0.52,
          0.8,
          0.8
         ],
         "yaxis": "y8"
        },
        {
         "hovertemplate": "clustering=agglomerative<br>representative=centroid<br>proj=None<br>n_ImageNet_classes=5<br>n_points_per_ImageNet_class=%{x}<br>R@10=%{y}<br>text=%{text}<extra></extra>",
         "legendgroup": "agglomerative, centroid",
         "line": {
          "color": "#EF553B",
          "dash": "solid"
         },
         "marker": {
          "symbol": "circle"
         },
         "mode": "text+lines+markers",
         "name": "agglomerative, centroid",
         "orientation": "v",
         "showlegend": false,
         "text": [
          "0.36",
          "0.48",
          "0.36",
          "0.48"
         ],
         "textposition": "bottom center",
         "type": "scatter",
         "x": [
          "5",
          "10",
          "20",
          "30"
         ],
         "xaxis": "x9",
         "y": [
          0.36,
          0.48,
          0.36,
          0.48
         ],
         "yaxis": "y9"
        },
        {
         "hovertemplate": "clustering=agglomerative<br>representative=centroid<br>proj=pca<br>n_ImageNet_classes=1<br>n_points_per_ImageNet_class=%{x}<br>R@10=%{y}<br>text=%{text}<extra></extra>",
         "legendgroup": "agglomerative, centroid",
         "line": {
          "color": "#EF553B",
          "dash": "solid"
         },
         "marker": {
          "symbol": "circle"
         },
         "mode": "text+lines+markers",
         "name": "agglomerative, centroid",
         "orientation": "v",
         "showlegend": false,
         "text": [
          "<b>0.92</b>",
          "<b>0.96</b>",
          "<b>0.92</b>",
          "<b>1.0</b>"
         ],
         "textposition": "bottom center",
         "type": "scatter",
         "x": [
          "5",
          "10",
          "20",
          "30"
         ],
         "xaxis": "x4",
         "y": [
          0.92,
          0.96,
          0.92,
          1
         ],
         "yaxis": "y4"
        },
        {
         "hovertemplate": "clustering=agglomerative<br>representative=centroid<br>proj=pca<br>n_ImageNet_classes=2<br>n_points_per_ImageNet_class=%{x}<br>R@10=%{y}<br>text=%{text}<extra></extra>",
         "legendgroup": "agglomerative, centroid",
         "line": {
          "color": "#EF553B",
          "dash": "solid"
         },
         "marker": {
          "symbol": "circle"
         },
         "mode": "text+lines+markers",
         "name": "agglomerative, centroid",
         "orientation": "v",
         "showlegend": false,
         "text": [
          "<b>0.88</b>",
          "<b>0.84</b>",
          "<b>0.96</b>",
          "<b>0.96</b>"
         ],
         "textposition": "bottom center",
         "type": "scatter",
         "x": [
          "5",
          "10",
          "20",
          "30"
         ],
         "xaxis": "x5",
         "y": [
          0.88,
          0.84,
          0.96,
          0.96
         ],
         "yaxis": "y5"
        },
        {
         "hovertemplate": "clustering=agglomerative<br>representative=centroid<br>proj=pca<br>n_ImageNet_classes=5<br>n_points_per_ImageNet_class=%{x}<br>R@10=%{y}<br>text=%{text}<extra></extra>",
         "legendgroup": "agglomerative, centroid",
         "line": {
          "color": "#EF553B",
          "dash": "solid"
         },
         "marker": {
          "symbol": "circle"
         },
         "mode": "text+lines+markers",
         "name": "agglomerative, centroid",
         "orientation": "v",
         "showlegend": false,
         "text": [
          "<b>0.96</b>",
          "<b>1.0</b>",
          "<b>0.96</b>",
          "<b>1.0</b>"
         ],
         "textposition": "bottom center",
         "type": "scatter",
         "x": [
          "5",
          "10",
          "20",
          "30"
         ],
         "xaxis": "x6",
         "y": [
          0.96,
          1,
          0.96,
          1
         ],
         "yaxis": "y6"
        },
        {
         "hovertemplate": "clustering=agglomerative<br>representative=centroid<br>proj=tsne<br>n_ImageNet_classes=1<br>n_points_per_ImageNet_class=%{x}<br>R@10=%{y}<br>text=%{text}<extra></extra>",
         "legendgroup": "agglomerative, centroid",
         "line": {
          "color": "#EF553B",
          "dash": "solid"
         },
         "marker": {
          "symbol": "circle"
         },
         "mode": "text+lines+markers",
         "name": "agglomerative, centroid",
         "orientation": "v",
         "showlegend": false,
         "text": [
          "0.92",
          "0.88",
          "0.96",
          "0.88"
         ],
         "textposition": "bottom center",
         "type": "scatter",
         "x": [
          "5",
          "10",
          "20",
          "30"
         ],
         "xaxis": "x",
         "y": [
          0.92,
          0.88,
          0.96,
          0.88
         ],
         "yaxis": "y"
        },
        {
         "hovertemplate": "clustering=agglomerative<br>representative=centroid<br>proj=tsne<br>n_ImageNet_classes=2<br>n_points_per_ImageNet_class=%{x}<br>R@10=%{y}<br>text=%{text}<extra></extra>",
         "legendgroup": "agglomerative, centroid",
         "line": {
          "color": "#EF553B",
          "dash": "solid"
         },
         "marker": {
          "symbol": "circle"
         },
         "mode": "text+lines+markers",
         "name": "agglomerative, centroid",
         "orientation": "v",
         "showlegend": false,
         "text": [
          "0.92",
          "0.92",
          "0.92",
          "0.92"
         ],
         "textposition": "bottom center",
         "type": "scatter",
         "x": [
          "5",
          "10",
          "20",
          "30"
         ],
         "xaxis": "x2",
         "y": [
          0.92,
          0.92,
          0.92,
          0.92
         ],
         "yaxis": "y2"
        },
        {
         "hovertemplate": "clustering=agglomerative<br>representative=centroid<br>proj=tsne<br>n_ImageNet_classes=5<br>n_points_per_ImageNet_class=%{x}<br>R@10=%{y}<br>text=%{text}<extra></extra>",
         "legendgroup": "agglomerative, centroid",
         "line": {
          "color": "#EF553B",
          "dash": "solid"
         },
         "marker": {
          "symbol": "circle"
         },
         "mode": "text+lines+markers",
         "name": "agglomerative, centroid",
         "orientation": "v",
         "showlegend": false,
         "text": [
          "0.96",
          "0.8",
          "1.0",
          "0.96"
         ],
         "textposition": "bottom center",
         "type": "scatter",
         "x": [
          "5",
          "10",
          "20",
          "30"
         ],
         "xaxis": "x3",
         "y": [
          0.96,
          0.8,
          1,
          0.96
         ],
         "yaxis": "y3"
        },
        {
         "hovertemplate": "clustering=agglomerative<br>representative=medoid<br>proj=None<br>n_ImageNet_classes=1<br>n_points_per_ImageNet_class=%{x}<br>R@10=%{y}<br>text=%{text}<extra></extra>",
         "legendgroup": "agglomerative, medoid",
         "line": {
          "color": "#EF553B",
          "dash": "dot"
         },
         "marker": {
          "symbol": "circle"
         },
         "mode": "text+lines+markers",
         "name": "agglomerative, medoid",
         "orientation": "v",
         "showlegend": true,
         "text": [
          "",
          "",
          "",
          ""
         ],
         "textposition": "bottom center",
         "type": "scatter",
         "x": [
          "5",
          "10",
          "20",
          "30"
         ],
         "xaxis": "x7",
         "y": [
          0.88,
          0.84,
          0.96,
          0.8
         ],
         "yaxis": "y7"
        },
        {
         "hovertemplate": "clustering=agglomerative<br>representative=medoid<br>proj=None<br>n_ImageNet_classes=2<br>n_points_per_ImageNet_class=%{x}<br>R@10=%{y}<br>text=%{text}<extra></extra>",
         "legendgroup": "agglomerative, medoid",
         "line": {
          "color": "#EF553B",
          "dash": "dot"
         },
         "marker": {
          "symbol": "circle"
         },
         "mode": "text+lines+markers",
         "name": "agglomerative, medoid",
         "orientation": "v",
         "showlegend": false,
         "text": [
          "",
          "",
          "",
          ""
         ],
         "textposition": "bottom center",
         "type": "scatter",
         "x": [
          "5",
          "10",
          "20",
          "30"
         ],
         "xaxis": "x8",
         "y": [
          0.32,
          0.44,
          0.56,
          0.48
         ],
         "yaxis": "y8"
        },
        {
         "hovertemplate": "clustering=agglomerative<br>representative=medoid<br>proj=None<br>n_ImageNet_classes=5<br>n_points_per_ImageNet_class=%{x}<br>R@10=%{y}<br>text=%{text}<extra></extra>",
         "legendgroup": "agglomerative, medoid",
         "line": {
          "color": "#EF553B",
          "dash": "dot"
         },
         "marker": {
          "symbol": "circle"
         },
         "mode": "text+lines+markers",
         "name": "agglomerative, medoid",
         "orientation": "v",
         "showlegend": false,
         "text": [
          "",
          "",
          "",
          ""
         ],
         "textposition": "bottom center",
         "type": "scatter",
         "x": [
          "5",
          "10",
          "20",
          "30"
         ],
         "xaxis": "x9",
         "y": [
          0.2,
          0.16,
          0.24,
          0.32
         ],
         "yaxis": "y9"
        },
        {
         "hovertemplate": "clustering=agglomerative<br>representative=medoid<br>proj=pca<br>n_ImageNet_classes=1<br>n_points_per_ImageNet_class=%{x}<br>R@10=%{y}<br>text=%{text}<extra></extra>",
         "legendgroup": "agglomerative, medoid",
         "line": {
          "color": "#EF553B",
          "dash": "dot"
         },
         "marker": {
          "symbol": "circle"
         },
         "mode": "text+lines+markers",
         "name": "agglomerative, medoid",
         "orientation": "v",
         "showlegend": false,
         "text": [
          "",
          "",
          "",
          ""
         ],
         "textposition": "bottom center",
         "type": "scatter",
         "x": [
          "5",
          "10",
          "20",
          "30"
         ],
         "xaxis": "x4",
         "y": [
          0.92,
          0.96,
          1,
          0.96
         ],
         "yaxis": "y4"
        },
        {
         "hovertemplate": "clustering=agglomerative<br>representative=medoid<br>proj=pca<br>n_ImageNet_classes=2<br>n_points_per_ImageNet_class=%{x}<br>R@10=%{y}<br>text=%{text}<extra></extra>",
         "legendgroup": "agglomerative, medoid",
         "line": {
          "color": "#EF553B",
          "dash": "dot"
         },
         "marker": {
          "symbol": "circle"
         },
         "mode": "text+lines+markers",
         "name": "agglomerative, medoid",
         "orientation": "v",
         "showlegend": false,
         "text": [
          "",
          "",
          "",
          ""
         ],
         "textposition": "bottom center",
         "type": "scatter",
         "x": [
          "5",
          "10",
          "20",
          "30"
         ],
         "xaxis": "x5",
         "y": [
          0.92,
          0.92,
          0.96,
          0.92
         ],
         "yaxis": "y5"
        },
        {
         "hovertemplate": "clustering=agglomerative<br>representative=medoid<br>proj=pca<br>n_ImageNet_classes=5<br>n_points_per_ImageNet_class=%{x}<br>R@10=%{y}<br>text=%{text}<extra></extra>",
         "legendgroup": "agglomerative, medoid",
         "line": {
          "color": "#EF553B",
          "dash": "dot"
         },
         "marker": {
          "symbol": "circle"
         },
         "mode": "text+lines+markers",
         "name": "agglomerative, medoid",
         "orientation": "v",
         "showlegend": false,
         "text": [
          "",
          "",
          "",
          ""
         ],
         "textposition": "bottom center",
         "type": "scatter",
         "x": [
          "5",
          "10",
          "20",
          "30"
         ],
         "xaxis": "x6",
         "y": [
          0.96,
          1,
          1,
          1
         ],
         "yaxis": "y6"
        },
        {
         "hovertemplate": "clustering=agglomerative<br>representative=medoid<br>proj=tsne<br>n_ImageNet_classes=1<br>n_points_per_ImageNet_class=%{x}<br>R@10=%{y}<br>text=%{text}<extra></extra>",
         "legendgroup": "agglomerative, medoid",
         "line": {
          "color": "#EF553B",
          "dash": "dot"
         },
         "marker": {
          "symbol": "circle"
         },
         "mode": "text+lines+markers",
         "name": "agglomerative, medoid",
         "orientation": "v",
         "showlegend": false,
         "text": [
          "",
          "",
          "",
          ""
         ],
         "textposition": "bottom center",
         "type": "scatter",
         "x": [
          "5",
          "10",
          "20",
          "30"
         ],
         "xaxis": "x",
         "y": [
          0.92,
          0.92,
          0.92,
          0.92
         ],
         "yaxis": "y"
        },
        {
         "hovertemplate": "clustering=agglomerative<br>representative=medoid<br>proj=tsne<br>n_ImageNet_classes=2<br>n_points_per_ImageNet_class=%{x}<br>R@10=%{y}<br>text=%{text}<extra></extra>",
         "legendgroup": "agglomerative, medoid",
         "line": {
          "color": "#EF553B",
          "dash": "dot"
         },
         "marker": {
          "symbol": "circle"
         },
         "mode": "text+lines+markers",
         "name": "agglomerative, medoid",
         "orientation": "v",
         "showlegend": false,
         "text": [
          "",
          "",
          "",
          ""
         ],
         "textposition": "bottom center",
         "type": "scatter",
         "x": [
          "5",
          "10",
          "20",
          "30"
         ],
         "xaxis": "x2",
         "y": [
          0.88,
          0.88,
          0.76,
          0.84
         ],
         "yaxis": "y2"
        },
        {
         "hovertemplate": "clustering=agglomerative<br>representative=medoid<br>proj=tsne<br>n_ImageNet_classes=5<br>n_points_per_ImageNet_class=%{x}<br>R@10=%{y}<br>text=%{text}<extra></extra>",
         "legendgroup": "agglomerative, medoid",
         "line": {
          "color": "#EF553B",
          "dash": "dot"
         },
         "marker": {
          "symbol": "circle"
         },
         "mode": "text+lines+markers",
         "name": "agglomerative, medoid",
         "orientation": "v",
         "showlegend": false,
         "text": [
          "",
          "",
          "",
          ""
         ],
         "textposition": "bottom center",
         "type": "scatter",
         "x": [
          "5",
          "10",
          "20",
          "30"
         ],
         "xaxis": "x3",
         "y": [
          0.8,
          0.92,
          0.84,
          0.96
         ],
         "yaxis": "y3"
        }
       ],
       "layout": {
        "annotations": [
         {
          "font": {},
          "showarrow": false,
          "text": "n_ImageNet_classes=1",
          "x": 0.15666666666666665,
          "xanchor": "center",
          "xref": "paper",
          "y": 0.9999999999999998,
          "yanchor": "bottom",
          "yref": "paper"
         },
         {
          "font": {},
          "showarrow": false,
          "text": "n_ImageNet_classes=2",
          "x": 0.49,
          "xanchor": "center",
          "xref": "paper",
          "y": 0.9999999999999998,
          "yanchor": "bottom",
          "yref": "paper"
         },
         {
          "font": {},
          "showarrow": false,
          "text": "n_ImageNet_classes=5",
          "x": 0.8233333333333333,
          "xanchor": "center",
          "xref": "paper",
          "y": 0.9999999999999998,
          "yanchor": "bottom",
          "yref": "paper"
         },
         {
          "font": {},
          "showarrow": false,
          "text": "proj=tsne",
          "textangle": 90,
          "x": 0.98,
          "xanchor": "left",
          "xref": "paper",
          "y": 0.15666666666666665,
          "yanchor": "middle",
          "yref": "paper"
         },
         {
          "font": {},
          "showarrow": false,
          "text": "proj=pca",
          "textangle": 90,
          "x": 0.98,
          "xanchor": "left",
          "xref": "paper",
          "y": 0.4999999999999999,
          "yanchor": "middle",
          "yref": "paper"
         },
         {
          "font": {},
          "showarrow": false,
          "text": "proj=None",
          "textangle": 90,
          "x": 0.98,
          "xanchor": "left",
          "xref": "paper",
          "y": 0.8433333333333332,
          "yanchor": "middle",
          "yref": "paper"
         }
        ],
        "autosize": false,
        "font": {
         "size": 20
        },
        "height": 1200,
        "legend": {
         "title": {
          "text": "clustering, representative"
         },
         "tracegroupgap": 0
        },
        "margin": {
         "t": 60
        },
        "showlegend": true,
        "template": {
         "data": {
          "bar": [
           {
            "error_x": {
             "color": "#2a3f5f"
            },
            "error_y": {
             "color": "#2a3f5f"
            },
            "marker": {
             "line": {
              "color": "#E5ECF6",
              "width": 0.5
             },
             "pattern": {
              "fillmode": "overlay",
              "size": 10,
              "solidity": 0.2
             }
            },
            "type": "bar"
           }
          ],
          "barpolar": [
           {
            "marker": {
             "line": {
              "color": "#E5ECF6",
              "width": 0.5
             },
             "pattern": {
              "fillmode": "overlay",
              "size": 10,
              "solidity": 0.2
             }
            },
            "type": "barpolar"
           }
          ],
          "carpet": [
           {
            "aaxis": {
             "endlinecolor": "#2a3f5f",
             "gridcolor": "white",
             "linecolor": "white",
             "minorgridcolor": "white",
             "startlinecolor": "#2a3f5f"
            },
            "baxis": {
             "endlinecolor": "#2a3f5f",
             "gridcolor": "white",
             "linecolor": "white",
             "minorgridcolor": "white",
             "startlinecolor": "#2a3f5f"
            },
            "type": "carpet"
           }
          ],
          "choropleth": [
           {
            "colorbar": {
             "outlinewidth": 0,
             "ticks": ""
            },
            "type": "choropleth"
           }
          ],
          "contour": [
           {
            "colorbar": {
             "outlinewidth": 0,
             "ticks": ""
            },
            "colorscale": [
             [
              0,
              "#0d0887"
             ],
             [
              0.1111111111111111,
              "#46039f"
             ],
             [
              0.2222222222222222,
              "#7201a8"
             ],
             [
              0.3333333333333333,
              "#9c179e"
             ],
             [
              0.4444444444444444,
              "#bd3786"
             ],
             [
              0.5555555555555556,
              "#d8576b"
             ],
             [
              0.6666666666666666,
              "#ed7953"
             ],
             [
              0.7777777777777778,
              "#fb9f3a"
             ],
             [
              0.8888888888888888,
              "#fdca26"
             ],
             [
              1,
              "#f0f921"
             ]
            ],
            "type": "contour"
           }
          ],
          "contourcarpet": [
           {
            "colorbar": {
             "outlinewidth": 0,
             "ticks": ""
            },
            "type": "contourcarpet"
           }
          ],
          "heatmap": [
           {
            "colorbar": {
             "outlinewidth": 0,
             "ticks": ""
            },
            "colorscale": [
             [
              0,
              "#0d0887"
             ],
             [
              0.1111111111111111,
              "#46039f"
             ],
             [
              0.2222222222222222,
              "#7201a8"
             ],
             [
              0.3333333333333333,
              "#9c179e"
             ],
             [
              0.4444444444444444,
              "#bd3786"
             ],
             [
              0.5555555555555556,
              "#d8576b"
             ],
             [
              0.6666666666666666,
              "#ed7953"
             ],
             [
              0.7777777777777778,
              "#fb9f3a"
             ],
             [
              0.8888888888888888,
              "#fdca26"
             ],
             [
              1,
              "#f0f921"
             ]
            ],
            "type": "heatmap"
           }
          ],
          "heatmapgl": [
           {
            "colorbar": {
             "outlinewidth": 0,
             "ticks": ""
            },
            "colorscale": [
             [
              0,
              "#0d0887"
             ],
             [
              0.1111111111111111,
              "#46039f"
             ],
             [
              0.2222222222222222,
              "#7201a8"
             ],
             [
              0.3333333333333333,
              "#9c179e"
             ],
             [
              0.4444444444444444,
              "#bd3786"
             ],
             [
              0.5555555555555556,
              "#d8576b"
             ],
             [
              0.6666666666666666,
              "#ed7953"
             ],
             [
              0.7777777777777778,
              "#fb9f3a"
             ],
             [
              0.8888888888888888,
              "#fdca26"
             ],
             [
              1,
              "#f0f921"
             ]
            ],
            "type": "heatmapgl"
           }
          ],
          "histogram": [
           {
            "marker": {
             "pattern": {
              "fillmode": "overlay",
              "size": 10,
              "solidity": 0.2
             }
            },
            "type": "histogram"
           }
          ],
          "histogram2d": [
           {
            "colorbar": {
             "outlinewidth": 0,
             "ticks": ""
            },
            "colorscale": [
             [
              0,
              "#0d0887"
             ],
             [
              0.1111111111111111,
              "#46039f"
             ],
             [
              0.2222222222222222,
              "#7201a8"
             ],
             [
              0.3333333333333333,
              "#9c179e"
             ],
             [
              0.4444444444444444,
              "#bd3786"
             ],
             [
              0.5555555555555556,
              "#d8576b"
             ],
             [
              0.6666666666666666,
              "#ed7953"
             ],
             [
              0.7777777777777778,
              "#fb9f3a"
             ],
             [
              0.8888888888888888,
              "#fdca26"
             ],
             [
              1,
              "#f0f921"
             ]
            ],
            "type": "histogram2d"
           }
          ],
          "histogram2dcontour": [
           {
            "colorbar": {
             "outlinewidth": 0,
             "ticks": ""
            },
            "colorscale": [
             [
              0,
              "#0d0887"
             ],
             [
              0.1111111111111111,
              "#46039f"
             ],
             [
              0.2222222222222222,
              "#7201a8"
             ],
             [
              0.3333333333333333,
              "#9c179e"
             ],
             [
              0.4444444444444444,
              "#bd3786"
             ],
             [
              0.5555555555555556,
              "#d8576b"
             ],
             [
              0.6666666666666666,
              "#ed7953"
             ],
             [
              0.7777777777777778,
              "#fb9f3a"
             ],
             [
              0.8888888888888888,
              "#fdca26"
             ],
             [
              1,
              "#f0f921"
             ]
            ],
            "type": "histogram2dcontour"
           }
          ],
          "mesh3d": [
           {
            "colorbar": {
             "outlinewidth": 0,
             "ticks": ""
            },
            "type": "mesh3d"
           }
          ],
          "parcoords": [
           {
            "line": {
             "colorbar": {
              "outlinewidth": 0,
              "ticks": ""
             }
            },
            "type": "parcoords"
           }
          ],
          "pie": [
           {
            "automargin": true,
            "type": "pie"
           }
          ],
          "scatter": [
           {
            "marker": {
             "colorbar": {
              "outlinewidth": 0,
              "ticks": ""
             }
            },
            "type": "scatter"
           }
          ],
          "scatter3d": [
           {
            "line": {
             "colorbar": {
              "outlinewidth": 0,
              "ticks": ""
             }
            },
            "marker": {
             "colorbar": {
              "outlinewidth": 0,
              "ticks": ""
             }
            },
            "type": "scatter3d"
           }
          ],
          "scattercarpet": [
           {
            "marker": {
             "colorbar": {
              "outlinewidth": 0,
              "ticks": ""
             }
            },
            "type": "scattercarpet"
           }
          ],
          "scattergeo": [
           {
            "marker": {
             "colorbar": {
              "outlinewidth": 0,
              "ticks": ""
             }
            },
            "type": "scattergeo"
           }
          ],
          "scattergl": [
           {
            "marker": {
             "colorbar": {
              "outlinewidth": 0,
              "ticks": ""
             }
            },
            "type": "scattergl"
           }
          ],
          "scattermapbox": [
           {
            "marker": {
             "colorbar": {
              "outlinewidth": 0,
              "ticks": ""
             }
            },
            "type": "scattermapbox"
           }
          ],
          "scatterpolar": [
           {
            "marker": {
             "colorbar": {
              "outlinewidth": 0,
              "ticks": ""
             }
            },
            "type": "scatterpolar"
           }
          ],
          "scatterpolargl": [
           {
            "marker": {
             "colorbar": {
              "outlinewidth": 0,
              "ticks": ""
             }
            },
            "type": "scatterpolargl"
           }
          ],
          "scatterternary": [
           {
            "marker": {
             "colorbar": {
              "outlinewidth": 0,
              "ticks": ""
             }
            },
            "type": "scatterternary"
           }
          ],
          "surface": [
           {
            "colorbar": {
             "outlinewidth": 0,
             "ticks": ""
            },
            "colorscale": [
             [
              0,
              "#0d0887"
             ],
             [
              0.1111111111111111,
              "#46039f"
             ],
             [
              0.2222222222222222,
              "#7201a8"
             ],
             [
              0.3333333333333333,
              "#9c179e"
             ],
             [
              0.4444444444444444,
              "#bd3786"
             ],
             [
              0.5555555555555556,
              "#d8576b"
             ],
             [
              0.6666666666666666,
              "#ed7953"
             ],
             [
              0.7777777777777778,
              "#fb9f3a"
             ],
             [
              0.8888888888888888,
              "#fdca26"
             ],
             [
              1,
              "#f0f921"
             ]
            ],
            "type": "surface"
           }
          ],
          "table": [
           {
            "cells": {
             "fill": {
              "color": "#EBF0F8"
             },
             "line": {
              "color": "white"
             }
            },
            "header": {
             "fill": {
              "color": "#C8D4E3"
             },
             "line": {
              "color": "white"
             }
            },
            "type": "table"
           }
          ]
         },
         "layout": {
          "annotationdefaults": {
           "arrowcolor": "#2a3f5f",
           "arrowhead": 0,
           "arrowwidth": 1
          },
          "autotypenumbers": "strict",
          "coloraxis": {
           "colorbar": {
            "outlinewidth": 0,
            "ticks": ""
           }
          },
          "colorscale": {
           "diverging": [
            [
             0,
             "#8e0152"
            ],
            [
             0.1,
             "#c51b7d"
            ],
            [
             0.2,
             "#de77ae"
            ],
            [
             0.3,
             "#f1b6da"
            ],
            [
             0.4,
             "#fde0ef"
            ],
            [
             0.5,
             "#f7f7f7"
            ],
            [
             0.6,
             "#e6f5d0"
            ],
            [
             0.7,
             "#b8e186"
            ],
            [
             0.8,
             "#7fbc41"
            ],
            [
             0.9,
             "#4d9221"
            ],
            [
             1,
             "#276419"
            ]
           ],
           "sequential": [
            [
             0,
             "#0d0887"
            ],
            [
             0.1111111111111111,
             "#46039f"
            ],
            [
             0.2222222222222222,
             "#7201a8"
            ],
            [
             0.3333333333333333,
             "#9c179e"
            ],
            [
             0.4444444444444444,
             "#bd3786"
            ],
            [
             0.5555555555555556,
             "#d8576b"
            ],
            [
             0.6666666666666666,
             "#ed7953"
            ],
            [
             0.7777777777777778,
             "#fb9f3a"
            ],
            [
             0.8888888888888888,
             "#fdca26"
            ],
            [
             1,
             "#f0f921"
            ]
           ],
           "sequentialminus": [
            [
             0,
             "#0d0887"
            ],
            [
             0.1111111111111111,
             "#46039f"
            ],
            [
             0.2222222222222222,
             "#7201a8"
            ],
            [
             0.3333333333333333,
             "#9c179e"
            ],
            [
             0.4444444444444444,
             "#bd3786"
            ],
            [
             0.5555555555555556,
             "#d8576b"
            ],
            [
             0.6666666666666666,
             "#ed7953"
            ],
            [
             0.7777777777777778,
             "#fb9f3a"
            ],
            [
             0.8888888888888888,
             "#fdca26"
            ],
            [
             1,
             "#f0f921"
            ]
           ]
          },
          "colorway": [
           "#636efa",
           "#EF553B",
           "#00cc96",
           "#ab63fa",
           "#FFA15A",
           "#19d3f3",
           "#FF6692",
           "#B6E880",
           "#FF97FF",
           "#FECB52"
          ],
          "font": {
           "color": "#2a3f5f"
          },
          "geo": {
           "bgcolor": "white",
           "lakecolor": "white",
           "landcolor": "#E5ECF6",
           "showlakes": true,
           "showland": true,
           "subunitcolor": "white"
          },
          "hoverlabel": {
           "align": "left"
          },
          "hovermode": "closest",
          "mapbox": {
           "style": "light"
          },
          "paper_bgcolor": "white",
          "plot_bgcolor": "#E5ECF6",
          "polar": {
           "angularaxis": {
            "gridcolor": "white",
            "linecolor": "white",
            "ticks": ""
           },
           "bgcolor": "#E5ECF6",
           "radialaxis": {
            "gridcolor": "white",
            "linecolor": "white",
            "ticks": ""
           }
          },
          "scene": {
           "xaxis": {
            "backgroundcolor": "#E5ECF6",
            "gridcolor": "white",
            "gridwidth": 2,
            "linecolor": "white",
            "showbackground": true,
            "ticks": "",
            "zerolinecolor": "white"
           },
           "yaxis": {
            "backgroundcolor": "#E5ECF6",
            "gridcolor": "white",
            "gridwidth": 2,
            "linecolor": "white",
            "showbackground": true,
            "ticks": "",
            "zerolinecolor": "white"
           },
           "zaxis": {
            "backgroundcolor": "#E5ECF6",
            "gridcolor": "white",
            "gridwidth": 2,
            "linecolor": "white",
            "showbackground": true,
            "ticks": "",
            "zerolinecolor": "white"
           }
          },
          "shapedefaults": {
           "line": {
            "color": "#2a3f5f"
           }
          },
          "ternary": {
           "aaxis": {
            "gridcolor": "white",
            "linecolor": "white",
            "ticks": ""
           },
           "baxis": {
            "gridcolor": "white",
            "linecolor": "white",
            "ticks": ""
           },
           "bgcolor": "#E5ECF6",
           "caxis": {
            "gridcolor": "white",
            "linecolor": "white",
            "ticks": ""
           }
          },
          "title": {
           "x": 0.05
          },
          "xaxis": {
           "automargin": true,
           "gridcolor": "white",
           "linecolor": "white",
           "ticks": "",
           "title": {
            "standoff": 15
           },
           "zerolinecolor": "white",
           "zerolinewidth": 2
          },
          "yaxis": {
           "automargin": true,
           "gridcolor": "white",
           "linecolor": "white",
           "ticks": "",
           "title": {
            "standoff": 15
           },
           "zerolinecolor": "white",
           "zerolinewidth": 2
          }
         }
        },
        "width": 1700,
        "xaxis": {
         "anchor": "y",
         "domain": [
          0,
          0.3133333333333333
         ],
         "title": {
          "text": "n_points_per_ImageNet_class"
         }
        },
        "xaxis2": {
         "anchor": "y2",
         "domain": [
          0.3333333333333333,
          0.6466666666666666
         ],
         "matches": "x",
         "title": {
          "text": "n_points_per_ImageNet_class"
         }
        },
        "xaxis3": {
         "anchor": "y3",
         "domain": [
          0.6666666666666666,
          0.98
         ],
         "matches": "x",
         "title": {
          "text": "n_points_per_ImageNet_class"
         }
        },
        "xaxis4": {
         "anchor": "y4",
         "domain": [
          0,
          0.3133333333333333
         ],
         "matches": "x",
         "showticklabels": false
        },
        "xaxis5": {
         "anchor": "y5",
         "domain": [
          0.3333333333333333,
          0.6466666666666666
         ],
         "matches": "x",
         "showticklabels": false
        },
        "xaxis6": {
         "anchor": "y6",
         "domain": [
          0.6666666666666666,
          0.98
         ],
         "matches": "x",
         "showticklabels": false
        },
        "xaxis7": {
         "anchor": "y7",
         "domain": [
          0,
          0.3133333333333333
         ],
         "matches": "x",
         "showticklabels": false
        },
        "xaxis8": {
         "anchor": "y8",
         "domain": [
          0.3333333333333333,
          0.6466666666666666
         ],
         "matches": "x",
         "showticklabels": false
        },
        "xaxis9": {
         "anchor": "y9",
         "domain": [
          0.6666666666666666,
          0.98
         ],
         "matches": "x",
         "showticklabels": false
        },
        "yaxis": {
         "anchor": "x",
         "domain": [
          0,
          0.3133333333333333
         ],
         "range": [
          -0.2,
          1.2
         ],
         "title": {
          "text": "R@10"
         }
        },
        "yaxis2": {
         "anchor": "x2",
         "domain": [
          0,
          0.3133333333333333
         ],
         "matches": "y",
         "showticklabels": false
        },
        "yaxis3": {
         "anchor": "x3",
         "domain": [
          0,
          0.3133333333333333
         ],
         "matches": "y",
         "showticklabels": false
        },
        "yaxis4": {
         "anchor": "x4",
         "domain": [
          0.34333333333333327,
          0.6566666666666665
         ],
         "matches": "y",
         "title": {
          "text": "R@10"
         }
        },
        "yaxis5": {
         "anchor": "x5",
         "domain": [
          0.34333333333333327,
          0.6566666666666665
         ],
         "matches": "y",
         "showticklabels": false
        },
        "yaxis6": {
         "anchor": "x6",
         "domain": [
          0.34333333333333327,
          0.6566666666666665
         ],
         "matches": "y",
         "showticklabels": false
        },
        "yaxis7": {
         "anchor": "x7",
         "domain": [
          0.6866666666666665,
          0.9999999999999998
         ],
         "matches": "y",
         "title": {
          "text": "R@10"
         }
        },
        "yaxis8": {
         "anchor": "x8",
         "domain": [
          0.6866666666666665,
          0.9999999999999998
         ],
         "matches": "y",
         "showticklabels": false
        },
        "yaxis9": {
         "anchor": "x9",
         "domain": [
          0.6866666666666665,
          0.9999999999999998
         ],
         "matches": "y",
         "showticklabels": false
        }
       }
      },
      "text/html": [
       "<div>                            <div id=\"2385205a-cf8d-4e5c-890e-c6367ec963af\" class=\"plotly-graph-div\" style=\"height:1200px; width:1700px;\"></div>            <script type=\"text/javascript\">                require([\"plotly\"], function(Plotly) {                    window.PLOTLYENV=window.PLOTLYENV || {};                                    if (document.getElementById(\"2385205a-cf8d-4e5c-890e-c6367ec963af\")) {                    Plotly.newPlot(                        \"2385205a-cf8d-4e5c-890e-c6367ec963af\",                        [{\"hovertemplate\":\"clustering=hdbscan<br>representative=centroid<br>proj=None<br>n_ImageNet_classes=1<br>n_points_per_ImageNet_class=%{x}<br>R@10=%{y}<br>text=%{text}<extra></extra>\",\"legendgroup\":\"hdbscan, centroid\",\"line\":{\"color\":\"#636efa\",\"dash\":\"solid\"},\"marker\":{\"symbol\":\"circle\"},\"mode\":\"text+lines+markers\",\"name\":\"hdbscan, centroid\",\"orientation\":\"v\",\"showlegend\":true,\"text\":[\"0.0\",\"0.0\",\"0.04\",\"0.0\"],\"x\":[\"5\",\"10\",\"20\",\"30\"],\"xaxis\":\"x7\",\"y\":[0.0,0.0,0.04,0.0],\"yaxis\":\"y7\",\"type\":\"scatter\",\"textposition\":\"bottom center\"},{\"hovertemplate\":\"clustering=hdbscan<br>representative=centroid<br>proj=None<br>n_ImageNet_classes=2<br>n_points_per_ImageNet_class=%{x}<br>R@10=%{y}<br>text=%{text}<extra></extra>\",\"legendgroup\":\"hdbscan, centroid\",\"line\":{\"color\":\"#636efa\",\"dash\":\"solid\"},\"marker\":{\"symbol\":\"circle\"},\"mode\":\"text+lines+markers\",\"name\":\"hdbscan, centroid\",\"orientation\":\"v\",\"showlegend\":false,\"text\":[\"0.0\",\"0.6\",\"0.92\",\"0.88\"],\"x\":[\"5\",\"10\",\"20\",\"30\"],\"xaxis\":\"x8\",\"y\":[0.0,0.6,0.92,0.88],\"yaxis\":\"y8\",\"type\":\"scatter\",\"textposition\":\"bottom center\"},{\"hovertemplate\":\"clustering=hdbscan<br>representative=centroid<br>proj=None<br>n_ImageNet_classes=5<br>n_points_per_ImageNet_class=%{x}<br>R@10=%{y}<br>text=%{text}<extra></extra>\",\"legendgroup\":\"hdbscan, centroid\",\"line\":{\"color\":\"#636efa\",\"dash\":\"solid\"},\"marker\":{\"symbol\":\"circle\"},\"mode\":\"text+lines+markers\",\"name\":\"hdbscan, centroid\",\"orientation\":\"v\",\"showlegend\":false,\"text\":[\"0.0\",\"0.64\",\"0.68\",\"0.48\"],\"x\":[\"5\",\"10\",\"20\",\"30\"],\"xaxis\":\"x9\",\"y\":[0.0,0.64,0.68,0.48],\"yaxis\":\"y9\",\"type\":\"scatter\",\"textposition\":\"bottom center\"},{\"hovertemplate\":\"clustering=hdbscan<br>representative=centroid<br>proj=pca<br>n_ImageNet_classes=1<br>n_points_per_ImageNet_class=%{x}<br>R@10=%{y}<br>text=%{text}<extra></extra>\",\"legendgroup\":\"hdbscan, centroid\",\"line\":{\"color\":\"#636efa\",\"dash\":\"solid\"},\"marker\":{\"symbol\":\"circle\"},\"mode\":\"text+lines+markers\",\"name\":\"hdbscan, centroid\",\"orientation\":\"v\",\"showlegend\":false,\"text\":[\"0.0\",\"0.0\",\"0.0\",\"0.08\"],\"x\":[\"5\",\"10\",\"20\",\"30\"],\"xaxis\":\"x4\",\"y\":[0.0,0.0,0.0,0.08],\"yaxis\":\"y4\",\"type\":\"scatter\",\"textposition\":\"bottom center\"},{\"hovertemplate\":\"clustering=hdbscan<br>representative=centroid<br>proj=pca<br>n_ImageNet_classes=2<br>n_points_per_ImageNet_class=%{x}<br>R@10=%{y}<br>text=%{text}<extra></extra>\",\"legendgroup\":\"hdbscan, centroid\",\"line\":{\"color\":\"#636efa\",\"dash\":\"solid\"},\"marker\":{\"symbol\":\"circle\"},\"mode\":\"text+lines+markers\",\"name\":\"hdbscan, centroid\",\"orientation\":\"v\",\"showlegend\":false,\"text\":[\"0.0\",\"0.64\",\"0.88\",\"0.84\"],\"x\":[\"5\",\"10\",\"20\",\"30\"],\"xaxis\":\"x5\",\"y\":[0.0,0.64,0.88,0.84],\"yaxis\":\"y5\",\"type\":\"scatter\",\"textposition\":\"bottom center\"},{\"hovertemplate\":\"clustering=hdbscan<br>representative=centroid<br>proj=pca<br>n_ImageNet_classes=5<br>n_points_per_ImageNet_class=%{x}<br>R@10=%{y}<br>text=%{text}<extra></extra>\",\"legendgroup\":\"hdbscan, centroid\",\"line\":{\"color\":\"#636efa\",\"dash\":\"solid\"},\"marker\":{\"symbol\":\"circle\"},\"mode\":\"text+lines+markers\",\"name\":\"hdbscan, centroid\",\"orientation\":\"v\",\"showlegend\":false,\"text\":[\"0.0\",\"0.68\",\"0.88\",\"0.88\"],\"x\":[\"5\",\"10\",\"20\",\"30\"],\"xaxis\":\"x6\",\"y\":[0.0,0.68,0.88,0.88],\"yaxis\":\"y6\",\"type\":\"scatter\",\"textposition\":\"bottom center\"},{\"hovertemplate\":\"clustering=hdbscan<br>representative=centroid<br>proj=tsne<br>n_ImageNet_classes=1<br>n_points_per_ImageNet_class=%{x}<br>R@10=%{y}<br>text=%{text}<extra></extra>\",\"legendgroup\":\"hdbscan, centroid\",\"line\":{\"color\":\"#636efa\",\"dash\":\"solid\"},\"marker\":{\"symbol\":\"circle\"},\"mode\":\"text+lines+markers\",\"name\":\"hdbscan, centroid\",\"orientation\":\"v\",\"showlegend\":false,\"text\":[\"0.0\",\"0.0\",\"0.0\",\"0.48\"],\"x\":[\"5\",\"10\",\"20\",\"30\"],\"xaxis\":\"x\",\"y\":[0.0,0.0,0.0,0.48],\"yaxis\":\"y\",\"type\":\"scatter\",\"textposition\":\"bottom center\"},{\"hovertemplate\":\"clustering=hdbscan<br>representative=centroid<br>proj=tsne<br>n_ImageNet_classes=2<br>n_points_per_ImageNet_class=%{x}<br>R@10=%{y}<br>text=%{text}<extra></extra>\",\"legendgroup\":\"hdbscan, centroid\",\"line\":{\"color\":\"#636efa\",\"dash\":\"solid\"},\"marker\":{\"symbol\":\"circle\"},\"mode\":\"text+lines+markers\",\"name\":\"hdbscan, centroid\",\"orientation\":\"v\",\"showlegend\":false,\"text\":[\"0.0\",\"0.0\",\"0.8\",\"0.92\"],\"x\":[\"5\",\"10\",\"20\",\"30\"],\"xaxis\":\"x2\",\"y\":[0.0,0.0,0.8,0.92],\"yaxis\":\"y2\",\"type\":\"scatter\",\"textposition\":\"bottom center\"},{\"hovertemplate\":\"clustering=hdbscan<br>representative=centroid<br>proj=tsne<br>n_ImageNet_classes=5<br>n_points_per_ImageNet_class=%{x}<br>R@10=%{y}<br>text=%{text}<extra></extra>\",\"legendgroup\":\"hdbscan, centroid\",\"line\":{\"color\":\"#636efa\",\"dash\":\"solid\"},\"marker\":{\"symbol\":\"circle\"},\"mode\":\"text+lines+markers\",\"name\":\"hdbscan, centroid\",\"orientation\":\"v\",\"showlegend\":false,\"text\":[\"0.0\",\"0.68\",\"0.72\",\"0.6\"],\"x\":[\"5\",\"10\",\"20\",\"30\"],\"xaxis\":\"x3\",\"y\":[0.0,0.68,0.72,0.6],\"yaxis\":\"y3\",\"type\":\"scatter\",\"textposition\":\"bottom center\"},{\"hovertemplate\":\"clustering=hdbscan<br>representative=medoid<br>proj=None<br>n_ImageNet_classes=1<br>n_points_per_ImageNet_class=%{x}<br>R@10=%{y}<br>text=%{text}<extra></extra>\",\"legendgroup\":\"hdbscan, medoid\",\"line\":{\"color\":\"#636efa\",\"dash\":\"dot\"},\"marker\":{\"symbol\":\"circle\"},\"mode\":\"text+lines+markers\",\"name\":\"hdbscan, medoid\",\"orientation\":\"v\",\"showlegend\":true,\"text\":[\"\",\"\",\"\",\"\"],\"x\":[\"5\",\"10\",\"20\",\"30\"],\"xaxis\":\"x7\",\"y\":[0.0,0.0,0.0,0.08],\"yaxis\":\"y7\",\"type\":\"scatter\",\"textposition\":\"bottom center\"},{\"hovertemplate\":\"clustering=hdbscan<br>representative=medoid<br>proj=None<br>n_ImageNet_classes=2<br>n_points_per_ImageNet_class=%{x}<br>R@10=%{y}<br>text=%{text}<extra></extra>\",\"legendgroup\":\"hdbscan, medoid\",\"line\":{\"color\":\"#636efa\",\"dash\":\"dot\"},\"marker\":{\"symbol\":\"circle\"},\"mode\":\"text+lines+markers\",\"name\":\"hdbscan, medoid\",\"orientation\":\"v\",\"showlegend\":false,\"text\":[\"\",\"\",\"\",\"\"],\"x\":[\"5\",\"10\",\"20\",\"30\"],\"xaxis\":\"x8\",\"y\":[0.0,0.64,0.72,0.8],\"yaxis\":\"y8\",\"type\":\"scatter\",\"textposition\":\"bottom center\"},{\"hovertemplate\":\"clustering=hdbscan<br>representative=medoid<br>proj=None<br>n_ImageNet_classes=5<br>n_points_per_ImageNet_class=%{x}<br>R@10=%{y}<br>text=%{text}<extra></extra>\",\"legendgroup\":\"hdbscan, medoid\",\"line\":{\"color\":\"#636efa\",\"dash\":\"dot\"},\"marker\":{\"symbol\":\"circle\"},\"mode\":\"text+lines+markers\",\"name\":\"hdbscan, medoid\",\"orientation\":\"v\",\"showlegend\":false,\"text\":[\"\",\"\",\"\",\"\"],\"x\":[\"5\",\"10\",\"20\",\"30\"],\"xaxis\":\"x9\",\"y\":[0.0,0.4,0.4,0.48],\"yaxis\":\"y9\",\"type\":\"scatter\",\"textposition\":\"bottom center\"},{\"hovertemplate\":\"clustering=hdbscan<br>representative=medoid<br>proj=pca<br>n_ImageNet_classes=1<br>n_points_per_ImageNet_class=%{x}<br>R@10=%{y}<br>text=%{text}<extra></extra>\",\"legendgroup\":\"hdbscan, medoid\",\"line\":{\"color\":\"#636efa\",\"dash\":\"dot\"},\"marker\":{\"symbol\":\"circle\"},\"mode\":\"text+lines+markers\",\"name\":\"hdbscan, medoid\",\"orientation\":\"v\",\"showlegend\":false,\"text\":[\"\",\"\",\"\",\"\"],\"x\":[\"5\",\"10\",\"20\",\"30\"],\"xaxis\":\"x4\",\"y\":[0.0,0.0,0.0,0.0],\"yaxis\":\"y4\",\"type\":\"scatter\",\"textposition\":\"bottom center\"},{\"hovertemplate\":\"clustering=hdbscan<br>representative=medoid<br>proj=pca<br>n_ImageNet_classes=2<br>n_points_per_ImageNet_class=%{x}<br>R@10=%{y}<br>text=%{text}<extra></extra>\",\"legendgroup\":\"hdbscan, medoid\",\"line\":{\"color\":\"#636efa\",\"dash\":\"dot\"},\"marker\":{\"symbol\":\"circle\"},\"mode\":\"text+lines+markers\",\"name\":\"hdbscan, medoid\",\"orientation\":\"v\",\"showlegend\":false,\"text\":[\"\",\"\",\"\",\"\"],\"x\":[\"5\",\"10\",\"20\",\"30\"],\"xaxis\":\"x5\",\"y\":[0.0,0.32,0.72,0.76],\"yaxis\":\"y5\",\"type\":\"scatter\",\"textposition\":\"bottom center\"},{\"hovertemplate\":\"clustering=hdbscan<br>representative=medoid<br>proj=pca<br>n_ImageNet_classes=5<br>n_points_per_ImageNet_class=%{x}<br>R@10=%{y}<br>text=%{text}<extra></extra>\",\"legendgroup\":\"hdbscan, medoid\",\"line\":{\"color\":\"#636efa\",\"dash\":\"dot\"},\"marker\":{\"symbol\":\"circle\"},\"mode\":\"text+lines+markers\",\"name\":\"hdbscan, medoid\",\"orientation\":\"v\",\"showlegend\":false,\"text\":[\"\",\"\",\"\",\"\"],\"x\":[\"5\",\"10\",\"20\",\"30\"],\"xaxis\":\"x6\",\"y\":[0.16,0.56,0.84,0.84],\"yaxis\":\"y6\",\"type\":\"scatter\",\"textposition\":\"bottom center\"},{\"hovertemplate\":\"clustering=hdbscan<br>representative=medoid<br>proj=tsne<br>n_ImageNet_classes=1<br>n_points_per_ImageNet_class=%{x}<br>R@10=%{y}<br>text=%{text}<extra></extra>\",\"legendgroup\":\"hdbscan, medoid\",\"line\":{\"color\":\"#636efa\",\"dash\":\"dot\"},\"marker\":{\"symbol\":\"circle\"},\"mode\":\"text+lines+markers\",\"name\":\"hdbscan, medoid\",\"orientation\":\"v\",\"showlegend\":false,\"text\":[\"\",\"\",\"\",\"\"],\"x\":[\"5\",\"10\",\"20\",\"30\"],\"xaxis\":\"x\",\"y\":[0.0,0.0,0.0,0.4],\"yaxis\":\"y\",\"type\":\"scatter\",\"textposition\":\"bottom center\"},{\"hovertemplate\":\"clustering=hdbscan<br>representative=medoid<br>proj=tsne<br>n_ImageNet_classes=2<br>n_points_per_ImageNet_class=%{x}<br>R@10=%{y}<br>text=%{text}<extra></extra>\",\"legendgroup\":\"hdbscan, medoid\",\"line\":{\"color\":\"#636efa\",\"dash\":\"dot\"},\"marker\":{\"symbol\":\"circle\"},\"mode\":\"text+lines+markers\",\"name\":\"hdbscan, medoid\",\"orientation\":\"v\",\"showlegend\":false,\"text\":[\"\",\"\",\"\",\"\"],\"x\":[\"5\",\"10\",\"20\",\"30\"],\"xaxis\":\"x2\",\"y\":[0.0,0.0,0.84,0.8],\"yaxis\":\"y2\",\"type\":\"scatter\",\"textposition\":\"bottom center\"},{\"hovertemplate\":\"clustering=hdbscan<br>representative=medoid<br>proj=tsne<br>n_ImageNet_classes=5<br>n_points_per_ImageNet_class=%{x}<br>R@10=%{y}<br>text=%{text}<extra></extra>\",\"legendgroup\":\"hdbscan, medoid\",\"line\":{\"color\":\"#636efa\",\"dash\":\"dot\"},\"marker\":{\"symbol\":\"circle\"},\"mode\":\"text+lines+markers\",\"name\":\"hdbscan, medoid\",\"orientation\":\"v\",\"showlegend\":false,\"text\":[\"\",\"\",\"\",\"\"],\"x\":[\"5\",\"10\",\"20\",\"30\"],\"xaxis\":\"x3\",\"y\":[0.08,0.44,0.44,0.44],\"yaxis\":\"y3\",\"type\":\"scatter\",\"textposition\":\"bottom center\"},{\"hovertemplate\":\"clustering=agglomerative<br>representative=centroid<br>proj=None<br>n_ImageNet_classes=1<br>n_points_per_ImageNet_class=%{x}<br>R@10=%{y}<br>text=%{text}<extra></extra>\",\"legendgroup\":\"agglomerative, centroid\",\"line\":{\"color\":\"#EF553B\",\"dash\":\"solid\"},\"marker\":{\"symbol\":\"circle\"},\"mode\":\"text+lines+markers\",\"name\":\"agglomerative, centroid\",\"orientation\":\"v\",\"showlegend\":true,\"text\":[\"0.84\",\"0.92\",\"0.92\",\"1.0\"],\"x\":[\"5\",\"10\",\"20\",\"30\"],\"xaxis\":\"x7\",\"y\":[0.84,0.92,0.92,1.0],\"yaxis\":\"y7\",\"type\":\"scatter\",\"textposition\":\"bottom center\"},{\"hovertemplate\":\"clustering=agglomerative<br>representative=centroid<br>proj=None<br>n_ImageNet_classes=2<br>n_points_per_ImageNet_class=%{x}<br>R@10=%{y}<br>text=%{text}<extra></extra>\",\"legendgroup\":\"agglomerative, centroid\",\"line\":{\"color\":\"#EF553B\",\"dash\":\"solid\"},\"marker\":{\"symbol\":\"circle\"},\"mode\":\"text+lines+markers\",\"name\":\"agglomerative, centroid\",\"orientation\":\"v\",\"showlegend\":false,\"text\":[\"0.64\",\"0.52\",\"0.8\",\"0.8\"],\"x\":[\"5\",\"10\",\"20\",\"30\"],\"xaxis\":\"x8\",\"y\":[0.64,0.52,0.8,0.8],\"yaxis\":\"y8\",\"type\":\"scatter\",\"textposition\":\"bottom center\"},{\"hovertemplate\":\"clustering=agglomerative<br>representative=centroid<br>proj=None<br>n_ImageNet_classes=5<br>n_points_per_ImageNet_class=%{x}<br>R@10=%{y}<br>text=%{text}<extra></extra>\",\"legendgroup\":\"agglomerative, centroid\",\"line\":{\"color\":\"#EF553B\",\"dash\":\"solid\"},\"marker\":{\"symbol\":\"circle\"},\"mode\":\"text+lines+markers\",\"name\":\"agglomerative, centroid\",\"orientation\":\"v\",\"showlegend\":false,\"text\":[\"0.36\",\"0.48\",\"0.36\",\"0.48\"],\"x\":[\"5\",\"10\",\"20\",\"30\"],\"xaxis\":\"x9\",\"y\":[0.36,0.48,0.36,0.48],\"yaxis\":\"y9\",\"type\":\"scatter\",\"textposition\":\"bottom center\"},{\"hovertemplate\":\"clustering=agglomerative<br>representative=centroid<br>proj=pca<br>n_ImageNet_classes=1<br>n_points_per_ImageNet_class=%{x}<br>R@10=%{y}<br>text=%{text}<extra></extra>\",\"legendgroup\":\"agglomerative, centroid\",\"line\":{\"color\":\"#EF553B\",\"dash\":\"solid\"},\"marker\":{\"symbol\":\"circle\"},\"mode\":\"text+lines+markers\",\"name\":\"agglomerative, centroid\",\"orientation\":\"v\",\"showlegend\":false,\"text\":[\"<b>0.92</b>\",\"<b>0.96</b>\",\"<b>0.92</b>\",\"<b>1.0</b>\"],\"x\":[\"5\",\"10\",\"20\",\"30\"],\"xaxis\":\"x4\",\"y\":[0.92,0.96,0.92,1.0],\"yaxis\":\"y4\",\"type\":\"scatter\",\"textposition\":\"bottom center\"},{\"hovertemplate\":\"clustering=agglomerative<br>representative=centroid<br>proj=pca<br>n_ImageNet_classes=2<br>n_points_per_ImageNet_class=%{x}<br>R@10=%{y}<br>text=%{text}<extra></extra>\",\"legendgroup\":\"agglomerative, centroid\",\"line\":{\"color\":\"#EF553B\",\"dash\":\"solid\"},\"marker\":{\"symbol\":\"circle\"},\"mode\":\"text+lines+markers\",\"name\":\"agglomerative, centroid\",\"orientation\":\"v\",\"showlegend\":false,\"text\":[\"<b>0.88</b>\",\"<b>0.84</b>\",\"<b>0.96</b>\",\"<b>0.96</b>\"],\"x\":[\"5\",\"10\",\"20\",\"30\"],\"xaxis\":\"x5\",\"y\":[0.88,0.84,0.96,0.96],\"yaxis\":\"y5\",\"type\":\"scatter\",\"textposition\":\"bottom center\"},{\"hovertemplate\":\"clustering=agglomerative<br>representative=centroid<br>proj=pca<br>n_ImageNet_classes=5<br>n_points_per_ImageNet_class=%{x}<br>R@10=%{y}<br>text=%{text}<extra></extra>\",\"legendgroup\":\"agglomerative, centroid\",\"line\":{\"color\":\"#EF553B\",\"dash\":\"solid\"},\"marker\":{\"symbol\":\"circle\"},\"mode\":\"text+lines+markers\",\"name\":\"agglomerative, centroid\",\"orientation\":\"v\",\"showlegend\":false,\"text\":[\"<b>0.96</b>\",\"<b>1.0</b>\",\"<b>0.96</b>\",\"<b>1.0</b>\"],\"x\":[\"5\",\"10\",\"20\",\"30\"],\"xaxis\":\"x6\",\"y\":[0.96,1.0,0.96,1.0],\"yaxis\":\"y6\",\"type\":\"scatter\",\"textposition\":\"bottom center\"},{\"hovertemplate\":\"clustering=agglomerative<br>representative=centroid<br>proj=tsne<br>n_ImageNet_classes=1<br>n_points_per_ImageNet_class=%{x}<br>R@10=%{y}<br>text=%{text}<extra></extra>\",\"legendgroup\":\"agglomerative, centroid\",\"line\":{\"color\":\"#EF553B\",\"dash\":\"solid\"},\"marker\":{\"symbol\":\"circle\"},\"mode\":\"text+lines+markers\",\"name\":\"agglomerative, centroid\",\"orientation\":\"v\",\"showlegend\":false,\"text\":[\"0.92\",\"0.88\",\"0.96\",\"0.88\"],\"x\":[\"5\",\"10\",\"20\",\"30\"],\"xaxis\":\"x\",\"y\":[0.92,0.88,0.96,0.88],\"yaxis\":\"y\",\"type\":\"scatter\",\"textposition\":\"bottom center\"},{\"hovertemplate\":\"clustering=agglomerative<br>representative=centroid<br>proj=tsne<br>n_ImageNet_classes=2<br>n_points_per_ImageNet_class=%{x}<br>R@10=%{y}<br>text=%{text}<extra></extra>\",\"legendgroup\":\"agglomerative, centroid\",\"line\":{\"color\":\"#EF553B\",\"dash\":\"solid\"},\"marker\":{\"symbol\":\"circle\"},\"mode\":\"text+lines+markers\",\"name\":\"agglomerative, centroid\",\"orientation\":\"v\",\"showlegend\":false,\"text\":[\"0.92\",\"0.92\",\"0.92\",\"0.92\"],\"x\":[\"5\",\"10\",\"20\",\"30\"],\"xaxis\":\"x2\",\"y\":[0.92,0.92,0.92,0.92],\"yaxis\":\"y2\",\"type\":\"scatter\",\"textposition\":\"bottom center\"},{\"hovertemplate\":\"clustering=agglomerative<br>representative=centroid<br>proj=tsne<br>n_ImageNet_classes=5<br>n_points_per_ImageNet_class=%{x}<br>R@10=%{y}<br>text=%{text}<extra></extra>\",\"legendgroup\":\"agglomerative, centroid\",\"line\":{\"color\":\"#EF553B\",\"dash\":\"solid\"},\"marker\":{\"symbol\":\"circle\"},\"mode\":\"text+lines+markers\",\"name\":\"agglomerative, centroid\",\"orientation\":\"v\",\"showlegend\":false,\"text\":[\"0.96\",\"0.8\",\"1.0\",\"0.96\"],\"x\":[\"5\",\"10\",\"20\",\"30\"],\"xaxis\":\"x3\",\"y\":[0.96,0.8,1.0,0.96],\"yaxis\":\"y3\",\"type\":\"scatter\",\"textposition\":\"bottom center\"},{\"hovertemplate\":\"clustering=agglomerative<br>representative=medoid<br>proj=None<br>n_ImageNet_classes=1<br>n_points_per_ImageNet_class=%{x}<br>R@10=%{y}<br>text=%{text}<extra></extra>\",\"legendgroup\":\"agglomerative, medoid\",\"line\":{\"color\":\"#EF553B\",\"dash\":\"dot\"},\"marker\":{\"symbol\":\"circle\"},\"mode\":\"text+lines+markers\",\"name\":\"agglomerative, medoid\",\"orientation\":\"v\",\"showlegend\":true,\"text\":[\"\",\"\",\"\",\"\"],\"x\":[\"5\",\"10\",\"20\",\"30\"],\"xaxis\":\"x7\",\"y\":[0.88,0.84,0.96,0.8],\"yaxis\":\"y7\",\"type\":\"scatter\",\"textposition\":\"bottom center\"},{\"hovertemplate\":\"clustering=agglomerative<br>representative=medoid<br>proj=None<br>n_ImageNet_classes=2<br>n_points_per_ImageNet_class=%{x}<br>R@10=%{y}<br>text=%{text}<extra></extra>\",\"legendgroup\":\"agglomerative, medoid\",\"line\":{\"color\":\"#EF553B\",\"dash\":\"dot\"},\"marker\":{\"symbol\":\"circle\"},\"mode\":\"text+lines+markers\",\"name\":\"agglomerative, medoid\",\"orientation\":\"v\",\"showlegend\":false,\"text\":[\"\",\"\",\"\",\"\"],\"x\":[\"5\",\"10\",\"20\",\"30\"],\"xaxis\":\"x8\",\"y\":[0.32,0.44,0.56,0.48],\"yaxis\":\"y8\",\"type\":\"scatter\",\"textposition\":\"bottom center\"},{\"hovertemplate\":\"clustering=agglomerative<br>representative=medoid<br>proj=None<br>n_ImageNet_classes=5<br>n_points_per_ImageNet_class=%{x}<br>R@10=%{y}<br>text=%{text}<extra></extra>\",\"legendgroup\":\"agglomerative, medoid\",\"line\":{\"color\":\"#EF553B\",\"dash\":\"dot\"},\"marker\":{\"symbol\":\"circle\"},\"mode\":\"text+lines+markers\",\"name\":\"agglomerative, medoid\",\"orientation\":\"v\",\"showlegend\":false,\"text\":[\"\",\"\",\"\",\"\"],\"x\":[\"5\",\"10\",\"20\",\"30\"],\"xaxis\":\"x9\",\"y\":[0.2,0.16,0.24,0.32],\"yaxis\":\"y9\",\"type\":\"scatter\",\"textposition\":\"bottom center\"},{\"hovertemplate\":\"clustering=agglomerative<br>representative=medoid<br>proj=pca<br>n_ImageNet_classes=1<br>n_points_per_ImageNet_class=%{x}<br>R@10=%{y}<br>text=%{text}<extra></extra>\",\"legendgroup\":\"agglomerative, medoid\",\"line\":{\"color\":\"#EF553B\",\"dash\":\"dot\"},\"marker\":{\"symbol\":\"circle\"},\"mode\":\"text+lines+markers\",\"name\":\"agglomerative, medoid\",\"orientation\":\"v\",\"showlegend\":false,\"text\":[\"\",\"\",\"\",\"\"],\"x\":[\"5\",\"10\",\"20\",\"30\"],\"xaxis\":\"x4\",\"y\":[0.92,0.96,1.0,0.96],\"yaxis\":\"y4\",\"type\":\"scatter\",\"textposition\":\"bottom center\"},{\"hovertemplate\":\"clustering=agglomerative<br>representative=medoid<br>proj=pca<br>n_ImageNet_classes=2<br>n_points_per_ImageNet_class=%{x}<br>R@10=%{y}<br>text=%{text}<extra></extra>\",\"legendgroup\":\"agglomerative, medoid\",\"line\":{\"color\":\"#EF553B\",\"dash\":\"dot\"},\"marker\":{\"symbol\":\"circle\"},\"mode\":\"text+lines+markers\",\"name\":\"agglomerative, medoid\",\"orientation\":\"v\",\"showlegend\":false,\"text\":[\"\",\"\",\"\",\"\"],\"x\":[\"5\",\"10\",\"20\",\"30\"],\"xaxis\":\"x5\",\"y\":[0.92,0.92,0.96,0.92],\"yaxis\":\"y5\",\"type\":\"scatter\",\"textposition\":\"bottom center\"},{\"hovertemplate\":\"clustering=agglomerative<br>representative=medoid<br>proj=pca<br>n_ImageNet_classes=5<br>n_points_per_ImageNet_class=%{x}<br>R@10=%{y}<br>text=%{text}<extra></extra>\",\"legendgroup\":\"agglomerative, medoid\",\"line\":{\"color\":\"#EF553B\",\"dash\":\"dot\"},\"marker\":{\"symbol\":\"circle\"},\"mode\":\"text+lines+markers\",\"name\":\"agglomerative, medoid\",\"orientation\":\"v\",\"showlegend\":false,\"text\":[\"\",\"\",\"\",\"\"],\"x\":[\"5\",\"10\",\"20\",\"30\"],\"xaxis\":\"x6\",\"y\":[0.96,1.0,1.0,1.0],\"yaxis\":\"y6\",\"type\":\"scatter\",\"textposition\":\"bottom center\"},{\"hovertemplate\":\"clustering=agglomerative<br>representative=medoid<br>proj=tsne<br>n_ImageNet_classes=1<br>n_points_per_ImageNet_class=%{x}<br>R@10=%{y}<br>text=%{text}<extra></extra>\",\"legendgroup\":\"agglomerative, medoid\",\"line\":{\"color\":\"#EF553B\",\"dash\":\"dot\"},\"marker\":{\"symbol\":\"circle\"},\"mode\":\"text+lines+markers\",\"name\":\"agglomerative, medoid\",\"orientation\":\"v\",\"showlegend\":false,\"text\":[\"\",\"\",\"\",\"\"],\"x\":[\"5\",\"10\",\"20\",\"30\"],\"xaxis\":\"x\",\"y\":[0.92,0.92,0.92,0.92],\"yaxis\":\"y\",\"type\":\"scatter\",\"textposition\":\"bottom center\"},{\"hovertemplate\":\"clustering=agglomerative<br>representative=medoid<br>proj=tsne<br>n_ImageNet_classes=2<br>n_points_per_ImageNet_class=%{x}<br>R@10=%{y}<br>text=%{text}<extra></extra>\",\"legendgroup\":\"agglomerative, medoid\",\"line\":{\"color\":\"#EF553B\",\"dash\":\"dot\"},\"marker\":{\"symbol\":\"circle\"},\"mode\":\"text+lines+markers\",\"name\":\"agglomerative, medoid\",\"orientation\":\"v\",\"showlegend\":false,\"text\":[\"\",\"\",\"\",\"\"],\"x\":[\"5\",\"10\",\"20\",\"30\"],\"xaxis\":\"x2\",\"y\":[0.88,0.88,0.76,0.84],\"yaxis\":\"y2\",\"type\":\"scatter\",\"textposition\":\"bottom center\"},{\"hovertemplate\":\"clustering=agglomerative<br>representative=medoid<br>proj=tsne<br>n_ImageNet_classes=5<br>n_points_per_ImageNet_class=%{x}<br>R@10=%{y}<br>text=%{text}<extra></extra>\",\"legendgroup\":\"agglomerative, medoid\",\"line\":{\"color\":\"#EF553B\",\"dash\":\"dot\"},\"marker\":{\"symbol\":\"circle\"},\"mode\":\"text+lines+markers\",\"name\":\"agglomerative, medoid\",\"orientation\":\"v\",\"showlegend\":false,\"text\":[\"\",\"\",\"\",\"\"],\"x\":[\"5\",\"10\",\"20\",\"30\"],\"xaxis\":\"x3\",\"y\":[0.8,0.92,0.84,0.96],\"yaxis\":\"y3\",\"type\":\"scatter\",\"textposition\":\"bottom center\"}],                        {\"template\":{\"data\":{\"bar\":[{\"error_x\":{\"color\":\"#2a3f5f\"},\"error_y\":{\"color\":\"#2a3f5f\"},\"marker\":{\"line\":{\"color\":\"#E5ECF6\",\"width\":0.5},\"pattern\":{\"fillmode\":\"overlay\",\"size\":10,\"solidity\":0.2}},\"type\":\"bar\"}],\"barpolar\":[{\"marker\":{\"line\":{\"color\":\"#E5ECF6\",\"width\":0.5},\"pattern\":{\"fillmode\":\"overlay\",\"size\":10,\"solidity\":0.2}},\"type\":\"barpolar\"}],\"carpet\":[{\"aaxis\":{\"endlinecolor\":\"#2a3f5f\",\"gridcolor\":\"white\",\"linecolor\":\"white\",\"minorgridcolor\":\"white\",\"startlinecolor\":\"#2a3f5f\"},\"baxis\":{\"endlinecolor\":\"#2a3f5f\",\"gridcolor\":\"white\",\"linecolor\":\"white\",\"minorgridcolor\":\"white\",\"startlinecolor\":\"#2a3f5f\"},\"type\":\"carpet\"}],\"choropleth\":[{\"colorbar\":{\"outlinewidth\":0,\"ticks\":\"\"},\"type\":\"choropleth\"}],\"contour\":[{\"colorbar\":{\"outlinewidth\":0,\"ticks\":\"\"},\"colorscale\":[[0.0,\"#0d0887\"],[0.1111111111111111,\"#46039f\"],[0.2222222222222222,\"#7201a8\"],[0.3333333333333333,\"#9c179e\"],[0.4444444444444444,\"#bd3786\"],[0.5555555555555556,\"#d8576b\"],[0.6666666666666666,\"#ed7953\"],[0.7777777777777778,\"#fb9f3a\"],[0.8888888888888888,\"#fdca26\"],[1.0,\"#f0f921\"]],\"type\":\"contour\"}],\"contourcarpet\":[{\"colorbar\":{\"outlinewidth\":0,\"ticks\":\"\"},\"type\":\"contourcarpet\"}],\"heatmap\":[{\"colorbar\":{\"outlinewidth\":0,\"ticks\":\"\"},\"colorscale\":[[0.0,\"#0d0887\"],[0.1111111111111111,\"#46039f\"],[0.2222222222222222,\"#7201a8\"],[0.3333333333333333,\"#9c179e\"],[0.4444444444444444,\"#bd3786\"],[0.5555555555555556,\"#d8576b\"],[0.6666666666666666,\"#ed7953\"],[0.7777777777777778,\"#fb9f3a\"],[0.8888888888888888,\"#fdca26\"],[1.0,\"#f0f921\"]],\"type\":\"heatmap\"}],\"heatmapgl\":[{\"colorbar\":{\"outlinewidth\":0,\"ticks\":\"\"},\"colorscale\":[[0.0,\"#0d0887\"],[0.1111111111111111,\"#46039f\"],[0.2222222222222222,\"#7201a8\"],[0.3333333333333333,\"#9c179e\"],[0.4444444444444444,\"#bd3786\"],[0.5555555555555556,\"#d8576b\"],[0.6666666666666666,\"#ed7953\"],[0.7777777777777778,\"#fb9f3a\"],[0.8888888888888888,\"#fdca26\"],[1.0,\"#f0f921\"]],\"type\":\"heatmapgl\"}],\"histogram\":[{\"marker\":{\"pattern\":{\"fillmode\":\"overlay\",\"size\":10,\"solidity\":0.2}},\"type\":\"histogram\"}],\"histogram2d\":[{\"colorbar\":{\"outlinewidth\":0,\"ticks\":\"\"},\"colorscale\":[[0.0,\"#0d0887\"],[0.1111111111111111,\"#46039f\"],[0.2222222222222222,\"#7201a8\"],[0.3333333333333333,\"#9c179e\"],[0.4444444444444444,\"#bd3786\"],[0.5555555555555556,\"#d8576b\"],[0.6666666666666666,\"#ed7953\"],[0.7777777777777778,\"#fb9f3a\"],[0.8888888888888888,\"#fdca26\"],[1.0,\"#f0f921\"]],\"type\":\"histogram2d\"}],\"histogram2dcontour\":[{\"colorbar\":{\"outlinewidth\":0,\"ticks\":\"\"},\"colorscale\":[[0.0,\"#0d0887\"],[0.1111111111111111,\"#46039f\"],[0.2222222222222222,\"#7201a8\"],[0.3333333333333333,\"#9c179e\"],[0.4444444444444444,\"#bd3786\"],[0.5555555555555556,\"#d8576b\"],[0.6666666666666666,\"#ed7953\"],[0.7777777777777778,\"#fb9f3a\"],[0.8888888888888888,\"#fdca26\"],[1.0,\"#f0f921\"]],\"type\":\"histogram2dcontour\"}],\"mesh3d\":[{\"colorbar\":{\"outlinewidth\":0,\"ticks\":\"\"},\"type\":\"mesh3d\"}],\"parcoords\":[{\"line\":{\"colorbar\":{\"outlinewidth\":0,\"ticks\":\"\"}},\"type\":\"parcoords\"}],\"pie\":[{\"automargin\":true,\"type\":\"pie\"}],\"scatter\":[{\"marker\":{\"colorbar\":{\"outlinewidth\":0,\"ticks\":\"\"}},\"type\":\"scatter\"}],\"scatter3d\":[{\"line\":{\"colorbar\":{\"outlinewidth\":0,\"ticks\":\"\"}},\"marker\":{\"colorbar\":{\"outlinewidth\":0,\"ticks\":\"\"}},\"type\":\"scatter3d\"}],\"scattercarpet\":[{\"marker\":{\"colorbar\":{\"outlinewidth\":0,\"ticks\":\"\"}},\"type\":\"scattercarpet\"}],\"scattergeo\":[{\"marker\":{\"colorbar\":{\"outlinewidth\":0,\"ticks\":\"\"}},\"type\":\"scattergeo\"}],\"scattergl\":[{\"marker\":{\"colorbar\":{\"outlinewidth\":0,\"ticks\":\"\"}},\"type\":\"scattergl\"}],\"scattermapbox\":[{\"marker\":{\"colorbar\":{\"outlinewidth\":0,\"ticks\":\"\"}},\"type\":\"scattermapbox\"}],\"scatterpolar\":[{\"marker\":{\"colorbar\":{\"outlinewidth\":0,\"ticks\":\"\"}},\"type\":\"scatterpolar\"}],\"scatterpolargl\":[{\"marker\":{\"colorbar\":{\"outlinewidth\":0,\"ticks\":\"\"}},\"type\":\"scatterpolargl\"}],\"scatterternary\":[{\"marker\":{\"colorbar\":{\"outlinewidth\":0,\"ticks\":\"\"}},\"type\":\"scatterternary\"}],\"surface\":[{\"colorbar\":{\"outlinewidth\":0,\"ticks\":\"\"},\"colorscale\":[[0.0,\"#0d0887\"],[0.1111111111111111,\"#46039f\"],[0.2222222222222222,\"#7201a8\"],[0.3333333333333333,\"#9c179e\"],[0.4444444444444444,\"#bd3786\"],[0.5555555555555556,\"#d8576b\"],[0.6666666666666666,\"#ed7953\"],[0.7777777777777778,\"#fb9f3a\"],[0.8888888888888888,\"#fdca26\"],[1.0,\"#f0f921\"]],\"type\":\"surface\"}],\"table\":[{\"cells\":{\"fill\":{\"color\":\"#EBF0F8\"},\"line\":{\"color\":\"white\"}},\"header\":{\"fill\":{\"color\":\"#C8D4E3\"},\"line\":{\"color\":\"white\"}},\"type\":\"table\"}]},\"layout\":{\"annotationdefaults\":{\"arrowcolor\":\"#2a3f5f\",\"arrowhead\":0,\"arrowwidth\":1},\"autotypenumbers\":\"strict\",\"coloraxis\":{\"colorbar\":{\"outlinewidth\":0,\"ticks\":\"\"}},\"colorscale\":{\"diverging\":[[0,\"#8e0152\"],[0.1,\"#c51b7d\"],[0.2,\"#de77ae\"],[0.3,\"#f1b6da\"],[0.4,\"#fde0ef\"],[0.5,\"#f7f7f7\"],[0.6,\"#e6f5d0\"],[0.7,\"#b8e186\"],[0.8,\"#7fbc41\"],[0.9,\"#4d9221\"],[1,\"#276419\"]],\"sequential\":[[0.0,\"#0d0887\"],[0.1111111111111111,\"#46039f\"],[0.2222222222222222,\"#7201a8\"],[0.3333333333333333,\"#9c179e\"],[0.4444444444444444,\"#bd3786\"],[0.5555555555555556,\"#d8576b\"],[0.6666666666666666,\"#ed7953\"],[0.7777777777777778,\"#fb9f3a\"],[0.8888888888888888,\"#fdca26\"],[1.0,\"#f0f921\"]],\"sequentialminus\":[[0.0,\"#0d0887\"],[0.1111111111111111,\"#46039f\"],[0.2222222222222222,\"#7201a8\"],[0.3333333333333333,\"#9c179e\"],[0.4444444444444444,\"#bd3786\"],[0.5555555555555556,\"#d8576b\"],[0.6666666666666666,\"#ed7953\"],[0.7777777777777778,\"#fb9f3a\"],[0.8888888888888888,\"#fdca26\"],[1.0,\"#f0f921\"]]},\"colorway\":[\"#636efa\",\"#EF553B\",\"#00cc96\",\"#ab63fa\",\"#FFA15A\",\"#19d3f3\",\"#FF6692\",\"#B6E880\",\"#FF97FF\",\"#FECB52\"],\"font\":{\"color\":\"#2a3f5f\"},\"geo\":{\"bgcolor\":\"white\",\"lakecolor\":\"white\",\"landcolor\":\"#E5ECF6\",\"showlakes\":true,\"showland\":true,\"subunitcolor\":\"white\"},\"hoverlabel\":{\"align\":\"left\"},\"hovermode\":\"closest\",\"mapbox\":{\"style\":\"light\"},\"paper_bgcolor\":\"white\",\"plot_bgcolor\":\"#E5ECF6\",\"polar\":{\"angularaxis\":{\"gridcolor\":\"white\",\"linecolor\":\"white\",\"ticks\":\"\"},\"bgcolor\":\"#E5ECF6\",\"radialaxis\":{\"gridcolor\":\"white\",\"linecolor\":\"white\",\"ticks\":\"\"}},\"scene\":{\"xaxis\":{\"backgroundcolor\":\"#E5ECF6\",\"gridcolor\":\"white\",\"gridwidth\":2,\"linecolor\":\"white\",\"showbackground\":true,\"ticks\":\"\",\"zerolinecolor\":\"white\"},\"yaxis\":{\"backgroundcolor\":\"#E5ECF6\",\"gridcolor\":\"white\",\"gridwidth\":2,\"linecolor\":\"white\",\"showbackground\":true,\"ticks\":\"\",\"zerolinecolor\":\"white\"},\"zaxis\":{\"backgroundcolor\":\"#E5ECF6\",\"gridcolor\":\"white\",\"gridwidth\":2,\"linecolor\":\"white\",\"showbackground\":true,\"ticks\":\"\",\"zerolinecolor\":\"white\"}},\"shapedefaults\":{\"line\":{\"color\":\"#2a3f5f\"}},\"ternary\":{\"aaxis\":{\"gridcolor\":\"white\",\"linecolor\":\"white\",\"ticks\":\"\"},\"baxis\":{\"gridcolor\":\"white\",\"linecolor\":\"white\",\"ticks\":\"\"},\"bgcolor\":\"#E5ECF6\",\"caxis\":{\"gridcolor\":\"white\",\"linecolor\":\"white\",\"ticks\":\"\"}},\"title\":{\"x\":0.05},\"xaxis\":{\"automargin\":true,\"gridcolor\":\"white\",\"linecolor\":\"white\",\"ticks\":\"\",\"title\":{\"standoff\":15},\"zerolinecolor\":\"white\",\"zerolinewidth\":2},\"yaxis\":{\"automargin\":true,\"gridcolor\":\"white\",\"linecolor\":\"white\",\"ticks\":\"\",\"title\":{\"standoff\":15},\"zerolinecolor\":\"white\",\"zerolinewidth\":2}}},\"xaxis\":{\"anchor\":\"y\",\"domain\":[0.0,0.3133333333333333],\"title\":{\"text\":\"n_points_per_ImageNet_class\"}},\"yaxis\":{\"anchor\":\"x\",\"domain\":[0.0,0.3133333333333333],\"title\":{\"text\":\"R@10\"},\"range\":[-0.2,1.2]},\"xaxis2\":{\"anchor\":\"y2\",\"domain\":[0.3333333333333333,0.6466666666666666],\"matches\":\"x\",\"title\":{\"text\":\"n_points_per_ImageNet_class\"}},\"yaxis2\":{\"anchor\":\"x2\",\"domain\":[0.0,0.3133333333333333],\"matches\":\"y\",\"showticklabels\":false},\"xaxis3\":{\"anchor\":\"y3\",\"domain\":[0.6666666666666666,0.98],\"matches\":\"x\",\"title\":{\"text\":\"n_points_per_ImageNet_class\"}},\"yaxis3\":{\"anchor\":\"x3\",\"domain\":[0.0,0.3133333333333333],\"matches\":\"y\",\"showticklabels\":false},\"xaxis4\":{\"anchor\":\"y4\",\"domain\":[0.0,0.3133333333333333],\"matches\":\"x\",\"showticklabels\":false},\"yaxis4\":{\"anchor\":\"x4\",\"domain\":[0.34333333333333327,0.6566666666666665],\"matches\":\"y\",\"title\":{\"text\":\"R@10\"}},\"xaxis5\":{\"anchor\":\"y5\",\"domain\":[0.3333333333333333,0.6466666666666666],\"matches\":\"x\",\"showticklabels\":false},\"yaxis5\":{\"anchor\":\"x5\",\"domain\":[0.34333333333333327,0.6566666666666665],\"matches\":\"y\",\"showticklabels\":false},\"xaxis6\":{\"anchor\":\"y6\",\"domain\":[0.6666666666666666,0.98],\"matches\":\"x\",\"showticklabels\":false},\"yaxis6\":{\"anchor\":\"x6\",\"domain\":[0.34333333333333327,0.6566666666666665],\"matches\":\"y\",\"showticklabels\":false},\"xaxis7\":{\"anchor\":\"y7\",\"domain\":[0.0,0.3133333333333333],\"matches\":\"x\",\"showticklabels\":false},\"yaxis7\":{\"anchor\":\"x7\",\"domain\":[0.6866666666666665,0.9999999999999998],\"matches\":\"y\",\"title\":{\"text\":\"R@10\"}},\"xaxis8\":{\"anchor\":\"y8\",\"domain\":[0.3333333333333333,0.6466666666666666],\"matches\":\"x\",\"showticklabels\":false},\"yaxis8\":{\"anchor\":\"x8\",\"domain\":[0.6866666666666665,0.9999999999999998],\"matches\":\"y\",\"showticklabels\":false},\"xaxis9\":{\"anchor\":\"y9\",\"domain\":[0.6666666666666666,0.98],\"matches\":\"x\",\"showticklabels\":false},\"yaxis9\":{\"anchor\":\"x9\",\"domain\":[0.6866666666666665,0.9999999999999998],\"matches\":\"y\",\"showticklabels\":false},\"annotations\":[{\"font\":{},\"showarrow\":false,\"text\":\"n_ImageNet_classes=1\",\"x\":0.15666666666666665,\"xanchor\":\"center\",\"xref\":\"paper\",\"y\":0.9999999999999998,\"yanchor\":\"bottom\",\"yref\":\"paper\"},{\"font\":{},\"showarrow\":false,\"text\":\"n_ImageNet_classes=2\",\"x\":0.49,\"xanchor\":\"center\",\"xref\":\"paper\",\"y\":0.9999999999999998,\"yanchor\":\"bottom\",\"yref\":\"paper\"},{\"font\":{},\"showarrow\":false,\"text\":\"n_ImageNet_classes=5\",\"x\":0.8233333333333333,\"xanchor\":\"center\",\"xref\":\"paper\",\"y\":0.9999999999999998,\"yanchor\":\"bottom\",\"yref\":\"paper\"},{\"font\":{},\"showarrow\":false,\"text\":\"proj=tsne\",\"textangle\":90,\"x\":0.98,\"xanchor\":\"left\",\"xref\":\"paper\",\"y\":0.15666666666666665,\"yanchor\":\"middle\",\"yref\":\"paper\"},{\"font\":{},\"showarrow\":false,\"text\":\"proj=pca\",\"textangle\":90,\"x\":0.98,\"xanchor\":\"left\",\"xref\":\"paper\",\"y\":0.4999999999999999,\"yanchor\":\"middle\",\"yref\":\"paper\"},{\"font\":{},\"showarrow\":false,\"text\":\"proj=None\",\"textangle\":90,\"x\":0.98,\"xanchor\":\"left\",\"xref\":\"paper\",\"y\":0.8433333333333332,\"yanchor\":\"middle\",\"yref\":\"paper\"}],\"legend\":{\"title\":{\"text\":\"clustering, representative\"},\"tracegroupgap\":0},\"margin\":{\"t\":60},\"font\":{\"size\":20},\"autosize\":false,\"width\":1700,\"height\":1200,\"showlegend\":true},                        {\"responsive\": true}                    ).then(function(){\n",
       "                            \n",
       "var gd = document.getElementById('2385205a-cf8d-4e5c-890e-c6367ec963af');\n",
       "var x = new MutationObserver(function (mutations, observer) {{\n",
       "        var display = window.getComputedStyle(gd).display;\n",
       "        if (!display || display === 'none') {{\n",
       "            console.log([gd, 'removed!']);\n",
       "            Plotly.purge(gd);\n",
       "            observer.disconnect();\n",
       "        }}\n",
       "}});\n",
       "\n",
       "// Listen for the removal of the full notebook cells\n",
       "var notebookContainer = gd.closest('#notebook-container');\n",
       "if (notebookContainer) {{\n",
       "    x.observe(notebookContainer, {childList: true});\n",
       "}}\n",
       "\n",
       "// Listen for the clearing of the current output cell\n",
       "var outputEl = gd.closest('.output');\n",
       "if (outputEl) {{\n",
       "    x.observe(outputEl, {childList: true});\n",
       "}}\n",
       "\n",
       "                        })                };                });            </script>        </div>"
      ]
     },
     "metadata": {},
     "output_type": "display_data"
    }
   ],
   "source": [
    "def text(representative, proj, clustering, recall):\n",
    "    if proj=='pca' and representative=='centroid' and clustering=='agglomerative':\n",
    "        return '<b>{}</b>'.format(str(recall))\n",
    "    if representative=='centroid':\n",
    "        return str(recall)\n",
    "    return ''\n",
    "\n",
    "create_path_if_not_existant('charts')\n",
    "\n",
    "for dataset in ['coco', 'flickr30k']:\n",
    "    for model in ['clip', 'albef']:\n",
    "        for task in ['txt2img', 'img2txt', 'txt2txt', 'img2img']:\n",
    "\n",
    "            # recall@10\n",
    "            df = pd.read_csv('results/zccr_metrics.csv')\n",
    "            df['n_points_per_cluster'] = df['n_points_per_cluster'].map(lambda e: str(e))\n",
    "            df = df.rename(columns={'recall': 'R@10', 'n_points_per_cluster':'n_points_per_ImageNet_class',\n",
    "                                    'n_seeds':'n_ImageNet_classes'})\n",
    "\n",
    "            df = df[df['n_ImageNet_classes'] != 3]\n",
    "            df = df[df['n_ImageNet_classes'] != 10]\n",
    "            df = df[df['proj'] != 'tsne']\n",
    "            df = df[df['dataset'] == dataset]\n",
    "            df = df[df['model'] == model]\n",
    "            df = df[df['task'] == task]\n",
    "            df = df[df['cluster distance'] == 5]\n",
    "\n",
    "            df['proj'] = df['proj'].map(lambda x: 'tsne' if x == 'tsne (pca)' else x)\n",
    "            df['text'] = df.apply(lambda x: text(x['representative'], x['proj'], x['clustering'], x['R@10']), axis=1)\n",
    "            # df = df[df['clustering'] == 'agglomerative']\n",
    "            # df = df[df['representative'] == 'centroid']\n",
    "\n",
    "            # df = df[df['n_points_per_cluster'] == 20]\n",
    "            # df = df[df['cluster distance'] == 50]\n",
    "\n",
    "            fig = px.line(df, x=\"n_points_per_ImageNet_class\", y=\"R@10\", text='text', color='clustering', line_dash='representative',\n",
    "                        facet_row='proj', facet_col='n_ImageNet_classes', category_orders={\"proj\": [\"None\", \"pca\", \"tsne\"], \"n_ImageNet_classes\":[1,2,5]},\n",
    "                        markers=True)\n",
    "            fig.update_traces(textposition='bottom center')\n",
    "            fig.update_layout(yaxis_range=[-0.2,1.2])\n",
    "            fig.update_layout(\n",
    "                autosize=False,\n",
    "                width=1700,\n",
    "                height=1200,\n",
    "                showlegend=True,\n",
    "                font=dict(\n",
    "                        # family=\"Courier New, monospace\",\n",
    "                        size=20  # Set the font size here\n",
    "                        # color=\"RebeccaPurple\"\n",
    "                )\n",
    "            )\n",
    "\n",
    "            fig.write_image('charts/{}_{}_{}_recall.png'.format(dataset,model,task))"
   ]
  },
  {
   "attachments": {},
   "cell_type": "markdown",
   "metadata": {},
   "source": [
    "### Comparison with Tag System"
   ]
  },
  {
   "cell_type": "code",
   "execution_count": 9,
   "metadata": {},
   "outputs": [],
   "source": [
    "import pandas as pd\n",
    "import plotly.express as px"
   ]
  },
  {
   "cell_type": "code",
   "execution_count": 19,
   "metadata": {},
   "outputs": [
    {
     "name": "stderr",
     "output_type": "stream",
     "text": [
      "/tmp/ipykernel_211443/2869728667.py:44: FutureWarning:\n",
      "\n",
      "The frame.append method is deprecated and will be removed from pandas in a future version. Use pandas.concat instead.\n",
      "\n",
      "/tmp/ipykernel_211443/2869728667.py:46: FutureWarning:\n",
      "\n",
      "The frame.append method is deprecated and will be removed from pandas in a future version. Use pandas.concat instead.\n",
      "\n",
      "/tmp/ipykernel_211443/2869728667.py:44: FutureWarning:\n",
      "\n",
      "The frame.append method is deprecated and will be removed from pandas in a future version. Use pandas.concat instead.\n",
      "\n",
      "/tmp/ipykernel_211443/2869728667.py:46: FutureWarning:\n",
      "\n",
      "The frame.append method is deprecated and will be removed from pandas in a future version. Use pandas.concat instead.\n",
      "\n"
     ]
    },
    {
     "data": {
      "application/vnd.plotly.v1+json": {
       "config": {
        "plotlyServerURL": "https://plot.ly"
       },
       "data": [
        {
         "hovertemplate": "Method=BT<br>task=txt2img<br>n_ImageNet_classes=1<br>n_points_per_ImageNet_class=%{x}<br>R@10=%{y}<br>text=%{text}<extra></extra>",
         "legendgroup": "BT",
         "line": {
          "color": "#636EFA",
          "dash": "solid"
         },
         "marker": {
          "symbol": "circle"
         },
         "mode": "text+lines+markers",
         "name": "BT",
         "orientation": "v",
         "showlegend": true,
         "text": [
          "0.36",
          "0.4",
          "0.44",
          "0.44"
         ],
         "textposition": "bottom center",
         "type": "scatter",
         "x": [
          "5",
          "10",
          "20",
          "30"
         ],
         "xaxis": "x10",
         "y": [
          0.36,
          0.4,
          0.44,
          0.44
         ],
         "yaxis": "y10"
        },
        {
         "hovertemplate": "Method=BT<br>task=txt2img<br>n_ImageNet_classes=2<br>n_points_per_ImageNet_class=%{x}<br>R@10=%{y}<br>text=%{text}<extra></extra>",
         "legendgroup": "BT",
         "line": {
          "color": "#636EFA",
          "dash": "solid"
         },
         "marker": {
          "symbol": "circle"
         },
         "mode": "text+lines+markers",
         "name": "BT",
         "orientation": "v",
         "showlegend": false,
         "text": [
          "0.33",
          "0.25",
          "0.25",
          "0.21"
         ],
         "textposition": "bottom center",
         "type": "scatter",
         "x": [
          "5",
          "10",
          "20",
          "30"
         ],
         "xaxis": "x11",
         "y": [
          0.33,
          0.25,
          0.25,
          0.21
         ],
         "yaxis": "y11"
        },
        {
         "hovertemplate": "Method=BT<br>task=txt2img<br>n_ImageNet_classes=5<br>n_points_per_ImageNet_class=%{x}<br>R@10=%{y}<br>text=%{text}<extra></extra>",
         "legendgroup": "BT",
         "line": {
          "color": "#636EFA",
          "dash": "solid"
         },
         "marker": {
          "symbol": "circle"
         },
         "mode": "text+lines+markers",
         "name": "BT",
         "orientation": "v",
         "showlegend": false,
         "text": [
          "0.2",
          "0.2",
          "0.16",
          "0.12"
         ],
         "textposition": "bottom center",
         "type": "scatter",
         "x": [
          "5",
          "10",
          "20",
          "30"
         ],
         "xaxis": "x12",
         "y": [
          0.2,
          0.2,
          0.16,
          0.12
         ],
         "yaxis": "y12"
        },
        {
         "hovertemplate": "Method=BT<br>task=txt2txt<br>n_ImageNet_classes=1<br>n_points_per_ImageNet_class=%{x}<br>R@10=%{y}<br>text=%{text}<extra></extra>",
         "legendgroup": "BT",
         "line": {
          "color": "#636EFA",
          "dash": "solid"
         },
         "marker": {
          "symbol": "circle"
         },
         "mode": "text+lines+markers",
         "name": "BT",
         "orientation": "v",
         "showlegend": false,
         "text": [
          "0.2",
          "0.48",
          "0.44",
          "0.64"
         ],
         "textposition": "bottom center",
         "type": "scatter",
         "x": [
          "5",
          "10",
          "20",
          "30"
         ],
         "xaxis": "x7",
         "y": [
          0.2,
          0.48,
          0.44,
          0.64
         ],
         "yaxis": "y7"
        },
        {
         "hovertemplate": "Method=BT<br>task=txt2txt<br>n_ImageNet_classes=2<br>n_points_per_ImageNet_class=%{x}<br>R@10=%{y}<br>text=%{text}<extra></extra>",
         "legendgroup": "BT",
         "line": {
          "color": "#636EFA",
          "dash": "solid"
         },
         "marker": {
          "symbol": "circle"
         },
         "mode": "text+lines+markers",
         "name": "BT",
         "orientation": "v",
         "showlegend": false,
         "text": [
          "0.29",
          "0.17",
          "0.12",
          "0.08"
         ],
         "textposition": "bottom center",
         "type": "scatter",
         "x": [
          "5",
          "10",
          "20",
          "30"
         ],
         "xaxis": "x8",
         "y": [
          0.29,
          0.17,
          0.12,
          0.08
         ],
         "yaxis": "y8"
        },
        {
         "hovertemplate": "Method=BT<br>task=txt2txt<br>n_ImageNet_classes=5<br>n_points_per_ImageNet_class=%{x}<br>R@10=%{y}<br>text=%{text}<extra></extra>",
         "legendgroup": "BT",
         "line": {
          "color": "#636EFA",
          "dash": "solid"
         },
         "marker": {
          "symbol": "circle"
         },
         "mode": "text+lines+markers",
         "name": "BT",
         "orientation": "v",
         "showlegend": false,
         "text": [
          "0.12",
          "0.08",
          "0.12",
          "0.04"
         ],
         "textposition": "bottom center",
         "type": "scatter",
         "x": [
          "5",
          "10",
          "20",
          "30"
         ],
         "xaxis": "x9",
         "y": [
          0.12,
          0.08,
          0.12,
          0.04
         ],
         "yaxis": "y9"
        },
        {
         "hovertemplate": "Method=BT<br>task=img2txt<br>n_ImageNet_classes=1<br>n_points_per_ImageNet_class=%{x}<br>R@10=%{y}<br>text=%{text}<extra></extra>",
         "legendgroup": "BT",
         "line": {
          "color": "#636EFA",
          "dash": "solid"
         },
         "marker": {
          "symbol": "circle"
         },
         "mode": "text+lines+markers",
         "name": "BT",
         "orientation": "v",
         "showlegend": false,
         "text": [
          "0.16",
          "0.28",
          "0.2",
          "0.32"
         ],
         "textposition": "bottom center",
         "type": "scatter",
         "x": [
          "5",
          "10",
          "20",
          "30"
         ],
         "xaxis": "x4",
         "y": [
          0.16,
          0.28,
          0.2,
          0.32
         ],
         "yaxis": "y4"
        },
        {
         "hovertemplate": "Method=BT<br>task=img2txt<br>n_ImageNet_classes=2<br>n_points_per_ImageNet_class=%{x}<br>R@10=%{y}<br>text=%{text}<extra></extra>",
         "legendgroup": "BT",
         "line": {
          "color": "#636EFA",
          "dash": "solid"
         },
         "marker": {
          "symbol": "circle"
         },
         "mode": "text+lines+markers",
         "name": "BT",
         "orientation": "v",
         "showlegend": false,
         "text": [
          "0.12",
          "0.08",
          "0.12",
          "0.17"
         ],
         "textposition": "bottom center",
         "type": "scatter",
         "x": [
          "5",
          "10",
          "20",
          "30"
         ],
         "xaxis": "x5",
         "y": [
          0.12,
          0.08,
          0.12,
          0.17
         ],
         "yaxis": "y5"
        },
        {
         "hovertemplate": "Method=BT<br>task=img2txt<br>n_ImageNet_classes=5<br>n_points_per_ImageNet_class=%{x}<br>R@10=%{y}<br>text=%{text}<extra></extra>",
         "legendgroup": "BT",
         "line": {
          "color": "#636EFA",
          "dash": "solid"
         },
         "marker": {
          "symbol": "circle"
         },
         "mode": "text+lines+markers",
         "name": "BT",
         "orientation": "v",
         "showlegend": false,
         "text": [
          "0.04",
          "0.04",
          "0.04",
          "0.12"
         ],
         "textposition": "bottom center",
         "type": "scatter",
         "x": [
          "5",
          "10",
          "20",
          "30"
         ],
         "xaxis": "x6",
         "y": [
          0.04,
          0.04,
          0.04,
          0.12
         ],
         "yaxis": "y6"
        },
        {
         "hovertemplate": "Method=BT<br>task=img2img<br>n_ImageNet_classes=1<br>n_points_per_ImageNet_class=%{x}<br>R@10=%{y}<br>text=%{text}<extra></extra>",
         "legendgroup": "BT",
         "line": {
          "color": "#636EFA",
          "dash": "solid"
         },
         "marker": {
          "symbol": "circle"
         },
         "mode": "text+lines+markers",
         "name": "BT",
         "orientation": "v",
         "showlegend": false,
         "text": [
          "0.44",
          "0.52",
          "0.28",
          "0.52"
         ],
         "textposition": "bottom center",
         "type": "scatter",
         "x": [
          "5",
          "10",
          "20",
          "30"
         ],
         "xaxis": "x",
         "y": [
          0.44,
          0.52,
          0.28,
          0.52
         ],
         "yaxis": "y"
        },
        {
         "hovertemplate": "Method=BT<br>task=img2img<br>n_ImageNet_classes=2<br>n_points_per_ImageNet_class=%{x}<br>R@10=%{y}<br>text=%{text}<extra></extra>",
         "legendgroup": "BT",
         "line": {
          "color": "#636EFA",
          "dash": "solid"
         },
         "marker": {
          "symbol": "circle"
         },
         "mode": "text+lines+markers",
         "name": "BT",
         "orientation": "v",
         "showlegend": false,
         "text": [
          "0.33",
          "0.29",
          "0.17",
          "0.38"
         ],
         "textposition": "bottom center",
         "type": "scatter",
         "x": [
          "5",
          "10",
          "20",
          "30"
         ],
         "xaxis": "x2",
         "y": [
          0.33,
          0.29,
          0.17,
          0.38
         ],
         "yaxis": "y2"
        },
        {
         "hovertemplate": "Method=BT<br>task=img2img<br>n_ImageNet_classes=5<br>n_points_per_ImageNet_class=%{x}<br>R@10=%{y}<br>text=%{text}<extra></extra>",
         "legendgroup": "BT",
         "line": {
          "color": "#636EFA",
          "dash": "solid"
         },
         "marker": {
          "symbol": "circle"
         },
         "mode": "text+lines+markers",
         "name": "BT",
         "orientation": "v",
         "showlegend": false,
         "text": [
          "0.2",
          "0.08",
          "0.0",
          "0.2"
         ],
         "textposition": "bottom center",
         "type": "scatter",
         "x": [
          "5",
          "10",
          "20",
          "30"
         ],
         "xaxis": "x3",
         "y": [
          0.2,
          0.08,
          0,
          0.2
         ],
         "yaxis": "y3"
        },
        {
         "hovertemplate": "Method=ZCCR (CLIP)<br>task=txt2img<br>n_ImageNet_classes=1<br>n_points_per_ImageNet_class=%{x}<br>R@10=%{y}<br>text=%{text}<extra></extra>",
         "legendgroup": "ZCCR (CLIP)",
         "line": {
          "color": "#FF9DA6",
          "dash": "solid"
         },
         "marker": {
          "symbol": "circle"
         },
         "mode": "text+lines+markers",
         "name": "ZCCR (CLIP)",
         "orientation": "v",
         "showlegend": true,
         "text": [
          "",
          "",
          "",
          ""
         ],
         "textposition": "bottom center",
         "type": "scatter",
         "x": [
          "5",
          "10",
          "20",
          "30"
         ],
         "xaxis": "x10",
         "y": [
          0.96,
          0.96,
          0.96,
          1
         ],
         "yaxis": "y10"
        },
        {
         "hovertemplate": "Method=ZCCR (CLIP)<br>task=txt2img<br>n_ImageNet_classes=2<br>n_points_per_ImageNet_class=%{x}<br>R@10=%{y}<br>text=%{text}<extra></extra>",
         "legendgroup": "ZCCR (CLIP)",
         "line": {
          "color": "#FF9DA6",
          "dash": "solid"
         },
         "marker": {
          "symbol": "circle"
         },
         "mode": "text+lines+markers",
         "name": "ZCCR (CLIP)",
         "orientation": "v",
         "showlegend": false,
         "text": [
          "",
          "",
          "",
          ""
         ],
         "textposition": "bottom center",
         "type": "scatter",
         "x": [
          "5",
          "10",
          "20",
          "30"
         ],
         "xaxis": "x11",
         "y": [
          0.84,
          0.92,
          0.96,
          0.96
         ],
         "yaxis": "y11"
        },
        {
         "hovertemplate": "Method=ZCCR (CLIP)<br>task=txt2img<br>n_ImageNet_classes=5<br>n_points_per_ImageNet_class=%{x}<br>R@10=%{y}<br>text=%{text}<extra></extra>",
         "legendgroup": "ZCCR (CLIP)",
         "line": {
          "color": "#FF9DA6",
          "dash": "solid"
         },
         "marker": {
          "symbol": "circle"
         },
         "mode": "text+lines+markers",
         "name": "ZCCR (CLIP)",
         "orientation": "v",
         "showlegend": false,
         "text": [
          "",
          "",
          "",
          ""
         ],
         "textposition": "bottom center",
         "type": "scatter",
         "x": [
          "5",
          "10",
          "20",
          "30"
         ],
         "xaxis": "x12",
         "y": [
          0.88,
          0.96,
          0.96,
          1
         ],
         "yaxis": "y12"
        },
        {
         "hovertemplate": "Method=ZCCR (CLIP)<br>task=txt2txt<br>n_ImageNet_classes=1<br>n_points_per_ImageNet_class=%{x}<br>R@10=%{y}<br>text=%{text}<extra></extra>",
         "legendgroup": "ZCCR (CLIP)",
         "line": {
          "color": "#FF9DA6",
          "dash": "solid"
         },
         "marker": {
          "symbol": "circle"
         },
         "mode": "text+lines+markers",
         "name": "ZCCR (CLIP)",
         "orientation": "v",
         "showlegend": false,
         "text": [
          "",
          "",
          "",
          ""
         ],
         "textposition": "bottom center",
         "type": "scatter",
         "x": [
          "5",
          "10",
          "20",
          "30"
         ],
         "xaxis": "x7",
         "y": [
          0.72,
          0.92,
          0.84,
          0.92
         ],
         "yaxis": "y7"
        },
        {
         "hovertemplate": "Method=ZCCR (CLIP)<br>task=txt2txt<br>n_ImageNet_classes=2<br>n_points_per_ImageNet_class=%{x}<br>R@10=%{y}<br>text=%{text}<extra></extra>",
         "legendgroup": "ZCCR (CLIP)",
         "line": {
          "color": "#FF9DA6",
          "dash": "solid"
         },
         "marker": {
          "symbol": "circle"
         },
         "mode": "text+lines+markers",
         "name": "ZCCR (CLIP)",
         "orientation": "v",
         "showlegend": false,
         "text": [
          "",
          "",
          "",
          ""
         ],
         "textposition": "bottom center",
         "type": "scatter",
         "x": [
          "5",
          "10",
          "20",
          "30"
         ],
         "xaxis": "x8",
         "y": [
          0.8,
          0.76,
          0.84,
          0.92
         ],
         "yaxis": "y8"
        },
        {
         "hovertemplate": "Method=ZCCR (CLIP)<br>task=txt2txt<br>n_ImageNet_classes=5<br>n_points_per_ImageNet_class=%{x}<br>R@10=%{y}<br>text=%{text}<extra></extra>",
         "legendgroup": "ZCCR (CLIP)",
         "line": {
          "color": "#FF9DA6",
          "dash": "solid"
         },
         "marker": {
          "symbol": "circle"
         },
         "mode": "text+lines+markers",
         "name": "ZCCR (CLIP)",
         "orientation": "v",
         "showlegend": false,
         "text": [
          "",
          "",
          "",
          ""
         ],
         "textposition": "bottom center",
         "type": "scatter",
         "x": [
          "5",
          "10",
          "20",
          "30"
         ],
         "xaxis": "x9",
         "y": [
          0.8,
          0.92,
          1,
          1
         ],
         "yaxis": "y9"
        },
        {
         "hovertemplate": "Method=ZCCR (CLIP)<br>task=img2txt<br>n_ImageNet_classes=1<br>n_points_per_ImageNet_class=%{x}<br>R@10=%{y}<br>text=%{text}<extra></extra>",
         "legendgroup": "ZCCR (CLIP)",
         "line": {
          "color": "#FF9DA6",
          "dash": "solid"
         },
         "marker": {
          "symbol": "circle"
         },
         "mode": "text+lines+markers",
         "name": "ZCCR (CLIP)",
         "orientation": "v",
         "showlegend": false,
         "text": [
          "",
          "",
          "",
          ""
         ],
         "textposition": "bottom center",
         "type": "scatter",
         "x": [
          "5",
          "10",
          "20",
          "30"
         ],
         "xaxis": "x4",
         "y": [
          0.76,
          0.92,
          0.96,
          0.92
         ],
         "yaxis": "y4"
        },
        {
         "hovertemplate": "Method=ZCCR (CLIP)<br>task=img2txt<br>n_ImageNet_classes=2<br>n_points_per_ImageNet_class=%{x}<br>R@10=%{y}<br>text=%{text}<extra></extra>",
         "legendgroup": "ZCCR (CLIP)",
         "line": {
          "color": "#FF9DA6",
          "dash": "solid"
         },
         "marker": {
          "symbol": "circle"
         },
         "mode": "text+lines+markers",
         "name": "ZCCR (CLIP)",
         "orientation": "v",
         "showlegend": false,
         "text": [
          "",
          "",
          "",
          ""
         ],
         "textposition": "bottom center",
         "type": "scatter",
         "x": [
          "5",
          "10",
          "20",
          "30"
         ],
         "xaxis": "x5",
         "y": [
          0.8,
          0.84,
          0.96,
          0.84
         ],
         "yaxis": "y5"
        },
        {
         "hovertemplate": "Method=ZCCR (CLIP)<br>task=img2txt<br>n_ImageNet_classes=5<br>n_points_per_ImageNet_class=%{x}<br>R@10=%{y}<br>text=%{text}<extra></extra>",
         "legendgroup": "ZCCR (CLIP)",
         "line": {
          "color": "#FF9DA6",
          "dash": "solid"
         },
         "marker": {
          "symbol": "circle"
         },
         "mode": "text+lines+markers",
         "name": "ZCCR (CLIP)",
         "orientation": "v",
         "showlegend": false,
         "text": [
          "",
          "",
          "",
          ""
         ],
         "textposition": "bottom center",
         "type": "scatter",
         "x": [
          "5",
          "10",
          "20",
          "30"
         ],
         "xaxis": "x6",
         "y": [
          0.88,
          1,
          0.96,
          1
         ],
         "yaxis": "y6"
        },
        {
         "hovertemplate": "Method=ZCCR (CLIP)<br>task=img2img<br>n_ImageNet_classes=1<br>n_points_per_ImageNet_class=%{x}<br>R@10=%{y}<br>text=%{text}<extra></extra>",
         "legendgroup": "ZCCR (CLIP)",
         "line": {
          "color": "#FF9DA6",
          "dash": "solid"
         },
         "marker": {
          "symbol": "circle"
         },
         "mode": "text+lines+markers",
         "name": "ZCCR (CLIP)",
         "orientation": "v",
         "showlegend": false,
         "text": [
          "",
          "",
          "",
          ""
         ],
         "textposition": "bottom center",
         "type": "scatter",
         "x": [
          "5",
          "10",
          "20",
          "30"
         ],
         "xaxis": "x",
         "y": [
          1,
          0.96,
          0.96,
          0.96
         ],
         "yaxis": "y"
        },
        {
         "hovertemplate": "Method=ZCCR (CLIP)<br>task=img2img<br>n_ImageNet_classes=2<br>n_points_per_ImageNet_class=%{x}<br>R@10=%{y}<br>text=%{text}<extra></extra>",
         "legendgroup": "ZCCR (CLIP)",
         "line": {
          "color": "#FF9DA6",
          "dash": "solid"
         },
         "marker": {
          "symbol": "circle"
         },
         "mode": "text+lines+markers",
         "name": "ZCCR (CLIP)",
         "orientation": "v",
         "showlegend": false,
         "text": [
          "",
          "",
          "",
          ""
         ],
         "textposition": "bottom center",
         "type": "scatter",
         "x": [
          "5",
          "10",
          "20",
          "30"
         ],
         "xaxis": "x2",
         "y": [
          0.8,
          0.88,
          0.92,
          0.96
         ],
         "yaxis": "y2"
        },
        {
         "hovertemplate": "Method=ZCCR (CLIP)<br>task=img2img<br>n_ImageNet_classes=5<br>n_points_per_ImageNet_class=%{x}<br>R@10=%{y}<br>text=%{text}<extra></extra>",
         "legendgroup": "ZCCR (CLIP)",
         "line": {
          "color": "#FF9DA6",
          "dash": "solid"
         },
         "marker": {
          "symbol": "circle"
         },
         "mode": "text+lines+markers",
         "name": "ZCCR (CLIP)",
         "orientation": "v",
         "showlegend": false,
         "text": [
          "",
          "",
          "",
          ""
         ],
         "textposition": "bottom center",
         "type": "scatter",
         "x": [
          "5",
          "10",
          "20",
          "30"
         ],
         "xaxis": "x3",
         "y": [
          0.84,
          1,
          1,
          1
         ],
         "yaxis": "y3"
        },
        {
         "hovertemplate": "Method=ZCCR (ALBEF)<br>task=txt2img<br>n_ImageNet_classes=1<br>n_points_per_ImageNet_class=%{x}<br>R@10=%{y}<br>text=%{text}<extra></extra>",
         "legendgroup": "ZCCR (ALBEF)",
         "line": {
          "color": "#EF553B",
          "dash": "solid"
         },
         "marker": {
          "symbol": "circle"
         },
         "mode": "text+lines+markers",
         "name": "ZCCR (ALBEF)",
         "orientation": "v",
         "showlegend": true,
         "text": [
          "<b>0.84</b>",
          "<b>0.92</b>",
          "<b>1.0</b>",
          "<b>0.96</b>"
         ],
         "textposition": "bottom center",
         "type": "scatter",
         "x": [
          "5",
          "10",
          "20",
          "30"
         ],
         "xaxis": "x10",
         "y": [
          0.84,
          0.92,
          1,
          0.96
         ],
         "yaxis": "y10"
        },
        {
         "hovertemplate": "Method=ZCCR (ALBEF)<br>task=txt2img<br>n_ImageNet_classes=2<br>n_points_per_ImageNet_class=%{x}<br>R@10=%{y}<br>text=%{text}<extra></extra>",
         "legendgroup": "ZCCR (ALBEF)",
         "line": {
          "color": "#EF553B",
          "dash": "solid"
         },
         "marker": {
          "symbol": "circle"
         },
         "mode": "text+lines+markers",
         "name": "ZCCR (ALBEF)",
         "orientation": "v",
         "showlegend": false,
         "text": [
          "<b>0.88</b>",
          "<b>0.88</b>",
          "<b>0.88</b>",
          "<b>0.96</b>"
         ],
         "textposition": "bottom center",
         "type": "scatter",
         "x": [
          "5",
          "10",
          "20",
          "30"
         ],
         "xaxis": "x11",
         "y": [
          0.88,
          0.88,
          0.88,
          0.96
         ],
         "yaxis": "y11"
        },
        {
         "hovertemplate": "Method=ZCCR (ALBEF)<br>task=txt2img<br>n_ImageNet_classes=5<br>n_points_per_ImageNet_class=%{x}<br>R@10=%{y}<br>text=%{text}<extra></extra>",
         "legendgroup": "ZCCR (ALBEF)",
         "line": {
          "color": "#EF553B",
          "dash": "solid"
         },
         "marker": {
          "symbol": "circle"
         },
         "mode": "text+lines+markers",
         "name": "ZCCR (ALBEF)",
         "orientation": "v",
         "showlegend": false,
         "text": [
          "<b>0.92</b>",
          "<b>0.92</b>",
          "<b>0.96</b>",
          "<b>1.0</b>"
         ],
         "textposition": "bottom center",
         "type": "scatter",
         "x": [
          "5",
          "10",
          "20",
          "30"
         ],
         "xaxis": "x12",
         "y": [
          0.92,
          0.92,
          0.96,
          1
         ],
         "yaxis": "y12"
        },
        {
         "hovertemplate": "Method=ZCCR (ALBEF)<br>task=txt2txt<br>n_ImageNet_classes=1<br>n_points_per_ImageNet_class=%{x}<br>R@10=%{y}<br>text=%{text}<extra></extra>",
         "legendgroup": "ZCCR (ALBEF)",
         "line": {
          "color": "#EF553B",
          "dash": "solid"
         },
         "marker": {
          "symbol": "circle"
         },
         "mode": "text+lines+markers",
         "name": "ZCCR (ALBEF)",
         "orientation": "v",
         "showlegend": false,
         "text": [
          "<b>0.68</b>",
          "<b>0.88</b>",
          "<b>0.8</b>",
          "<b>0.92</b>"
         ],
         "textposition": "bottom center",
         "type": "scatter",
         "x": [
          "5",
          "10",
          "20",
          "30"
         ],
         "xaxis": "x7",
         "y": [
          0.68,
          0.88,
          0.8,
          0.92
         ],
         "yaxis": "y7"
        },
        {
         "hovertemplate": "Method=ZCCR (ALBEF)<br>task=txt2txt<br>n_ImageNet_classes=2<br>n_points_per_ImageNet_class=%{x}<br>R@10=%{y}<br>text=%{text}<extra></extra>",
         "legendgroup": "ZCCR (ALBEF)",
         "line": {
          "color": "#EF553B",
          "dash": "solid"
         },
         "marker": {
          "symbol": "circle"
         },
         "mode": "text+lines+markers",
         "name": "ZCCR (ALBEF)",
         "orientation": "v",
         "showlegend": false,
         "text": [
          "<b>0.68</b>",
          "<b>0.68</b>",
          "<b>0.84</b>",
          "<b>0.84</b>"
         ],
         "textposition": "bottom center",
         "type": "scatter",
         "x": [
          "5",
          "10",
          "20",
          "30"
         ],
         "xaxis": "x8",
         "y": [
          0.68,
          0.68,
          0.84,
          0.84
         ],
         "yaxis": "y8"
        },
        {
         "hovertemplate": "Method=ZCCR (ALBEF)<br>task=txt2txt<br>n_ImageNet_classes=5<br>n_points_per_ImageNet_class=%{x}<br>R@10=%{y}<br>text=%{text}<extra></extra>",
         "legendgroup": "ZCCR (ALBEF)",
         "line": {
          "color": "#EF553B",
          "dash": "solid"
         },
         "marker": {
          "symbol": "circle"
         },
         "mode": "text+lines+markers",
         "name": "ZCCR (ALBEF)",
         "orientation": "v",
         "showlegend": false,
         "text": [
          "<b>0.68</b>",
          "<b>0.96</b>",
          "<b>0.88</b>",
          "<b>0.96</b>"
         ],
         "textposition": "bottom center",
         "type": "scatter",
         "x": [
          "5",
          "10",
          "20",
          "30"
         ],
         "xaxis": "x9",
         "y": [
          0.68,
          0.96,
          0.88,
          0.96
         ],
         "yaxis": "y9"
        },
        {
         "hovertemplate": "Method=ZCCR (ALBEF)<br>task=img2txt<br>n_ImageNet_classes=1<br>n_points_per_ImageNet_class=%{x}<br>R@10=%{y}<br>text=%{text}<extra></extra>",
         "legendgroup": "ZCCR (ALBEF)",
         "line": {
          "color": "#EF553B",
          "dash": "solid"
         },
         "marker": {
          "symbol": "circle"
         },
         "mode": "text+lines+markers",
         "name": "ZCCR (ALBEF)",
         "orientation": "v",
         "showlegend": false,
         "text": [
          "<b>0.84</b>",
          "<b>0.84</b>",
          "<b>0.96</b>",
          "<b>0.96</b>"
         ],
         "textposition": "bottom center",
         "type": "scatter",
         "x": [
          "5",
          "10",
          "20",
          "30"
         ],
         "xaxis": "x4",
         "y": [
          0.84,
          0.84,
          0.96,
          0.96
         ],
         "yaxis": "y4"
        },
        {
         "hovertemplate": "Method=ZCCR (ALBEF)<br>task=img2txt<br>n_ImageNet_classes=2<br>n_points_per_ImageNet_class=%{x}<br>R@10=%{y}<br>text=%{text}<extra></extra>",
         "legendgroup": "ZCCR (ALBEF)",
         "line": {
          "color": "#EF553B",
          "dash": "solid"
         },
         "marker": {
          "symbol": "circle"
         },
         "mode": "text+lines+markers",
         "name": "ZCCR (ALBEF)",
         "orientation": "v",
         "showlegend": false,
         "text": [
          "<b>0.76</b>",
          "<b>0.88</b>",
          "<b>0.96</b>",
          "<b>0.96</b>"
         ],
         "textposition": "bottom center",
         "type": "scatter",
         "x": [
          "5",
          "10",
          "20",
          "30"
         ],
         "xaxis": "x5",
         "y": [
          0.76,
          0.88,
          0.96,
          0.96
         ],
         "yaxis": "y5"
        },
        {
         "hovertemplate": "Method=ZCCR (ALBEF)<br>task=img2txt<br>n_ImageNet_classes=5<br>n_points_per_ImageNet_class=%{x}<br>R@10=%{y}<br>text=%{text}<extra></extra>",
         "legendgroup": "ZCCR (ALBEF)",
         "line": {
          "color": "#EF553B",
          "dash": "solid"
         },
         "marker": {
          "symbol": "circle"
         },
         "mode": "text+lines+markers",
         "name": "ZCCR (ALBEF)",
         "orientation": "v",
         "showlegend": false,
         "text": [
          "<b>0.88</b>",
          "<b>0.96</b>",
          "<b>1.0</b>",
          "<b>1.0</b>"
         ],
         "textposition": "bottom center",
         "type": "scatter",
         "x": [
          "5",
          "10",
          "20",
          "30"
         ],
         "xaxis": "x6",
         "y": [
          0.88,
          0.96,
          1,
          1
         ],
         "yaxis": "y6"
        },
        {
         "hovertemplate": "Method=ZCCR (ALBEF)<br>task=img2img<br>n_ImageNet_classes=1<br>n_points_per_ImageNet_class=%{x}<br>R@10=%{y}<br>text=%{text}<extra></extra>",
         "legendgroup": "ZCCR (ALBEF)",
         "line": {
          "color": "#EF553B",
          "dash": "solid"
         },
         "marker": {
          "symbol": "circle"
         },
         "mode": "text+lines+markers",
         "name": "ZCCR (ALBEF)",
         "orientation": "v",
         "showlegend": false,
         "text": [
          "<b>0.92</b>",
          "<b>0.96</b>",
          "<b>0.92</b>",
          "<b>1.0</b>"
         ],
         "textposition": "bottom center",
         "type": "scatter",
         "x": [
          "5",
          "10",
          "20",
          "30"
         ],
         "xaxis": "x",
         "y": [
          0.92,
          0.96,
          0.92,
          1
         ],
         "yaxis": "y"
        },
        {
         "hovertemplate": "Method=ZCCR (ALBEF)<br>task=img2img<br>n_ImageNet_classes=2<br>n_points_per_ImageNet_class=%{x}<br>R@10=%{y}<br>text=%{text}<extra></extra>",
         "legendgroup": "ZCCR (ALBEF)",
         "line": {
          "color": "#EF553B",
          "dash": "solid"
         },
         "marker": {
          "symbol": "circle"
         },
         "mode": "text+lines+markers",
         "name": "ZCCR (ALBEF)",
         "orientation": "v",
         "showlegend": false,
         "text": [
          "<b>0.88</b>",
          "<b>0.84</b>",
          "<b>0.96</b>",
          "<b>0.96</b>"
         ],
         "textposition": "bottom center",
         "type": "scatter",
         "x": [
          "5",
          "10",
          "20",
          "30"
         ],
         "xaxis": "x2",
         "y": [
          0.88,
          0.84,
          0.96,
          0.96
         ],
         "yaxis": "y2"
        },
        {
         "hovertemplate": "Method=ZCCR (ALBEF)<br>task=img2img<br>n_ImageNet_classes=5<br>n_points_per_ImageNet_class=%{x}<br>R@10=%{y}<br>text=%{text}<extra></extra>",
         "legendgroup": "ZCCR (ALBEF)",
         "line": {
          "color": "#EF553B",
          "dash": "solid"
         },
         "marker": {
          "symbol": "circle"
         },
         "mode": "text+lines+markers",
         "name": "ZCCR (ALBEF)",
         "orientation": "v",
         "showlegend": false,
         "text": [
          "<b>0.96</b>",
          "<b>1.0</b>",
          "<b>0.96</b>",
          "<b>1.0</b>"
         ],
         "textposition": "bottom center",
         "type": "scatter",
         "x": [
          "5",
          "10",
          "20",
          "30"
         ],
         "xaxis": "x3",
         "y": [
          0.96,
          1,
          0.96,
          1
         ],
         "yaxis": "y3"
        },
        {
         "hovertemplate": "Method=BTBA<br>task=txt2img<br>n_ImageNet_classes=1<br>n_points_per_ImageNet_class=%{x}<br>R@10=%{y}<br>text=%{text}<extra></extra>",
         "legendgroup": "BTBA",
         "line": {
          "color": "#00CC99",
          "dash": "solid"
         },
         "marker": {
          "symbol": "circle"
         },
         "mode": "text+lines+markers",
         "name": "BTBA",
         "orientation": "v",
         "showlegend": true,
         "text": [
          "0.36",
          "0.48",
          "0.4",
          "0.6"
         ],
         "textposition": "bottom center",
         "type": "scatter",
         "x": [
          "5",
          "10",
          "20",
          "30"
         ],
         "xaxis": "x10",
         "y": [
          0.36,
          0.48,
          0.4,
          0.6
         ],
         "yaxis": "y10"
        },
        {
         "hovertemplate": "Method=BTBA<br>task=txt2img<br>n_ImageNet_classes=2<br>n_points_per_ImageNet_class=%{x}<br>R@10=%{y}<br>text=%{text}<extra></extra>",
         "legendgroup": "BTBA",
         "line": {
          "color": "#00CC99",
          "dash": "solid"
         },
         "marker": {
          "symbol": "circle"
         },
         "mode": "text+lines+markers",
         "name": "BTBA",
         "orientation": "v",
         "showlegend": false,
         "text": [
          "0.38",
          "0.5",
          "0.67",
          "0.58"
         ],
         "textposition": "bottom center",
         "type": "scatter",
         "x": [
          "5",
          "10",
          "20",
          "30"
         ],
         "xaxis": "x11",
         "y": [
          0.38,
          0.5,
          0.67,
          0.58
         ],
         "yaxis": "y11"
        },
        {
         "hovertemplate": "Method=BTBA<br>task=txt2img<br>n_ImageNet_classes=5<br>n_points_per_ImageNet_class=%{x}<br>R@10=%{y}<br>text=%{text}<extra></extra>",
         "legendgroup": "BTBA",
         "line": {
          "color": "#00CC99",
          "dash": "solid"
         },
         "marker": {
          "symbol": "circle"
         },
         "mode": "text+lines+markers",
         "name": "BTBA",
         "orientation": "v",
         "showlegend": false,
         "text": [
          "0.6",
          "0.56",
          "0.64",
          "0.64"
         ],
         "textposition": "bottom center",
         "type": "scatter",
         "x": [
          "5",
          "10",
          "20",
          "30"
         ],
         "xaxis": "x12",
         "y": [
          0.6,
          0.56,
          0.64,
          0.64
         ],
         "yaxis": "y12"
        },
        {
         "hovertemplate": "Method=BTBA<br>task=txt2txt<br>n_ImageNet_classes=1<br>n_points_per_ImageNet_class=%{x}<br>R@10=%{y}<br>text=%{text}<extra></extra>",
         "legendgroup": "BTBA",
         "line": {
          "color": "#00CC99",
          "dash": "solid"
         },
         "marker": {
          "symbol": "circle"
         },
         "mode": "text+lines+markers",
         "name": "BTBA",
         "orientation": "v",
         "showlegend": false,
         "text": [
          "0.16",
          "0.48",
          "0.6",
          "0.44"
         ],
         "textposition": "bottom center",
         "type": "scatter",
         "x": [
          "5",
          "10",
          "20",
          "30"
         ],
         "xaxis": "x7",
         "y": [
          0.16,
          0.48,
          0.6,
          0.44
         ],
         "yaxis": "y7"
        },
        {
         "hovertemplate": "Method=BTBA<br>task=txt2txt<br>n_ImageNet_classes=2<br>n_points_per_ImageNet_class=%{x}<br>R@10=%{y}<br>text=%{text}<extra></extra>",
         "legendgroup": "BTBA",
         "line": {
          "color": "#00CC99",
          "dash": "solid"
         },
         "marker": {
          "symbol": "circle"
         },
         "mode": "text+lines+markers",
         "name": "BTBA",
         "orientation": "v",
         "showlegend": false,
         "text": [
          "0.46",
          "0.42",
          "0.58",
          "0.83"
         ],
         "textposition": "bottom center",
         "type": "scatter",
         "x": [
          "5",
          "10",
          "20",
          "30"
         ],
         "xaxis": "x8",
         "y": [
          0.46,
          0.42,
          0.58,
          0.83
         ],
         "yaxis": "y8"
        },
        {
         "hovertemplate": "Method=BTBA<br>task=txt2txt<br>n_ImageNet_classes=5<br>n_points_per_ImageNet_class=%{x}<br>R@10=%{y}<br>text=%{text}<extra></extra>",
         "legendgroup": "BTBA",
         "line": {
          "color": "#00CC99",
          "dash": "solid"
         },
         "marker": {
          "symbol": "circle"
         },
         "mode": "text+lines+markers",
         "name": "BTBA",
         "orientation": "v",
         "showlegend": false,
         "text": [
          "0.52",
          "0.44",
          "0.64",
          "0.84"
         ],
         "textposition": "bottom center",
         "type": "scatter",
         "x": [
          "5",
          "10",
          "20",
          "30"
         ],
         "xaxis": "x9",
         "y": [
          0.52,
          0.44,
          0.64,
          0.84
         ],
         "yaxis": "y9"
        },
        {
         "hovertemplate": "Method=BTBA<br>task=img2txt<br>n_ImageNet_classes=1<br>n_points_per_ImageNet_class=%{x}<br>R@10=%{y}<br>text=%{text}<extra></extra>",
         "legendgroup": "BTBA",
         "line": {
          "color": "#00CC99",
          "dash": "solid"
         },
         "marker": {
          "symbol": "circle"
         },
         "mode": "text+lines+markers",
         "name": "BTBA",
         "orientation": "v",
         "showlegend": false,
         "text": [
          "0.16",
          "0.16",
          "0.28",
          "0.4"
         ],
         "textposition": "bottom center",
         "type": "scatter",
         "x": [
          "5",
          "10",
          "20",
          "30"
         ],
         "xaxis": "x4",
         "y": [
          0.16,
          0.16,
          0.28,
          0.4
         ],
         "yaxis": "y4"
        },
        {
         "hovertemplate": "Method=BTBA<br>task=img2txt<br>n_ImageNet_classes=2<br>n_points_per_ImageNet_class=%{x}<br>R@10=%{y}<br>text=%{text}<extra></extra>",
         "legendgroup": "BTBA",
         "line": {
          "color": "#00CC99",
          "dash": "solid"
         },
         "marker": {
          "symbol": "circle"
         },
         "mode": "text+lines+markers",
         "name": "BTBA",
         "orientation": "v",
         "showlegend": false,
         "text": [
          "0.17",
          "0.25",
          "0.25",
          "0.21"
         ],
         "textposition": "bottom center",
         "type": "scatter",
         "x": [
          "5",
          "10",
          "20",
          "30"
         ],
         "xaxis": "x5",
         "y": [
          0.17,
          0.25,
          0.25,
          0.21
         ],
         "yaxis": "y5"
        },
        {
         "hovertemplate": "Method=BTBA<br>task=img2txt<br>n_ImageNet_classes=5<br>n_points_per_ImageNet_class=%{x}<br>R@10=%{y}<br>text=%{text}<extra></extra>",
         "legendgroup": "BTBA",
         "line": {
          "color": "#00CC99",
          "dash": "solid"
         },
         "marker": {
          "symbol": "circle"
         },
         "mode": "text+lines+markers",
         "name": "BTBA",
         "orientation": "v",
         "showlegend": false,
         "text": [
          "0.16",
          "0.28",
          "0.24",
          "0.2"
         ],
         "textposition": "bottom center",
         "type": "scatter",
         "x": [
          "5",
          "10",
          "20",
          "30"
         ],
         "xaxis": "x6",
         "y": [
          0.16,
          0.28,
          0.24,
          0.2
         ],
         "yaxis": "y6"
        },
        {
         "hovertemplate": "Method=BTBA<br>task=img2img<br>n_ImageNet_classes=1<br>n_points_per_ImageNet_class=%{x}<br>R@10=%{y}<br>text=%{text}<extra></extra>",
         "legendgroup": "BTBA",
         "line": {
          "color": "#00CC99",
          "dash": "solid"
         },
         "marker": {
          "symbol": "circle"
         },
         "mode": "text+lines+markers",
         "name": "BTBA",
         "orientation": "v",
         "showlegend": false,
         "text": [
          "0.36",
          "0.56",
          "0.52",
          "0.84"
         ],
         "textposition": "bottom center",
         "type": "scatter",
         "x": [
          "5",
          "10",
          "20",
          "30"
         ],
         "xaxis": "x",
         "y": [
          0.36,
          0.56,
          0.52,
          0.84
         ],
         "yaxis": "y"
        },
        {
         "hovertemplate": "Method=BTBA<br>task=img2img<br>n_ImageNet_classes=2<br>n_points_per_ImageNet_class=%{x}<br>R@10=%{y}<br>text=%{text}<extra></extra>",
         "legendgroup": "BTBA",
         "line": {
          "color": "#00CC99",
          "dash": "solid"
         },
         "marker": {
          "symbol": "circle"
         },
         "mode": "text+lines+markers",
         "name": "BTBA",
         "orientation": "v",
         "showlegend": false,
         "text": [
          "0.62",
          "0.58",
          "0.58",
          "0.79"
         ],
         "textposition": "bottom center",
         "type": "scatter",
         "x": [
          "5",
          "10",
          "20",
          "30"
         ],
         "xaxis": "x2",
         "y": [
          0.62,
          0.58,
          0.58,
          0.79
         ],
         "yaxis": "y2"
        },
        {
         "hovertemplate": "Method=BTBA<br>task=img2img<br>n_ImageNet_classes=5<br>n_points_per_ImageNet_class=%{x}<br>R@10=%{y}<br>text=%{text}<extra></extra>",
         "legendgroup": "BTBA",
         "line": {
          "color": "#00CC99",
          "dash": "solid"
         },
         "marker": {
          "symbol": "circle"
         },
         "mode": "text+lines+markers",
         "name": "BTBA",
         "orientation": "v",
         "showlegend": false,
         "text": [
          "0.52",
          "0.68",
          "0.68",
          "0.72"
         ],
         "textposition": "bottom center",
         "type": "scatter",
         "x": [
          "5",
          "10",
          "20",
          "30"
         ],
         "xaxis": "x3",
         "y": [
          0.52,
          0.68,
          0.68,
          0.72
         ],
         "yaxis": "y3"
        }
       ],
       "layout": {
        "annotations": [
         {
          "font": {},
          "showarrow": false,
          "text": "n_ImageNet_classes=1",
          "x": 0.15666666666666665,
          "xanchor": "center",
          "xref": "paper",
          "y": 1,
          "yanchor": "bottom",
          "yref": "paper"
         },
         {
          "font": {},
          "showarrow": false,
          "text": "n_ImageNet_classes=2",
          "x": 0.49,
          "xanchor": "center",
          "xref": "paper",
          "y": 1,
          "yanchor": "bottom",
          "yref": "paper"
         },
         {
          "font": {},
          "showarrow": false,
          "text": "n_ImageNet_classes=5",
          "x": 0.8233333333333333,
          "xanchor": "center",
          "xref": "paper",
          "y": 1,
          "yanchor": "bottom",
          "yref": "paper"
         },
         {
          "font": {},
          "showarrow": false,
          "text": "task=img2img",
          "textangle": 90,
          "x": 0.98,
          "xanchor": "left",
          "xref": "paper",
          "y": 0.11375,
          "yanchor": "middle",
          "yref": "paper"
         },
         {
          "font": {},
          "showarrow": false,
          "text": "task=img2txt",
          "textangle": 90,
          "x": 0.98,
          "xanchor": "left",
          "xref": "paper",
          "y": 0.37124999999999997,
          "yanchor": "middle",
          "yref": "paper"
         },
         {
          "font": {},
          "showarrow": false,
          "text": "task=txt2txt",
          "textangle": 90,
          "x": 0.98,
          "xanchor": "left",
          "xref": "paper",
          "y": 0.62875,
          "yanchor": "middle",
          "yref": "paper"
         },
         {
          "font": {},
          "showarrow": false,
          "text": "task=txt2img",
          "textangle": 90,
          "x": 0.98,
          "xanchor": "left",
          "xref": "paper",
          "y": 0.88625,
          "yanchor": "middle",
          "yref": "paper"
         }
        ],
        "autosize": false,
        "font": {
         "size": 20
        },
        "height": 1600,
        "legend": {
         "title": {
          "text": "Method"
         },
         "tracegroupgap": 0
        },
        "margin": {
         "t": 60
        },
        "showlegend": true,
        "template": {
         "data": {
          "bar": [
           {
            "error_x": {
             "color": "#2a3f5f"
            },
            "error_y": {
             "color": "#2a3f5f"
            },
            "marker": {
             "line": {
              "color": "#E5ECF6",
              "width": 0.5
             },
             "pattern": {
              "fillmode": "overlay",
              "size": 10,
              "solidity": 0.2
             }
            },
            "type": "bar"
           }
          ],
          "barpolar": [
           {
            "marker": {
             "line": {
              "color": "#E5ECF6",
              "width": 0.5
             },
             "pattern": {
              "fillmode": "overlay",
              "size": 10,
              "solidity": 0.2
             }
            },
            "type": "barpolar"
           }
          ],
          "carpet": [
           {
            "aaxis": {
             "endlinecolor": "#2a3f5f",
             "gridcolor": "white",
             "linecolor": "white",
             "minorgridcolor": "white",
             "startlinecolor": "#2a3f5f"
            },
            "baxis": {
             "endlinecolor": "#2a3f5f",
             "gridcolor": "white",
             "linecolor": "white",
             "minorgridcolor": "white",
             "startlinecolor": "#2a3f5f"
            },
            "type": "carpet"
           }
          ],
          "choropleth": [
           {
            "colorbar": {
             "outlinewidth": 0,
             "ticks": ""
            },
            "type": "choropleth"
           }
          ],
          "contour": [
           {
            "colorbar": {
             "outlinewidth": 0,
             "ticks": ""
            },
            "colorscale": [
             [
              0,
              "#0d0887"
             ],
             [
              0.1111111111111111,
              "#46039f"
             ],
             [
              0.2222222222222222,
              "#7201a8"
             ],
             [
              0.3333333333333333,
              "#9c179e"
             ],
             [
              0.4444444444444444,
              "#bd3786"
             ],
             [
              0.5555555555555556,
              "#d8576b"
             ],
             [
              0.6666666666666666,
              "#ed7953"
             ],
             [
              0.7777777777777778,
              "#fb9f3a"
             ],
             [
              0.8888888888888888,
              "#fdca26"
             ],
             [
              1,
              "#f0f921"
             ]
            ],
            "type": "contour"
           }
          ],
          "contourcarpet": [
           {
            "colorbar": {
             "outlinewidth": 0,
             "ticks": ""
            },
            "type": "contourcarpet"
           }
          ],
          "heatmap": [
           {
            "colorbar": {
             "outlinewidth": 0,
             "ticks": ""
            },
            "colorscale": [
             [
              0,
              "#0d0887"
             ],
             [
              0.1111111111111111,
              "#46039f"
             ],
             [
              0.2222222222222222,
              "#7201a8"
             ],
             [
              0.3333333333333333,
              "#9c179e"
             ],
             [
              0.4444444444444444,
              "#bd3786"
             ],
             [
              0.5555555555555556,
              "#d8576b"
             ],
             [
              0.6666666666666666,
              "#ed7953"
             ],
             [
              0.7777777777777778,
              "#fb9f3a"
             ],
             [
              0.8888888888888888,
              "#fdca26"
             ],
             [
              1,
              "#f0f921"
             ]
            ],
            "type": "heatmap"
           }
          ],
          "heatmapgl": [
           {
            "colorbar": {
             "outlinewidth": 0,
             "ticks": ""
            },
            "colorscale": [
             [
              0,
              "#0d0887"
             ],
             [
              0.1111111111111111,
              "#46039f"
             ],
             [
              0.2222222222222222,
              "#7201a8"
             ],
             [
              0.3333333333333333,
              "#9c179e"
             ],
             [
              0.4444444444444444,
              "#bd3786"
             ],
             [
              0.5555555555555556,
              "#d8576b"
             ],
             [
              0.6666666666666666,
              "#ed7953"
             ],
             [
              0.7777777777777778,
              "#fb9f3a"
             ],
             [
              0.8888888888888888,
              "#fdca26"
             ],
             [
              1,
              "#f0f921"
             ]
            ],
            "type": "heatmapgl"
           }
          ],
          "histogram": [
           {
            "marker": {
             "pattern": {
              "fillmode": "overlay",
              "size": 10,
              "solidity": 0.2
             }
            },
            "type": "histogram"
           }
          ],
          "histogram2d": [
           {
            "colorbar": {
             "outlinewidth": 0,
             "ticks": ""
            },
            "colorscale": [
             [
              0,
              "#0d0887"
             ],
             [
              0.1111111111111111,
              "#46039f"
             ],
             [
              0.2222222222222222,
              "#7201a8"
             ],
             [
              0.3333333333333333,
              "#9c179e"
             ],
             [
              0.4444444444444444,
              "#bd3786"
             ],
             [
              0.5555555555555556,
              "#d8576b"
             ],
             [
              0.6666666666666666,
              "#ed7953"
             ],
             [
              0.7777777777777778,
              "#fb9f3a"
             ],
             [
              0.8888888888888888,
              "#fdca26"
             ],
             [
              1,
              "#f0f921"
             ]
            ],
            "type": "histogram2d"
           }
          ],
          "histogram2dcontour": [
           {
            "colorbar": {
             "outlinewidth": 0,
             "ticks": ""
            },
            "colorscale": [
             [
              0,
              "#0d0887"
             ],
             [
              0.1111111111111111,
              "#46039f"
             ],
             [
              0.2222222222222222,
              "#7201a8"
             ],
             [
              0.3333333333333333,
              "#9c179e"
             ],
             [
              0.4444444444444444,
              "#bd3786"
             ],
             [
              0.5555555555555556,
              "#d8576b"
             ],
             [
              0.6666666666666666,
              "#ed7953"
             ],
             [
              0.7777777777777778,
              "#fb9f3a"
             ],
             [
              0.8888888888888888,
              "#fdca26"
             ],
             [
              1,
              "#f0f921"
             ]
            ],
            "type": "histogram2dcontour"
           }
          ],
          "mesh3d": [
           {
            "colorbar": {
             "outlinewidth": 0,
             "ticks": ""
            },
            "type": "mesh3d"
           }
          ],
          "parcoords": [
           {
            "line": {
             "colorbar": {
              "outlinewidth": 0,
              "ticks": ""
             }
            },
            "type": "parcoords"
           }
          ],
          "pie": [
           {
            "automargin": true,
            "type": "pie"
           }
          ],
          "scatter": [
           {
            "marker": {
             "colorbar": {
              "outlinewidth": 0,
              "ticks": ""
             }
            },
            "type": "scatter"
           }
          ],
          "scatter3d": [
           {
            "line": {
             "colorbar": {
              "outlinewidth": 0,
              "ticks": ""
             }
            },
            "marker": {
             "colorbar": {
              "outlinewidth": 0,
              "ticks": ""
             }
            },
            "type": "scatter3d"
           }
          ],
          "scattercarpet": [
           {
            "marker": {
             "colorbar": {
              "outlinewidth": 0,
              "ticks": ""
             }
            },
            "type": "scattercarpet"
           }
          ],
          "scattergeo": [
           {
            "marker": {
             "colorbar": {
              "outlinewidth": 0,
              "ticks": ""
             }
            },
            "type": "scattergeo"
           }
          ],
          "scattergl": [
           {
            "marker": {
             "colorbar": {
              "outlinewidth": 0,
              "ticks": ""
             }
            },
            "type": "scattergl"
           }
          ],
          "scattermapbox": [
           {
            "marker": {
             "colorbar": {
              "outlinewidth": 0,
              "ticks": ""
             }
            },
            "type": "scattermapbox"
           }
          ],
          "scatterpolar": [
           {
            "marker": {
             "colorbar": {
              "outlinewidth": 0,
              "ticks": ""
             }
            },
            "type": "scatterpolar"
           }
          ],
          "scatterpolargl": [
           {
            "marker": {
             "colorbar": {
              "outlinewidth": 0,
              "ticks": ""
             }
            },
            "type": "scatterpolargl"
           }
          ],
          "scatterternary": [
           {
            "marker": {
             "colorbar": {
              "outlinewidth": 0,
              "ticks": ""
             }
            },
            "type": "scatterternary"
           }
          ],
          "surface": [
           {
            "colorbar": {
             "outlinewidth": 0,
             "ticks": ""
            },
            "colorscale": [
             [
              0,
              "#0d0887"
             ],
             [
              0.1111111111111111,
              "#46039f"
             ],
             [
              0.2222222222222222,
              "#7201a8"
             ],
             [
              0.3333333333333333,
              "#9c179e"
             ],
             [
              0.4444444444444444,
              "#bd3786"
             ],
             [
              0.5555555555555556,
              "#d8576b"
             ],
             [
              0.6666666666666666,
              "#ed7953"
             ],
             [
              0.7777777777777778,
              "#fb9f3a"
             ],
             [
              0.8888888888888888,
              "#fdca26"
             ],
             [
              1,
              "#f0f921"
             ]
            ],
            "type": "surface"
           }
          ],
          "table": [
           {
            "cells": {
             "fill": {
              "color": "#EBF0F8"
             },
             "line": {
              "color": "white"
             }
            },
            "header": {
             "fill": {
              "color": "#C8D4E3"
             },
             "line": {
              "color": "white"
             }
            },
            "type": "table"
           }
          ]
         },
         "layout": {
          "annotationdefaults": {
           "arrowcolor": "#2a3f5f",
           "arrowhead": 0,
           "arrowwidth": 1
          },
          "autotypenumbers": "strict",
          "coloraxis": {
           "colorbar": {
            "outlinewidth": 0,
            "ticks": ""
           }
          },
          "colorscale": {
           "diverging": [
            [
             0,
             "#8e0152"
            ],
            [
             0.1,
             "#c51b7d"
            ],
            [
             0.2,
             "#de77ae"
            ],
            [
             0.3,
             "#f1b6da"
            ],
            [
             0.4,
             "#fde0ef"
            ],
            [
             0.5,
             "#f7f7f7"
            ],
            [
             0.6,
             "#e6f5d0"
            ],
            [
             0.7,
             "#b8e186"
            ],
            [
             0.8,
             "#7fbc41"
            ],
            [
             0.9,
             "#4d9221"
            ],
            [
             1,
             "#276419"
            ]
           ],
           "sequential": [
            [
             0,
             "#0d0887"
            ],
            [
             0.1111111111111111,
             "#46039f"
            ],
            [
             0.2222222222222222,
             "#7201a8"
            ],
            [
             0.3333333333333333,
             "#9c179e"
            ],
            [
             0.4444444444444444,
             "#bd3786"
            ],
            [
             0.5555555555555556,
             "#d8576b"
            ],
            [
             0.6666666666666666,
             "#ed7953"
            ],
            [
             0.7777777777777778,
             "#fb9f3a"
            ],
            [
             0.8888888888888888,
             "#fdca26"
            ],
            [
             1,
             "#f0f921"
            ]
           ],
           "sequentialminus": [
            [
             0,
             "#0d0887"
            ],
            [
             0.1111111111111111,
             "#46039f"
            ],
            [
             0.2222222222222222,
             "#7201a8"
            ],
            [
             0.3333333333333333,
             "#9c179e"
            ],
            [
             0.4444444444444444,
             "#bd3786"
            ],
            [
             0.5555555555555556,
             "#d8576b"
            ],
            [
             0.6666666666666666,
             "#ed7953"
            ],
            [
             0.7777777777777778,
             "#fb9f3a"
            ],
            [
             0.8888888888888888,
             "#fdca26"
            ],
            [
             1,
             "#f0f921"
            ]
           ]
          },
          "colorway": [
           "#636efa",
           "#EF553B",
           "#00cc96",
           "#ab63fa",
           "#FFA15A",
           "#19d3f3",
           "#FF6692",
           "#B6E880",
           "#FF97FF",
           "#FECB52"
          ],
          "font": {
           "color": "#2a3f5f"
          },
          "geo": {
           "bgcolor": "white",
           "lakecolor": "white",
           "landcolor": "#E5ECF6",
           "showlakes": true,
           "showland": true,
           "subunitcolor": "white"
          },
          "hoverlabel": {
           "align": "left"
          },
          "hovermode": "closest",
          "mapbox": {
           "style": "light"
          },
          "paper_bgcolor": "white",
          "plot_bgcolor": "#E5ECF6",
          "polar": {
           "angularaxis": {
            "gridcolor": "white",
            "linecolor": "white",
            "ticks": ""
           },
           "bgcolor": "#E5ECF6",
           "radialaxis": {
            "gridcolor": "white",
            "linecolor": "white",
            "ticks": ""
           }
          },
          "scene": {
           "xaxis": {
            "backgroundcolor": "#E5ECF6",
            "gridcolor": "white",
            "gridwidth": 2,
            "linecolor": "white",
            "showbackground": true,
            "ticks": "",
            "zerolinecolor": "white"
           },
           "yaxis": {
            "backgroundcolor": "#E5ECF6",
            "gridcolor": "white",
            "gridwidth": 2,
            "linecolor": "white",
            "showbackground": true,
            "ticks": "",
            "zerolinecolor": "white"
           },
           "zaxis": {
            "backgroundcolor": "#E5ECF6",
            "gridcolor": "white",
            "gridwidth": 2,
            "linecolor": "white",
            "showbackground": true,
            "ticks": "",
            "zerolinecolor": "white"
           }
          },
          "shapedefaults": {
           "line": {
            "color": "#2a3f5f"
           }
          },
          "ternary": {
           "aaxis": {
            "gridcolor": "white",
            "linecolor": "white",
            "ticks": ""
           },
           "baxis": {
            "gridcolor": "white",
            "linecolor": "white",
            "ticks": ""
           },
           "bgcolor": "#E5ECF6",
           "caxis": {
            "gridcolor": "white",
            "linecolor": "white",
            "ticks": ""
           }
          },
          "title": {
           "x": 0.05
          },
          "xaxis": {
           "automargin": true,
           "gridcolor": "white",
           "linecolor": "white",
           "ticks": "",
           "title": {
            "standoff": 15
           },
           "zerolinecolor": "white",
           "zerolinewidth": 2
          },
          "yaxis": {
           "automargin": true,
           "gridcolor": "white",
           "linecolor": "white",
           "ticks": "",
           "title": {
            "standoff": 15
           },
           "zerolinecolor": "white",
           "zerolinewidth": 2
          }
         }
        },
        "width": 1550,
        "xaxis": {
         "anchor": "y",
         "domain": [
          0,
          0.3133333333333333
         ],
         "title": {
          "text": "n_points_per_ImageNet_class"
         }
        },
        "xaxis10": {
         "anchor": "y10",
         "domain": [
          0,
          0.3133333333333333
         ],
         "matches": "x",
         "showticklabels": false
        },
        "xaxis11": {
         "anchor": "y11",
         "domain": [
          0.3333333333333333,
          0.6466666666666666
         ],
         "matches": "x",
         "showticklabels": false
        },
        "xaxis12": {
         "anchor": "y12",
         "domain": [
          0.6666666666666666,
          0.98
         ],
         "matches": "x",
         "showticklabels": false
        },
        "xaxis2": {
         "anchor": "y2",
         "domain": [
          0.3333333333333333,
          0.6466666666666666
         ],
         "matches": "x",
         "title": {
          "text": "n_points_per_ImageNet_class"
         }
        },
        "xaxis3": {
         "anchor": "y3",
         "domain": [
          0.6666666666666666,
          0.98
         ],
         "matches": "x",
         "title": {
          "text": "n_points_per_ImageNet_class"
         }
        },
        "xaxis4": {
         "anchor": "y4",
         "domain": [
          0,
          0.3133333333333333
         ],
         "matches": "x",
         "showticklabels": false
        },
        "xaxis5": {
         "anchor": "y5",
         "domain": [
          0.3333333333333333,
          0.6466666666666666
         ],
         "matches": "x",
         "showticklabels": false
        },
        "xaxis6": {
         "anchor": "y6",
         "domain": [
          0.6666666666666666,
          0.98
         ],
         "matches": "x",
         "showticklabels": false
        },
        "xaxis7": {
         "anchor": "y7",
         "domain": [
          0,
          0.3133333333333333
         ],
         "matches": "x",
         "showticklabels": false
        },
        "xaxis8": {
         "anchor": "y8",
         "domain": [
          0.3333333333333333,
          0.6466666666666666
         ],
         "matches": "x",
         "showticklabels": false
        },
        "xaxis9": {
         "anchor": "y9",
         "domain": [
          0.6666666666666666,
          0.98
         ],
         "matches": "x",
         "showticklabels": false
        },
        "yaxis": {
         "anchor": "x",
         "domain": [
          0,
          0.2275
         ],
         "range": [
          -0.2,
          1.2
         ],
         "title": {
          "text": "R@10"
         }
        },
        "yaxis10": {
         "anchor": "x10",
         "domain": [
          0.7725,
          1
         ],
         "matches": "y",
         "title": {
          "text": "R@10"
         }
        },
        "yaxis11": {
         "anchor": "x11",
         "domain": [
          0.7725,
          1
         ],
         "matches": "y",
         "showticklabels": false
        },
        "yaxis12": {
         "anchor": "x12",
         "domain": [
          0.7725,
          1
         ],
         "matches": "y",
         "showticklabels": false
        },
        "yaxis2": {
         "anchor": "x2",
         "domain": [
          0,
          0.2275
         ],
         "matches": "y",
         "showticklabels": false
        },
        "yaxis3": {
         "anchor": "x3",
         "domain": [
          0,
          0.2275
         ],
         "matches": "y",
         "showticklabels": false
        },
        "yaxis4": {
         "anchor": "x4",
         "domain": [
          0.2575,
          0.485
         ],
         "matches": "y",
         "title": {
          "text": "R@10"
         }
        },
        "yaxis5": {
         "anchor": "x5",
         "domain": [
          0.2575,
          0.485
         ],
         "matches": "y",
         "showticklabels": false
        },
        "yaxis6": {
         "anchor": "x6",
         "domain": [
          0.2575,
          0.485
         ],
         "matches": "y",
         "showticklabels": false
        },
        "yaxis7": {
         "anchor": "x7",
         "domain": [
          0.515,
          0.7425
         ],
         "matches": "y",
         "title": {
          "text": "R@10"
         }
        },
        "yaxis8": {
         "anchor": "x8",
         "domain": [
          0.515,
          0.7425
         ],
         "matches": "y",
         "showticklabels": false
        },
        "yaxis9": {
         "anchor": "x9",
         "domain": [
          0.515,
          0.7425
         ],
         "matches": "y",
         "showticklabels": false
        }
       }
      },
      "text/html": [
       "<div>                            <div id=\"196545ff-49ce-4092-bcd4-7f1d6ced20cb\" class=\"plotly-graph-div\" style=\"height:1600px; width:1550px;\"></div>            <script type=\"text/javascript\">                require([\"plotly\"], function(Plotly) {                    window.PLOTLYENV=window.PLOTLYENV || {};                                    if (document.getElementById(\"196545ff-49ce-4092-bcd4-7f1d6ced20cb\")) {                    Plotly.newPlot(                        \"196545ff-49ce-4092-bcd4-7f1d6ced20cb\",                        [{\"hovertemplate\":\"Method=BT<br>task=txt2img<br>n_ImageNet_classes=1<br>n_points_per_ImageNet_class=%{x}<br>R@10=%{y}<br>text=%{text}<extra></extra>\",\"legendgroup\":\"BT\",\"line\":{\"color\":\"#636EFA\",\"dash\":\"solid\"},\"marker\":{\"symbol\":\"circle\"},\"mode\":\"text+lines+markers\",\"name\":\"BT\",\"orientation\":\"v\",\"showlegend\":true,\"text\":[\"0.36\",\"0.4\",\"0.44\",\"0.44\"],\"x\":[\"5\",\"10\",\"20\",\"30\"],\"xaxis\":\"x10\",\"y\":[0.36,0.4,0.44,0.44],\"yaxis\":\"y10\",\"type\":\"scatter\",\"textposition\":\"bottom center\"},{\"hovertemplate\":\"Method=BT<br>task=txt2img<br>n_ImageNet_classes=2<br>n_points_per_ImageNet_class=%{x}<br>R@10=%{y}<br>text=%{text}<extra></extra>\",\"legendgroup\":\"BT\",\"line\":{\"color\":\"#636EFA\",\"dash\":\"solid\"},\"marker\":{\"symbol\":\"circle\"},\"mode\":\"text+lines+markers\",\"name\":\"BT\",\"orientation\":\"v\",\"showlegend\":false,\"text\":[\"0.33\",\"0.25\",\"0.25\",\"0.21\"],\"x\":[\"5\",\"10\",\"20\",\"30\"],\"xaxis\":\"x11\",\"y\":[0.33,0.25,0.25,0.21],\"yaxis\":\"y11\",\"type\":\"scatter\",\"textposition\":\"bottom center\"},{\"hovertemplate\":\"Method=BT<br>task=txt2img<br>n_ImageNet_classes=5<br>n_points_per_ImageNet_class=%{x}<br>R@10=%{y}<br>text=%{text}<extra></extra>\",\"legendgroup\":\"BT\",\"line\":{\"color\":\"#636EFA\",\"dash\":\"solid\"},\"marker\":{\"symbol\":\"circle\"},\"mode\":\"text+lines+markers\",\"name\":\"BT\",\"orientation\":\"v\",\"showlegend\":false,\"text\":[\"0.2\",\"0.2\",\"0.16\",\"0.12\"],\"x\":[\"5\",\"10\",\"20\",\"30\"],\"xaxis\":\"x12\",\"y\":[0.2,0.2,0.16,0.12],\"yaxis\":\"y12\",\"type\":\"scatter\",\"textposition\":\"bottom center\"},{\"hovertemplate\":\"Method=BT<br>task=txt2txt<br>n_ImageNet_classes=1<br>n_points_per_ImageNet_class=%{x}<br>R@10=%{y}<br>text=%{text}<extra></extra>\",\"legendgroup\":\"BT\",\"line\":{\"color\":\"#636EFA\",\"dash\":\"solid\"},\"marker\":{\"symbol\":\"circle\"},\"mode\":\"text+lines+markers\",\"name\":\"BT\",\"orientation\":\"v\",\"showlegend\":false,\"text\":[\"0.2\",\"0.48\",\"0.44\",\"0.64\"],\"x\":[\"5\",\"10\",\"20\",\"30\"],\"xaxis\":\"x7\",\"y\":[0.2,0.48,0.44,0.64],\"yaxis\":\"y7\",\"type\":\"scatter\",\"textposition\":\"bottom center\"},{\"hovertemplate\":\"Method=BT<br>task=txt2txt<br>n_ImageNet_classes=2<br>n_points_per_ImageNet_class=%{x}<br>R@10=%{y}<br>text=%{text}<extra></extra>\",\"legendgroup\":\"BT\",\"line\":{\"color\":\"#636EFA\",\"dash\":\"solid\"},\"marker\":{\"symbol\":\"circle\"},\"mode\":\"text+lines+markers\",\"name\":\"BT\",\"orientation\":\"v\",\"showlegend\":false,\"text\":[\"0.29\",\"0.17\",\"0.12\",\"0.08\"],\"x\":[\"5\",\"10\",\"20\",\"30\"],\"xaxis\":\"x8\",\"y\":[0.29,0.17,0.12,0.08],\"yaxis\":\"y8\",\"type\":\"scatter\",\"textposition\":\"bottom center\"},{\"hovertemplate\":\"Method=BT<br>task=txt2txt<br>n_ImageNet_classes=5<br>n_points_per_ImageNet_class=%{x}<br>R@10=%{y}<br>text=%{text}<extra></extra>\",\"legendgroup\":\"BT\",\"line\":{\"color\":\"#636EFA\",\"dash\":\"solid\"},\"marker\":{\"symbol\":\"circle\"},\"mode\":\"text+lines+markers\",\"name\":\"BT\",\"orientation\":\"v\",\"showlegend\":false,\"text\":[\"0.12\",\"0.08\",\"0.12\",\"0.04\"],\"x\":[\"5\",\"10\",\"20\",\"30\"],\"xaxis\":\"x9\",\"y\":[0.12,0.08,0.12,0.04],\"yaxis\":\"y9\",\"type\":\"scatter\",\"textposition\":\"bottom center\"},{\"hovertemplate\":\"Method=BT<br>task=img2txt<br>n_ImageNet_classes=1<br>n_points_per_ImageNet_class=%{x}<br>R@10=%{y}<br>text=%{text}<extra></extra>\",\"legendgroup\":\"BT\",\"line\":{\"color\":\"#636EFA\",\"dash\":\"solid\"},\"marker\":{\"symbol\":\"circle\"},\"mode\":\"text+lines+markers\",\"name\":\"BT\",\"orientation\":\"v\",\"showlegend\":false,\"text\":[\"0.16\",\"0.28\",\"0.2\",\"0.32\"],\"x\":[\"5\",\"10\",\"20\",\"30\"],\"xaxis\":\"x4\",\"y\":[0.16,0.28,0.2,0.32],\"yaxis\":\"y4\",\"type\":\"scatter\",\"textposition\":\"bottom center\"},{\"hovertemplate\":\"Method=BT<br>task=img2txt<br>n_ImageNet_classes=2<br>n_points_per_ImageNet_class=%{x}<br>R@10=%{y}<br>text=%{text}<extra></extra>\",\"legendgroup\":\"BT\",\"line\":{\"color\":\"#636EFA\",\"dash\":\"solid\"},\"marker\":{\"symbol\":\"circle\"},\"mode\":\"text+lines+markers\",\"name\":\"BT\",\"orientation\":\"v\",\"showlegend\":false,\"text\":[\"0.12\",\"0.08\",\"0.12\",\"0.17\"],\"x\":[\"5\",\"10\",\"20\",\"30\"],\"xaxis\":\"x5\",\"y\":[0.12,0.08,0.12,0.17],\"yaxis\":\"y5\",\"type\":\"scatter\",\"textposition\":\"bottom center\"},{\"hovertemplate\":\"Method=BT<br>task=img2txt<br>n_ImageNet_classes=5<br>n_points_per_ImageNet_class=%{x}<br>R@10=%{y}<br>text=%{text}<extra></extra>\",\"legendgroup\":\"BT\",\"line\":{\"color\":\"#636EFA\",\"dash\":\"solid\"},\"marker\":{\"symbol\":\"circle\"},\"mode\":\"text+lines+markers\",\"name\":\"BT\",\"orientation\":\"v\",\"showlegend\":false,\"text\":[\"0.04\",\"0.04\",\"0.04\",\"0.12\"],\"x\":[\"5\",\"10\",\"20\",\"30\"],\"xaxis\":\"x6\",\"y\":[0.04,0.04,0.04,0.12],\"yaxis\":\"y6\",\"type\":\"scatter\",\"textposition\":\"bottom center\"},{\"hovertemplate\":\"Method=BT<br>task=img2img<br>n_ImageNet_classes=1<br>n_points_per_ImageNet_class=%{x}<br>R@10=%{y}<br>text=%{text}<extra></extra>\",\"legendgroup\":\"BT\",\"line\":{\"color\":\"#636EFA\",\"dash\":\"solid\"},\"marker\":{\"symbol\":\"circle\"},\"mode\":\"text+lines+markers\",\"name\":\"BT\",\"orientation\":\"v\",\"showlegend\":false,\"text\":[\"0.44\",\"0.52\",\"0.28\",\"0.52\"],\"x\":[\"5\",\"10\",\"20\",\"30\"],\"xaxis\":\"x\",\"y\":[0.44,0.52,0.28,0.52],\"yaxis\":\"y\",\"type\":\"scatter\",\"textposition\":\"bottom center\"},{\"hovertemplate\":\"Method=BT<br>task=img2img<br>n_ImageNet_classes=2<br>n_points_per_ImageNet_class=%{x}<br>R@10=%{y}<br>text=%{text}<extra></extra>\",\"legendgroup\":\"BT\",\"line\":{\"color\":\"#636EFA\",\"dash\":\"solid\"},\"marker\":{\"symbol\":\"circle\"},\"mode\":\"text+lines+markers\",\"name\":\"BT\",\"orientation\":\"v\",\"showlegend\":false,\"text\":[\"0.33\",\"0.29\",\"0.17\",\"0.38\"],\"x\":[\"5\",\"10\",\"20\",\"30\"],\"xaxis\":\"x2\",\"y\":[0.33,0.29,0.17,0.38],\"yaxis\":\"y2\",\"type\":\"scatter\",\"textposition\":\"bottom center\"},{\"hovertemplate\":\"Method=BT<br>task=img2img<br>n_ImageNet_classes=5<br>n_points_per_ImageNet_class=%{x}<br>R@10=%{y}<br>text=%{text}<extra></extra>\",\"legendgroup\":\"BT\",\"line\":{\"color\":\"#636EFA\",\"dash\":\"solid\"},\"marker\":{\"symbol\":\"circle\"},\"mode\":\"text+lines+markers\",\"name\":\"BT\",\"orientation\":\"v\",\"showlegend\":false,\"text\":[\"0.2\",\"0.08\",\"0.0\",\"0.2\"],\"x\":[\"5\",\"10\",\"20\",\"30\"],\"xaxis\":\"x3\",\"y\":[0.2,0.08,0.0,0.2],\"yaxis\":\"y3\",\"type\":\"scatter\",\"textposition\":\"bottom center\"},{\"hovertemplate\":\"Method=ZCCR (CLIP)<br>task=txt2img<br>n_ImageNet_classes=1<br>n_points_per_ImageNet_class=%{x}<br>R@10=%{y}<br>text=%{text}<extra></extra>\",\"legendgroup\":\"ZCCR (CLIP)\",\"line\":{\"color\":\"#FF9DA6\",\"dash\":\"solid\"},\"marker\":{\"symbol\":\"circle\"},\"mode\":\"text+lines+markers\",\"name\":\"ZCCR (CLIP)\",\"orientation\":\"v\",\"showlegend\":true,\"text\":[\"\",\"\",\"\",\"\"],\"x\":[\"5\",\"10\",\"20\",\"30\"],\"xaxis\":\"x10\",\"y\":[0.96,0.96,0.96,1.0],\"yaxis\":\"y10\",\"type\":\"scatter\",\"textposition\":\"bottom center\"},{\"hovertemplate\":\"Method=ZCCR (CLIP)<br>task=txt2img<br>n_ImageNet_classes=2<br>n_points_per_ImageNet_class=%{x}<br>R@10=%{y}<br>text=%{text}<extra></extra>\",\"legendgroup\":\"ZCCR (CLIP)\",\"line\":{\"color\":\"#FF9DA6\",\"dash\":\"solid\"},\"marker\":{\"symbol\":\"circle\"},\"mode\":\"text+lines+markers\",\"name\":\"ZCCR (CLIP)\",\"orientation\":\"v\",\"showlegend\":false,\"text\":[\"\",\"\",\"\",\"\"],\"x\":[\"5\",\"10\",\"20\",\"30\"],\"xaxis\":\"x11\",\"y\":[0.84,0.92,0.96,0.96],\"yaxis\":\"y11\",\"type\":\"scatter\",\"textposition\":\"bottom center\"},{\"hovertemplate\":\"Method=ZCCR (CLIP)<br>task=txt2img<br>n_ImageNet_classes=5<br>n_points_per_ImageNet_class=%{x}<br>R@10=%{y}<br>text=%{text}<extra></extra>\",\"legendgroup\":\"ZCCR (CLIP)\",\"line\":{\"color\":\"#FF9DA6\",\"dash\":\"solid\"},\"marker\":{\"symbol\":\"circle\"},\"mode\":\"text+lines+markers\",\"name\":\"ZCCR (CLIP)\",\"orientation\":\"v\",\"showlegend\":false,\"text\":[\"\",\"\",\"\",\"\"],\"x\":[\"5\",\"10\",\"20\",\"30\"],\"xaxis\":\"x12\",\"y\":[0.88,0.96,0.96,1.0],\"yaxis\":\"y12\",\"type\":\"scatter\",\"textposition\":\"bottom center\"},{\"hovertemplate\":\"Method=ZCCR (CLIP)<br>task=txt2txt<br>n_ImageNet_classes=1<br>n_points_per_ImageNet_class=%{x}<br>R@10=%{y}<br>text=%{text}<extra></extra>\",\"legendgroup\":\"ZCCR (CLIP)\",\"line\":{\"color\":\"#FF9DA6\",\"dash\":\"solid\"},\"marker\":{\"symbol\":\"circle\"},\"mode\":\"text+lines+markers\",\"name\":\"ZCCR (CLIP)\",\"orientation\":\"v\",\"showlegend\":false,\"text\":[\"\",\"\",\"\",\"\"],\"x\":[\"5\",\"10\",\"20\",\"30\"],\"xaxis\":\"x7\",\"y\":[0.72,0.92,0.84,0.92],\"yaxis\":\"y7\",\"type\":\"scatter\",\"textposition\":\"bottom center\"},{\"hovertemplate\":\"Method=ZCCR (CLIP)<br>task=txt2txt<br>n_ImageNet_classes=2<br>n_points_per_ImageNet_class=%{x}<br>R@10=%{y}<br>text=%{text}<extra></extra>\",\"legendgroup\":\"ZCCR (CLIP)\",\"line\":{\"color\":\"#FF9DA6\",\"dash\":\"solid\"},\"marker\":{\"symbol\":\"circle\"},\"mode\":\"text+lines+markers\",\"name\":\"ZCCR (CLIP)\",\"orientation\":\"v\",\"showlegend\":false,\"text\":[\"\",\"\",\"\",\"\"],\"x\":[\"5\",\"10\",\"20\",\"30\"],\"xaxis\":\"x8\",\"y\":[0.8,0.76,0.84,0.92],\"yaxis\":\"y8\",\"type\":\"scatter\",\"textposition\":\"bottom center\"},{\"hovertemplate\":\"Method=ZCCR (CLIP)<br>task=txt2txt<br>n_ImageNet_classes=5<br>n_points_per_ImageNet_class=%{x}<br>R@10=%{y}<br>text=%{text}<extra></extra>\",\"legendgroup\":\"ZCCR (CLIP)\",\"line\":{\"color\":\"#FF9DA6\",\"dash\":\"solid\"},\"marker\":{\"symbol\":\"circle\"},\"mode\":\"text+lines+markers\",\"name\":\"ZCCR (CLIP)\",\"orientation\":\"v\",\"showlegend\":false,\"text\":[\"\",\"\",\"\",\"\"],\"x\":[\"5\",\"10\",\"20\",\"30\"],\"xaxis\":\"x9\",\"y\":[0.8,0.92,1.0,1.0],\"yaxis\":\"y9\",\"type\":\"scatter\",\"textposition\":\"bottom center\"},{\"hovertemplate\":\"Method=ZCCR (CLIP)<br>task=img2txt<br>n_ImageNet_classes=1<br>n_points_per_ImageNet_class=%{x}<br>R@10=%{y}<br>text=%{text}<extra></extra>\",\"legendgroup\":\"ZCCR (CLIP)\",\"line\":{\"color\":\"#FF9DA6\",\"dash\":\"solid\"},\"marker\":{\"symbol\":\"circle\"},\"mode\":\"text+lines+markers\",\"name\":\"ZCCR (CLIP)\",\"orientation\":\"v\",\"showlegend\":false,\"text\":[\"\",\"\",\"\",\"\"],\"x\":[\"5\",\"10\",\"20\",\"30\"],\"xaxis\":\"x4\",\"y\":[0.76,0.92,0.96,0.92],\"yaxis\":\"y4\",\"type\":\"scatter\",\"textposition\":\"bottom center\"},{\"hovertemplate\":\"Method=ZCCR (CLIP)<br>task=img2txt<br>n_ImageNet_classes=2<br>n_points_per_ImageNet_class=%{x}<br>R@10=%{y}<br>text=%{text}<extra></extra>\",\"legendgroup\":\"ZCCR (CLIP)\",\"line\":{\"color\":\"#FF9DA6\",\"dash\":\"solid\"},\"marker\":{\"symbol\":\"circle\"},\"mode\":\"text+lines+markers\",\"name\":\"ZCCR (CLIP)\",\"orientation\":\"v\",\"showlegend\":false,\"text\":[\"\",\"\",\"\",\"\"],\"x\":[\"5\",\"10\",\"20\",\"30\"],\"xaxis\":\"x5\",\"y\":[0.8,0.84,0.96,0.84],\"yaxis\":\"y5\",\"type\":\"scatter\",\"textposition\":\"bottom center\"},{\"hovertemplate\":\"Method=ZCCR (CLIP)<br>task=img2txt<br>n_ImageNet_classes=5<br>n_points_per_ImageNet_class=%{x}<br>R@10=%{y}<br>text=%{text}<extra></extra>\",\"legendgroup\":\"ZCCR (CLIP)\",\"line\":{\"color\":\"#FF9DA6\",\"dash\":\"solid\"},\"marker\":{\"symbol\":\"circle\"},\"mode\":\"text+lines+markers\",\"name\":\"ZCCR (CLIP)\",\"orientation\":\"v\",\"showlegend\":false,\"text\":[\"\",\"\",\"\",\"\"],\"x\":[\"5\",\"10\",\"20\",\"30\"],\"xaxis\":\"x6\",\"y\":[0.88,1.0,0.96,1.0],\"yaxis\":\"y6\",\"type\":\"scatter\",\"textposition\":\"bottom center\"},{\"hovertemplate\":\"Method=ZCCR (CLIP)<br>task=img2img<br>n_ImageNet_classes=1<br>n_points_per_ImageNet_class=%{x}<br>R@10=%{y}<br>text=%{text}<extra></extra>\",\"legendgroup\":\"ZCCR (CLIP)\",\"line\":{\"color\":\"#FF9DA6\",\"dash\":\"solid\"},\"marker\":{\"symbol\":\"circle\"},\"mode\":\"text+lines+markers\",\"name\":\"ZCCR (CLIP)\",\"orientation\":\"v\",\"showlegend\":false,\"text\":[\"\",\"\",\"\",\"\"],\"x\":[\"5\",\"10\",\"20\",\"30\"],\"xaxis\":\"x\",\"y\":[1.0,0.96,0.96,0.96],\"yaxis\":\"y\",\"type\":\"scatter\",\"textposition\":\"bottom center\"},{\"hovertemplate\":\"Method=ZCCR (CLIP)<br>task=img2img<br>n_ImageNet_classes=2<br>n_points_per_ImageNet_class=%{x}<br>R@10=%{y}<br>text=%{text}<extra></extra>\",\"legendgroup\":\"ZCCR (CLIP)\",\"line\":{\"color\":\"#FF9DA6\",\"dash\":\"solid\"},\"marker\":{\"symbol\":\"circle\"},\"mode\":\"text+lines+markers\",\"name\":\"ZCCR (CLIP)\",\"orientation\":\"v\",\"showlegend\":false,\"text\":[\"\",\"\",\"\",\"\"],\"x\":[\"5\",\"10\",\"20\",\"30\"],\"xaxis\":\"x2\",\"y\":[0.8,0.88,0.92,0.96],\"yaxis\":\"y2\",\"type\":\"scatter\",\"textposition\":\"bottom center\"},{\"hovertemplate\":\"Method=ZCCR (CLIP)<br>task=img2img<br>n_ImageNet_classes=5<br>n_points_per_ImageNet_class=%{x}<br>R@10=%{y}<br>text=%{text}<extra></extra>\",\"legendgroup\":\"ZCCR (CLIP)\",\"line\":{\"color\":\"#FF9DA6\",\"dash\":\"solid\"},\"marker\":{\"symbol\":\"circle\"},\"mode\":\"text+lines+markers\",\"name\":\"ZCCR (CLIP)\",\"orientation\":\"v\",\"showlegend\":false,\"text\":[\"\",\"\",\"\",\"\"],\"x\":[\"5\",\"10\",\"20\",\"30\"],\"xaxis\":\"x3\",\"y\":[0.84,1.0,1.0,1.0],\"yaxis\":\"y3\",\"type\":\"scatter\",\"textposition\":\"bottom center\"},{\"hovertemplate\":\"Method=ZCCR (ALBEF)<br>task=txt2img<br>n_ImageNet_classes=1<br>n_points_per_ImageNet_class=%{x}<br>R@10=%{y}<br>text=%{text}<extra></extra>\",\"legendgroup\":\"ZCCR (ALBEF)\",\"line\":{\"color\":\"#EF553B\",\"dash\":\"solid\"},\"marker\":{\"symbol\":\"circle\"},\"mode\":\"text+lines+markers\",\"name\":\"ZCCR (ALBEF)\",\"orientation\":\"v\",\"showlegend\":true,\"text\":[\"<b>0.84</b>\",\"<b>0.92</b>\",\"<b>1.0</b>\",\"<b>0.96</b>\"],\"x\":[\"5\",\"10\",\"20\",\"30\"],\"xaxis\":\"x10\",\"y\":[0.84,0.92,1.0,0.96],\"yaxis\":\"y10\",\"type\":\"scatter\",\"textposition\":\"bottom center\"},{\"hovertemplate\":\"Method=ZCCR (ALBEF)<br>task=txt2img<br>n_ImageNet_classes=2<br>n_points_per_ImageNet_class=%{x}<br>R@10=%{y}<br>text=%{text}<extra></extra>\",\"legendgroup\":\"ZCCR (ALBEF)\",\"line\":{\"color\":\"#EF553B\",\"dash\":\"solid\"},\"marker\":{\"symbol\":\"circle\"},\"mode\":\"text+lines+markers\",\"name\":\"ZCCR (ALBEF)\",\"orientation\":\"v\",\"showlegend\":false,\"text\":[\"<b>0.88</b>\",\"<b>0.88</b>\",\"<b>0.88</b>\",\"<b>0.96</b>\"],\"x\":[\"5\",\"10\",\"20\",\"30\"],\"xaxis\":\"x11\",\"y\":[0.88,0.88,0.88,0.96],\"yaxis\":\"y11\",\"type\":\"scatter\",\"textposition\":\"bottom center\"},{\"hovertemplate\":\"Method=ZCCR (ALBEF)<br>task=txt2img<br>n_ImageNet_classes=5<br>n_points_per_ImageNet_class=%{x}<br>R@10=%{y}<br>text=%{text}<extra></extra>\",\"legendgroup\":\"ZCCR (ALBEF)\",\"line\":{\"color\":\"#EF553B\",\"dash\":\"solid\"},\"marker\":{\"symbol\":\"circle\"},\"mode\":\"text+lines+markers\",\"name\":\"ZCCR (ALBEF)\",\"orientation\":\"v\",\"showlegend\":false,\"text\":[\"<b>0.92</b>\",\"<b>0.92</b>\",\"<b>0.96</b>\",\"<b>1.0</b>\"],\"x\":[\"5\",\"10\",\"20\",\"30\"],\"xaxis\":\"x12\",\"y\":[0.92,0.92,0.96,1.0],\"yaxis\":\"y12\",\"type\":\"scatter\",\"textposition\":\"bottom center\"},{\"hovertemplate\":\"Method=ZCCR (ALBEF)<br>task=txt2txt<br>n_ImageNet_classes=1<br>n_points_per_ImageNet_class=%{x}<br>R@10=%{y}<br>text=%{text}<extra></extra>\",\"legendgroup\":\"ZCCR (ALBEF)\",\"line\":{\"color\":\"#EF553B\",\"dash\":\"solid\"},\"marker\":{\"symbol\":\"circle\"},\"mode\":\"text+lines+markers\",\"name\":\"ZCCR (ALBEF)\",\"orientation\":\"v\",\"showlegend\":false,\"text\":[\"<b>0.68</b>\",\"<b>0.88</b>\",\"<b>0.8</b>\",\"<b>0.92</b>\"],\"x\":[\"5\",\"10\",\"20\",\"30\"],\"xaxis\":\"x7\",\"y\":[0.68,0.88,0.8,0.92],\"yaxis\":\"y7\",\"type\":\"scatter\",\"textposition\":\"bottom center\"},{\"hovertemplate\":\"Method=ZCCR (ALBEF)<br>task=txt2txt<br>n_ImageNet_classes=2<br>n_points_per_ImageNet_class=%{x}<br>R@10=%{y}<br>text=%{text}<extra></extra>\",\"legendgroup\":\"ZCCR (ALBEF)\",\"line\":{\"color\":\"#EF553B\",\"dash\":\"solid\"},\"marker\":{\"symbol\":\"circle\"},\"mode\":\"text+lines+markers\",\"name\":\"ZCCR (ALBEF)\",\"orientation\":\"v\",\"showlegend\":false,\"text\":[\"<b>0.68</b>\",\"<b>0.68</b>\",\"<b>0.84</b>\",\"<b>0.84</b>\"],\"x\":[\"5\",\"10\",\"20\",\"30\"],\"xaxis\":\"x8\",\"y\":[0.68,0.68,0.84,0.84],\"yaxis\":\"y8\",\"type\":\"scatter\",\"textposition\":\"bottom center\"},{\"hovertemplate\":\"Method=ZCCR (ALBEF)<br>task=txt2txt<br>n_ImageNet_classes=5<br>n_points_per_ImageNet_class=%{x}<br>R@10=%{y}<br>text=%{text}<extra></extra>\",\"legendgroup\":\"ZCCR (ALBEF)\",\"line\":{\"color\":\"#EF553B\",\"dash\":\"solid\"},\"marker\":{\"symbol\":\"circle\"},\"mode\":\"text+lines+markers\",\"name\":\"ZCCR (ALBEF)\",\"orientation\":\"v\",\"showlegend\":false,\"text\":[\"<b>0.68</b>\",\"<b>0.96</b>\",\"<b>0.88</b>\",\"<b>0.96</b>\"],\"x\":[\"5\",\"10\",\"20\",\"30\"],\"xaxis\":\"x9\",\"y\":[0.68,0.96,0.88,0.96],\"yaxis\":\"y9\",\"type\":\"scatter\",\"textposition\":\"bottom center\"},{\"hovertemplate\":\"Method=ZCCR (ALBEF)<br>task=img2txt<br>n_ImageNet_classes=1<br>n_points_per_ImageNet_class=%{x}<br>R@10=%{y}<br>text=%{text}<extra></extra>\",\"legendgroup\":\"ZCCR (ALBEF)\",\"line\":{\"color\":\"#EF553B\",\"dash\":\"solid\"},\"marker\":{\"symbol\":\"circle\"},\"mode\":\"text+lines+markers\",\"name\":\"ZCCR (ALBEF)\",\"orientation\":\"v\",\"showlegend\":false,\"text\":[\"<b>0.84</b>\",\"<b>0.84</b>\",\"<b>0.96</b>\",\"<b>0.96</b>\"],\"x\":[\"5\",\"10\",\"20\",\"30\"],\"xaxis\":\"x4\",\"y\":[0.84,0.84,0.96,0.96],\"yaxis\":\"y4\",\"type\":\"scatter\",\"textposition\":\"bottom center\"},{\"hovertemplate\":\"Method=ZCCR (ALBEF)<br>task=img2txt<br>n_ImageNet_classes=2<br>n_points_per_ImageNet_class=%{x}<br>R@10=%{y}<br>text=%{text}<extra></extra>\",\"legendgroup\":\"ZCCR (ALBEF)\",\"line\":{\"color\":\"#EF553B\",\"dash\":\"solid\"},\"marker\":{\"symbol\":\"circle\"},\"mode\":\"text+lines+markers\",\"name\":\"ZCCR (ALBEF)\",\"orientation\":\"v\",\"showlegend\":false,\"text\":[\"<b>0.76</b>\",\"<b>0.88</b>\",\"<b>0.96</b>\",\"<b>0.96</b>\"],\"x\":[\"5\",\"10\",\"20\",\"30\"],\"xaxis\":\"x5\",\"y\":[0.76,0.88,0.96,0.96],\"yaxis\":\"y5\",\"type\":\"scatter\",\"textposition\":\"bottom center\"},{\"hovertemplate\":\"Method=ZCCR (ALBEF)<br>task=img2txt<br>n_ImageNet_classes=5<br>n_points_per_ImageNet_class=%{x}<br>R@10=%{y}<br>text=%{text}<extra></extra>\",\"legendgroup\":\"ZCCR (ALBEF)\",\"line\":{\"color\":\"#EF553B\",\"dash\":\"solid\"},\"marker\":{\"symbol\":\"circle\"},\"mode\":\"text+lines+markers\",\"name\":\"ZCCR (ALBEF)\",\"orientation\":\"v\",\"showlegend\":false,\"text\":[\"<b>0.88</b>\",\"<b>0.96</b>\",\"<b>1.0</b>\",\"<b>1.0</b>\"],\"x\":[\"5\",\"10\",\"20\",\"30\"],\"xaxis\":\"x6\",\"y\":[0.88,0.96,1.0,1.0],\"yaxis\":\"y6\",\"type\":\"scatter\",\"textposition\":\"bottom center\"},{\"hovertemplate\":\"Method=ZCCR (ALBEF)<br>task=img2img<br>n_ImageNet_classes=1<br>n_points_per_ImageNet_class=%{x}<br>R@10=%{y}<br>text=%{text}<extra></extra>\",\"legendgroup\":\"ZCCR (ALBEF)\",\"line\":{\"color\":\"#EF553B\",\"dash\":\"solid\"},\"marker\":{\"symbol\":\"circle\"},\"mode\":\"text+lines+markers\",\"name\":\"ZCCR (ALBEF)\",\"orientation\":\"v\",\"showlegend\":false,\"text\":[\"<b>0.92</b>\",\"<b>0.96</b>\",\"<b>0.92</b>\",\"<b>1.0</b>\"],\"x\":[\"5\",\"10\",\"20\",\"30\"],\"xaxis\":\"x\",\"y\":[0.92,0.96,0.92,1.0],\"yaxis\":\"y\",\"type\":\"scatter\",\"textposition\":\"bottom center\"},{\"hovertemplate\":\"Method=ZCCR (ALBEF)<br>task=img2img<br>n_ImageNet_classes=2<br>n_points_per_ImageNet_class=%{x}<br>R@10=%{y}<br>text=%{text}<extra></extra>\",\"legendgroup\":\"ZCCR (ALBEF)\",\"line\":{\"color\":\"#EF553B\",\"dash\":\"solid\"},\"marker\":{\"symbol\":\"circle\"},\"mode\":\"text+lines+markers\",\"name\":\"ZCCR (ALBEF)\",\"orientation\":\"v\",\"showlegend\":false,\"text\":[\"<b>0.88</b>\",\"<b>0.84</b>\",\"<b>0.96</b>\",\"<b>0.96</b>\"],\"x\":[\"5\",\"10\",\"20\",\"30\"],\"xaxis\":\"x2\",\"y\":[0.88,0.84,0.96,0.96],\"yaxis\":\"y2\",\"type\":\"scatter\",\"textposition\":\"bottom center\"},{\"hovertemplate\":\"Method=ZCCR (ALBEF)<br>task=img2img<br>n_ImageNet_classes=5<br>n_points_per_ImageNet_class=%{x}<br>R@10=%{y}<br>text=%{text}<extra></extra>\",\"legendgroup\":\"ZCCR (ALBEF)\",\"line\":{\"color\":\"#EF553B\",\"dash\":\"solid\"},\"marker\":{\"symbol\":\"circle\"},\"mode\":\"text+lines+markers\",\"name\":\"ZCCR (ALBEF)\",\"orientation\":\"v\",\"showlegend\":false,\"text\":[\"<b>0.96</b>\",\"<b>1.0</b>\",\"<b>0.96</b>\",\"<b>1.0</b>\"],\"x\":[\"5\",\"10\",\"20\",\"30\"],\"xaxis\":\"x3\",\"y\":[0.96,1.0,0.96,1.0],\"yaxis\":\"y3\",\"type\":\"scatter\",\"textposition\":\"bottom center\"},{\"hovertemplate\":\"Method=BTBA<br>task=txt2img<br>n_ImageNet_classes=1<br>n_points_per_ImageNet_class=%{x}<br>R@10=%{y}<br>text=%{text}<extra></extra>\",\"legendgroup\":\"BTBA\",\"line\":{\"color\":\"#00CC99\",\"dash\":\"solid\"},\"marker\":{\"symbol\":\"circle\"},\"mode\":\"text+lines+markers\",\"name\":\"BTBA\",\"orientation\":\"v\",\"showlegend\":true,\"text\":[\"0.36\",\"0.48\",\"0.4\",\"0.6\"],\"x\":[\"5\",\"10\",\"20\",\"30\"],\"xaxis\":\"x10\",\"y\":[0.36,0.48,0.4,0.6],\"yaxis\":\"y10\",\"type\":\"scatter\",\"textposition\":\"bottom center\"},{\"hovertemplate\":\"Method=BTBA<br>task=txt2img<br>n_ImageNet_classes=2<br>n_points_per_ImageNet_class=%{x}<br>R@10=%{y}<br>text=%{text}<extra></extra>\",\"legendgroup\":\"BTBA\",\"line\":{\"color\":\"#00CC99\",\"dash\":\"solid\"},\"marker\":{\"symbol\":\"circle\"},\"mode\":\"text+lines+markers\",\"name\":\"BTBA\",\"orientation\":\"v\",\"showlegend\":false,\"text\":[\"0.38\",\"0.5\",\"0.67\",\"0.58\"],\"x\":[\"5\",\"10\",\"20\",\"30\"],\"xaxis\":\"x11\",\"y\":[0.38,0.5,0.67,0.58],\"yaxis\":\"y11\",\"type\":\"scatter\",\"textposition\":\"bottom center\"},{\"hovertemplate\":\"Method=BTBA<br>task=txt2img<br>n_ImageNet_classes=5<br>n_points_per_ImageNet_class=%{x}<br>R@10=%{y}<br>text=%{text}<extra></extra>\",\"legendgroup\":\"BTBA\",\"line\":{\"color\":\"#00CC99\",\"dash\":\"solid\"},\"marker\":{\"symbol\":\"circle\"},\"mode\":\"text+lines+markers\",\"name\":\"BTBA\",\"orientation\":\"v\",\"showlegend\":false,\"text\":[\"0.6\",\"0.56\",\"0.64\",\"0.64\"],\"x\":[\"5\",\"10\",\"20\",\"30\"],\"xaxis\":\"x12\",\"y\":[0.6,0.56,0.64,0.64],\"yaxis\":\"y12\",\"type\":\"scatter\",\"textposition\":\"bottom center\"},{\"hovertemplate\":\"Method=BTBA<br>task=txt2txt<br>n_ImageNet_classes=1<br>n_points_per_ImageNet_class=%{x}<br>R@10=%{y}<br>text=%{text}<extra></extra>\",\"legendgroup\":\"BTBA\",\"line\":{\"color\":\"#00CC99\",\"dash\":\"solid\"},\"marker\":{\"symbol\":\"circle\"},\"mode\":\"text+lines+markers\",\"name\":\"BTBA\",\"orientation\":\"v\",\"showlegend\":false,\"text\":[\"0.16\",\"0.48\",\"0.6\",\"0.44\"],\"x\":[\"5\",\"10\",\"20\",\"30\"],\"xaxis\":\"x7\",\"y\":[0.16,0.48,0.6,0.44],\"yaxis\":\"y7\",\"type\":\"scatter\",\"textposition\":\"bottom center\"},{\"hovertemplate\":\"Method=BTBA<br>task=txt2txt<br>n_ImageNet_classes=2<br>n_points_per_ImageNet_class=%{x}<br>R@10=%{y}<br>text=%{text}<extra></extra>\",\"legendgroup\":\"BTBA\",\"line\":{\"color\":\"#00CC99\",\"dash\":\"solid\"},\"marker\":{\"symbol\":\"circle\"},\"mode\":\"text+lines+markers\",\"name\":\"BTBA\",\"orientation\":\"v\",\"showlegend\":false,\"text\":[\"0.46\",\"0.42\",\"0.58\",\"0.83\"],\"x\":[\"5\",\"10\",\"20\",\"30\"],\"xaxis\":\"x8\",\"y\":[0.46,0.42,0.58,0.83],\"yaxis\":\"y8\",\"type\":\"scatter\",\"textposition\":\"bottom center\"},{\"hovertemplate\":\"Method=BTBA<br>task=txt2txt<br>n_ImageNet_classes=5<br>n_points_per_ImageNet_class=%{x}<br>R@10=%{y}<br>text=%{text}<extra></extra>\",\"legendgroup\":\"BTBA\",\"line\":{\"color\":\"#00CC99\",\"dash\":\"solid\"},\"marker\":{\"symbol\":\"circle\"},\"mode\":\"text+lines+markers\",\"name\":\"BTBA\",\"orientation\":\"v\",\"showlegend\":false,\"text\":[\"0.52\",\"0.44\",\"0.64\",\"0.84\"],\"x\":[\"5\",\"10\",\"20\",\"30\"],\"xaxis\":\"x9\",\"y\":[0.52,0.44,0.64,0.84],\"yaxis\":\"y9\",\"type\":\"scatter\",\"textposition\":\"bottom center\"},{\"hovertemplate\":\"Method=BTBA<br>task=img2txt<br>n_ImageNet_classes=1<br>n_points_per_ImageNet_class=%{x}<br>R@10=%{y}<br>text=%{text}<extra></extra>\",\"legendgroup\":\"BTBA\",\"line\":{\"color\":\"#00CC99\",\"dash\":\"solid\"},\"marker\":{\"symbol\":\"circle\"},\"mode\":\"text+lines+markers\",\"name\":\"BTBA\",\"orientation\":\"v\",\"showlegend\":false,\"text\":[\"0.16\",\"0.16\",\"0.28\",\"0.4\"],\"x\":[\"5\",\"10\",\"20\",\"30\"],\"xaxis\":\"x4\",\"y\":[0.16,0.16,0.28,0.4],\"yaxis\":\"y4\",\"type\":\"scatter\",\"textposition\":\"bottom center\"},{\"hovertemplate\":\"Method=BTBA<br>task=img2txt<br>n_ImageNet_classes=2<br>n_points_per_ImageNet_class=%{x}<br>R@10=%{y}<br>text=%{text}<extra></extra>\",\"legendgroup\":\"BTBA\",\"line\":{\"color\":\"#00CC99\",\"dash\":\"solid\"},\"marker\":{\"symbol\":\"circle\"},\"mode\":\"text+lines+markers\",\"name\":\"BTBA\",\"orientation\":\"v\",\"showlegend\":false,\"text\":[\"0.17\",\"0.25\",\"0.25\",\"0.21\"],\"x\":[\"5\",\"10\",\"20\",\"30\"],\"xaxis\":\"x5\",\"y\":[0.17,0.25,0.25,0.21],\"yaxis\":\"y5\",\"type\":\"scatter\",\"textposition\":\"bottom center\"},{\"hovertemplate\":\"Method=BTBA<br>task=img2txt<br>n_ImageNet_classes=5<br>n_points_per_ImageNet_class=%{x}<br>R@10=%{y}<br>text=%{text}<extra></extra>\",\"legendgroup\":\"BTBA\",\"line\":{\"color\":\"#00CC99\",\"dash\":\"solid\"},\"marker\":{\"symbol\":\"circle\"},\"mode\":\"text+lines+markers\",\"name\":\"BTBA\",\"orientation\":\"v\",\"showlegend\":false,\"text\":[\"0.16\",\"0.28\",\"0.24\",\"0.2\"],\"x\":[\"5\",\"10\",\"20\",\"30\"],\"xaxis\":\"x6\",\"y\":[0.16,0.28,0.24,0.2],\"yaxis\":\"y6\",\"type\":\"scatter\",\"textposition\":\"bottom center\"},{\"hovertemplate\":\"Method=BTBA<br>task=img2img<br>n_ImageNet_classes=1<br>n_points_per_ImageNet_class=%{x}<br>R@10=%{y}<br>text=%{text}<extra></extra>\",\"legendgroup\":\"BTBA\",\"line\":{\"color\":\"#00CC99\",\"dash\":\"solid\"},\"marker\":{\"symbol\":\"circle\"},\"mode\":\"text+lines+markers\",\"name\":\"BTBA\",\"orientation\":\"v\",\"showlegend\":false,\"text\":[\"0.36\",\"0.56\",\"0.52\",\"0.84\"],\"x\":[\"5\",\"10\",\"20\",\"30\"],\"xaxis\":\"x\",\"y\":[0.36,0.56,0.52,0.84],\"yaxis\":\"y\",\"type\":\"scatter\",\"textposition\":\"bottom center\"},{\"hovertemplate\":\"Method=BTBA<br>task=img2img<br>n_ImageNet_classes=2<br>n_points_per_ImageNet_class=%{x}<br>R@10=%{y}<br>text=%{text}<extra></extra>\",\"legendgroup\":\"BTBA\",\"line\":{\"color\":\"#00CC99\",\"dash\":\"solid\"},\"marker\":{\"symbol\":\"circle\"},\"mode\":\"text+lines+markers\",\"name\":\"BTBA\",\"orientation\":\"v\",\"showlegend\":false,\"text\":[\"0.62\",\"0.58\",\"0.58\",\"0.79\"],\"x\":[\"5\",\"10\",\"20\",\"30\"],\"xaxis\":\"x2\",\"y\":[0.62,0.58,0.58,0.79],\"yaxis\":\"y2\",\"type\":\"scatter\",\"textposition\":\"bottom center\"},{\"hovertemplate\":\"Method=BTBA<br>task=img2img<br>n_ImageNet_classes=5<br>n_points_per_ImageNet_class=%{x}<br>R@10=%{y}<br>text=%{text}<extra></extra>\",\"legendgroup\":\"BTBA\",\"line\":{\"color\":\"#00CC99\",\"dash\":\"solid\"},\"marker\":{\"symbol\":\"circle\"},\"mode\":\"text+lines+markers\",\"name\":\"BTBA\",\"orientation\":\"v\",\"showlegend\":false,\"text\":[\"0.52\",\"0.68\",\"0.68\",\"0.72\"],\"x\":[\"5\",\"10\",\"20\",\"30\"],\"xaxis\":\"x3\",\"y\":[0.52,0.68,0.68,0.72],\"yaxis\":\"y3\",\"type\":\"scatter\",\"textposition\":\"bottom center\"}],                        {\"template\":{\"data\":{\"bar\":[{\"error_x\":{\"color\":\"#2a3f5f\"},\"error_y\":{\"color\":\"#2a3f5f\"},\"marker\":{\"line\":{\"color\":\"#E5ECF6\",\"width\":0.5},\"pattern\":{\"fillmode\":\"overlay\",\"size\":10,\"solidity\":0.2}},\"type\":\"bar\"}],\"barpolar\":[{\"marker\":{\"line\":{\"color\":\"#E5ECF6\",\"width\":0.5},\"pattern\":{\"fillmode\":\"overlay\",\"size\":10,\"solidity\":0.2}},\"type\":\"barpolar\"}],\"carpet\":[{\"aaxis\":{\"endlinecolor\":\"#2a3f5f\",\"gridcolor\":\"white\",\"linecolor\":\"white\",\"minorgridcolor\":\"white\",\"startlinecolor\":\"#2a3f5f\"},\"baxis\":{\"endlinecolor\":\"#2a3f5f\",\"gridcolor\":\"white\",\"linecolor\":\"white\",\"minorgridcolor\":\"white\",\"startlinecolor\":\"#2a3f5f\"},\"type\":\"carpet\"}],\"choropleth\":[{\"colorbar\":{\"outlinewidth\":0,\"ticks\":\"\"},\"type\":\"choropleth\"}],\"contour\":[{\"colorbar\":{\"outlinewidth\":0,\"ticks\":\"\"},\"colorscale\":[[0.0,\"#0d0887\"],[0.1111111111111111,\"#46039f\"],[0.2222222222222222,\"#7201a8\"],[0.3333333333333333,\"#9c179e\"],[0.4444444444444444,\"#bd3786\"],[0.5555555555555556,\"#d8576b\"],[0.6666666666666666,\"#ed7953\"],[0.7777777777777778,\"#fb9f3a\"],[0.8888888888888888,\"#fdca26\"],[1.0,\"#f0f921\"]],\"type\":\"contour\"}],\"contourcarpet\":[{\"colorbar\":{\"outlinewidth\":0,\"ticks\":\"\"},\"type\":\"contourcarpet\"}],\"heatmap\":[{\"colorbar\":{\"outlinewidth\":0,\"ticks\":\"\"},\"colorscale\":[[0.0,\"#0d0887\"],[0.1111111111111111,\"#46039f\"],[0.2222222222222222,\"#7201a8\"],[0.3333333333333333,\"#9c179e\"],[0.4444444444444444,\"#bd3786\"],[0.5555555555555556,\"#d8576b\"],[0.6666666666666666,\"#ed7953\"],[0.7777777777777778,\"#fb9f3a\"],[0.8888888888888888,\"#fdca26\"],[1.0,\"#f0f921\"]],\"type\":\"heatmap\"}],\"heatmapgl\":[{\"colorbar\":{\"outlinewidth\":0,\"ticks\":\"\"},\"colorscale\":[[0.0,\"#0d0887\"],[0.1111111111111111,\"#46039f\"],[0.2222222222222222,\"#7201a8\"],[0.3333333333333333,\"#9c179e\"],[0.4444444444444444,\"#bd3786\"],[0.5555555555555556,\"#d8576b\"],[0.6666666666666666,\"#ed7953\"],[0.7777777777777778,\"#fb9f3a\"],[0.8888888888888888,\"#fdca26\"],[1.0,\"#f0f921\"]],\"type\":\"heatmapgl\"}],\"histogram\":[{\"marker\":{\"pattern\":{\"fillmode\":\"overlay\",\"size\":10,\"solidity\":0.2}},\"type\":\"histogram\"}],\"histogram2d\":[{\"colorbar\":{\"outlinewidth\":0,\"ticks\":\"\"},\"colorscale\":[[0.0,\"#0d0887\"],[0.1111111111111111,\"#46039f\"],[0.2222222222222222,\"#7201a8\"],[0.3333333333333333,\"#9c179e\"],[0.4444444444444444,\"#bd3786\"],[0.5555555555555556,\"#d8576b\"],[0.6666666666666666,\"#ed7953\"],[0.7777777777777778,\"#fb9f3a\"],[0.8888888888888888,\"#fdca26\"],[1.0,\"#f0f921\"]],\"type\":\"histogram2d\"}],\"histogram2dcontour\":[{\"colorbar\":{\"outlinewidth\":0,\"ticks\":\"\"},\"colorscale\":[[0.0,\"#0d0887\"],[0.1111111111111111,\"#46039f\"],[0.2222222222222222,\"#7201a8\"],[0.3333333333333333,\"#9c179e\"],[0.4444444444444444,\"#bd3786\"],[0.5555555555555556,\"#d8576b\"],[0.6666666666666666,\"#ed7953\"],[0.7777777777777778,\"#fb9f3a\"],[0.8888888888888888,\"#fdca26\"],[1.0,\"#f0f921\"]],\"type\":\"histogram2dcontour\"}],\"mesh3d\":[{\"colorbar\":{\"outlinewidth\":0,\"ticks\":\"\"},\"type\":\"mesh3d\"}],\"parcoords\":[{\"line\":{\"colorbar\":{\"outlinewidth\":0,\"ticks\":\"\"}},\"type\":\"parcoords\"}],\"pie\":[{\"automargin\":true,\"type\":\"pie\"}],\"scatter\":[{\"marker\":{\"colorbar\":{\"outlinewidth\":0,\"ticks\":\"\"}},\"type\":\"scatter\"}],\"scatter3d\":[{\"line\":{\"colorbar\":{\"outlinewidth\":0,\"ticks\":\"\"}},\"marker\":{\"colorbar\":{\"outlinewidth\":0,\"ticks\":\"\"}},\"type\":\"scatter3d\"}],\"scattercarpet\":[{\"marker\":{\"colorbar\":{\"outlinewidth\":0,\"ticks\":\"\"}},\"type\":\"scattercarpet\"}],\"scattergeo\":[{\"marker\":{\"colorbar\":{\"outlinewidth\":0,\"ticks\":\"\"}},\"type\":\"scattergeo\"}],\"scattergl\":[{\"marker\":{\"colorbar\":{\"outlinewidth\":0,\"ticks\":\"\"}},\"type\":\"scattergl\"}],\"scattermapbox\":[{\"marker\":{\"colorbar\":{\"outlinewidth\":0,\"ticks\":\"\"}},\"type\":\"scattermapbox\"}],\"scatterpolar\":[{\"marker\":{\"colorbar\":{\"outlinewidth\":0,\"ticks\":\"\"}},\"type\":\"scatterpolar\"}],\"scatterpolargl\":[{\"marker\":{\"colorbar\":{\"outlinewidth\":0,\"ticks\":\"\"}},\"type\":\"scatterpolargl\"}],\"scatterternary\":[{\"marker\":{\"colorbar\":{\"outlinewidth\":0,\"ticks\":\"\"}},\"type\":\"scatterternary\"}],\"surface\":[{\"colorbar\":{\"outlinewidth\":0,\"ticks\":\"\"},\"colorscale\":[[0.0,\"#0d0887\"],[0.1111111111111111,\"#46039f\"],[0.2222222222222222,\"#7201a8\"],[0.3333333333333333,\"#9c179e\"],[0.4444444444444444,\"#bd3786\"],[0.5555555555555556,\"#d8576b\"],[0.6666666666666666,\"#ed7953\"],[0.7777777777777778,\"#fb9f3a\"],[0.8888888888888888,\"#fdca26\"],[1.0,\"#f0f921\"]],\"type\":\"surface\"}],\"table\":[{\"cells\":{\"fill\":{\"color\":\"#EBF0F8\"},\"line\":{\"color\":\"white\"}},\"header\":{\"fill\":{\"color\":\"#C8D4E3\"},\"line\":{\"color\":\"white\"}},\"type\":\"table\"}]},\"layout\":{\"annotationdefaults\":{\"arrowcolor\":\"#2a3f5f\",\"arrowhead\":0,\"arrowwidth\":1},\"autotypenumbers\":\"strict\",\"coloraxis\":{\"colorbar\":{\"outlinewidth\":0,\"ticks\":\"\"}},\"colorscale\":{\"diverging\":[[0,\"#8e0152\"],[0.1,\"#c51b7d\"],[0.2,\"#de77ae\"],[0.3,\"#f1b6da\"],[0.4,\"#fde0ef\"],[0.5,\"#f7f7f7\"],[0.6,\"#e6f5d0\"],[0.7,\"#b8e186\"],[0.8,\"#7fbc41\"],[0.9,\"#4d9221\"],[1,\"#276419\"]],\"sequential\":[[0.0,\"#0d0887\"],[0.1111111111111111,\"#46039f\"],[0.2222222222222222,\"#7201a8\"],[0.3333333333333333,\"#9c179e\"],[0.4444444444444444,\"#bd3786\"],[0.5555555555555556,\"#d8576b\"],[0.6666666666666666,\"#ed7953\"],[0.7777777777777778,\"#fb9f3a\"],[0.8888888888888888,\"#fdca26\"],[1.0,\"#f0f921\"]],\"sequentialminus\":[[0.0,\"#0d0887\"],[0.1111111111111111,\"#46039f\"],[0.2222222222222222,\"#7201a8\"],[0.3333333333333333,\"#9c179e\"],[0.4444444444444444,\"#bd3786\"],[0.5555555555555556,\"#d8576b\"],[0.6666666666666666,\"#ed7953\"],[0.7777777777777778,\"#fb9f3a\"],[0.8888888888888888,\"#fdca26\"],[1.0,\"#f0f921\"]]},\"colorway\":[\"#636efa\",\"#EF553B\",\"#00cc96\",\"#ab63fa\",\"#FFA15A\",\"#19d3f3\",\"#FF6692\",\"#B6E880\",\"#FF97FF\",\"#FECB52\"],\"font\":{\"color\":\"#2a3f5f\"},\"geo\":{\"bgcolor\":\"white\",\"lakecolor\":\"white\",\"landcolor\":\"#E5ECF6\",\"showlakes\":true,\"showland\":true,\"subunitcolor\":\"white\"},\"hoverlabel\":{\"align\":\"left\"},\"hovermode\":\"closest\",\"mapbox\":{\"style\":\"light\"},\"paper_bgcolor\":\"white\",\"plot_bgcolor\":\"#E5ECF6\",\"polar\":{\"angularaxis\":{\"gridcolor\":\"white\",\"linecolor\":\"white\",\"ticks\":\"\"},\"bgcolor\":\"#E5ECF6\",\"radialaxis\":{\"gridcolor\":\"white\",\"linecolor\":\"white\",\"ticks\":\"\"}},\"scene\":{\"xaxis\":{\"backgroundcolor\":\"#E5ECF6\",\"gridcolor\":\"white\",\"gridwidth\":2,\"linecolor\":\"white\",\"showbackground\":true,\"ticks\":\"\",\"zerolinecolor\":\"white\"},\"yaxis\":{\"backgroundcolor\":\"#E5ECF6\",\"gridcolor\":\"white\",\"gridwidth\":2,\"linecolor\":\"white\",\"showbackground\":true,\"ticks\":\"\",\"zerolinecolor\":\"white\"},\"zaxis\":{\"backgroundcolor\":\"#E5ECF6\",\"gridcolor\":\"white\",\"gridwidth\":2,\"linecolor\":\"white\",\"showbackground\":true,\"ticks\":\"\",\"zerolinecolor\":\"white\"}},\"shapedefaults\":{\"line\":{\"color\":\"#2a3f5f\"}},\"ternary\":{\"aaxis\":{\"gridcolor\":\"white\",\"linecolor\":\"white\",\"ticks\":\"\"},\"baxis\":{\"gridcolor\":\"white\",\"linecolor\":\"white\",\"ticks\":\"\"},\"bgcolor\":\"#E5ECF6\",\"caxis\":{\"gridcolor\":\"white\",\"linecolor\":\"white\",\"ticks\":\"\"}},\"title\":{\"x\":0.05},\"xaxis\":{\"automargin\":true,\"gridcolor\":\"white\",\"linecolor\":\"white\",\"ticks\":\"\",\"title\":{\"standoff\":15},\"zerolinecolor\":\"white\",\"zerolinewidth\":2},\"yaxis\":{\"automargin\":true,\"gridcolor\":\"white\",\"linecolor\":\"white\",\"ticks\":\"\",\"title\":{\"standoff\":15},\"zerolinecolor\":\"white\",\"zerolinewidth\":2}}},\"xaxis\":{\"anchor\":\"y\",\"domain\":[0.0,0.3133333333333333],\"title\":{\"text\":\"n_points_per_ImageNet_class\"}},\"yaxis\":{\"anchor\":\"x\",\"domain\":[0.0,0.2275],\"title\":{\"text\":\"R@10\"},\"range\":[-0.2,1.2]},\"xaxis2\":{\"anchor\":\"y2\",\"domain\":[0.3333333333333333,0.6466666666666666],\"matches\":\"x\",\"title\":{\"text\":\"n_points_per_ImageNet_class\"}},\"yaxis2\":{\"anchor\":\"x2\",\"domain\":[0.0,0.2275],\"matches\":\"y\",\"showticklabels\":false},\"xaxis3\":{\"anchor\":\"y3\",\"domain\":[0.6666666666666666,0.98],\"matches\":\"x\",\"title\":{\"text\":\"n_points_per_ImageNet_class\"}},\"yaxis3\":{\"anchor\":\"x3\",\"domain\":[0.0,0.2275],\"matches\":\"y\",\"showticklabels\":false},\"xaxis4\":{\"anchor\":\"y4\",\"domain\":[0.0,0.3133333333333333],\"matches\":\"x\",\"showticklabels\":false},\"yaxis4\":{\"anchor\":\"x4\",\"domain\":[0.2575,0.485],\"matches\":\"y\",\"title\":{\"text\":\"R@10\"}},\"xaxis5\":{\"anchor\":\"y5\",\"domain\":[0.3333333333333333,0.6466666666666666],\"matches\":\"x\",\"showticklabels\":false},\"yaxis5\":{\"anchor\":\"x5\",\"domain\":[0.2575,0.485],\"matches\":\"y\",\"showticklabels\":false},\"xaxis6\":{\"anchor\":\"y6\",\"domain\":[0.6666666666666666,0.98],\"matches\":\"x\",\"showticklabels\":false},\"yaxis6\":{\"anchor\":\"x6\",\"domain\":[0.2575,0.485],\"matches\":\"y\",\"showticklabels\":false},\"xaxis7\":{\"anchor\":\"y7\",\"domain\":[0.0,0.3133333333333333],\"matches\":\"x\",\"showticklabels\":false},\"yaxis7\":{\"anchor\":\"x7\",\"domain\":[0.515,0.7425],\"matches\":\"y\",\"title\":{\"text\":\"R@10\"}},\"xaxis8\":{\"anchor\":\"y8\",\"domain\":[0.3333333333333333,0.6466666666666666],\"matches\":\"x\",\"showticklabels\":false},\"yaxis8\":{\"anchor\":\"x8\",\"domain\":[0.515,0.7425],\"matches\":\"y\",\"showticklabels\":false},\"xaxis9\":{\"anchor\":\"y9\",\"domain\":[0.6666666666666666,0.98],\"matches\":\"x\",\"showticklabels\":false},\"yaxis9\":{\"anchor\":\"x9\",\"domain\":[0.515,0.7425],\"matches\":\"y\",\"showticklabels\":false},\"xaxis10\":{\"anchor\":\"y10\",\"domain\":[0.0,0.3133333333333333],\"matches\":\"x\",\"showticklabels\":false},\"yaxis10\":{\"anchor\":\"x10\",\"domain\":[0.7725,1.0],\"matches\":\"y\",\"title\":{\"text\":\"R@10\"}},\"xaxis11\":{\"anchor\":\"y11\",\"domain\":[0.3333333333333333,0.6466666666666666],\"matches\":\"x\",\"showticklabels\":false},\"yaxis11\":{\"anchor\":\"x11\",\"domain\":[0.7725,1.0],\"matches\":\"y\",\"showticklabels\":false},\"xaxis12\":{\"anchor\":\"y12\",\"domain\":[0.6666666666666666,0.98],\"matches\":\"x\",\"showticklabels\":false},\"yaxis12\":{\"anchor\":\"x12\",\"domain\":[0.7725,1.0],\"matches\":\"y\",\"showticklabels\":false},\"annotations\":[{\"font\":{},\"showarrow\":false,\"text\":\"n_ImageNet_classes=1\",\"x\":0.15666666666666665,\"xanchor\":\"center\",\"xref\":\"paper\",\"y\":1.0,\"yanchor\":\"bottom\",\"yref\":\"paper\"},{\"font\":{},\"showarrow\":false,\"text\":\"n_ImageNet_classes=2\",\"x\":0.49,\"xanchor\":\"center\",\"xref\":\"paper\",\"y\":1.0,\"yanchor\":\"bottom\",\"yref\":\"paper\"},{\"font\":{},\"showarrow\":false,\"text\":\"n_ImageNet_classes=5\",\"x\":0.8233333333333333,\"xanchor\":\"center\",\"xref\":\"paper\",\"y\":1.0,\"yanchor\":\"bottom\",\"yref\":\"paper\"},{\"font\":{},\"showarrow\":false,\"text\":\"task=img2img\",\"textangle\":90,\"x\":0.98,\"xanchor\":\"left\",\"xref\":\"paper\",\"y\":0.11375,\"yanchor\":\"middle\",\"yref\":\"paper\"},{\"font\":{},\"showarrow\":false,\"text\":\"task=img2txt\",\"textangle\":90,\"x\":0.98,\"xanchor\":\"left\",\"xref\":\"paper\",\"y\":0.37124999999999997,\"yanchor\":\"middle\",\"yref\":\"paper\"},{\"font\":{},\"showarrow\":false,\"text\":\"task=txt2txt\",\"textangle\":90,\"x\":0.98,\"xanchor\":\"left\",\"xref\":\"paper\",\"y\":0.62875,\"yanchor\":\"middle\",\"yref\":\"paper\"},{\"font\":{},\"showarrow\":false,\"text\":\"task=txt2img\",\"textangle\":90,\"x\":0.98,\"xanchor\":\"left\",\"xref\":\"paper\",\"y\":0.88625,\"yanchor\":\"middle\",\"yref\":\"paper\"}],\"legend\":{\"title\":{\"text\":\"Method\"},\"tracegroupgap\":0},\"margin\":{\"t\":60},\"font\":{\"size\":20},\"autosize\":false,\"width\":1550,\"height\":1600,\"showlegend\":true},                        {\"responsive\": true}                    ).then(function(){\n",
       "                            \n",
       "var gd = document.getElementById('196545ff-49ce-4092-bcd4-7f1d6ced20cb');\n",
       "var x = new MutationObserver(function (mutations, observer) {{\n",
       "        var display = window.getComputedStyle(gd).display;\n",
       "        if (!display || display === 'none') {{\n",
       "            console.log([gd, 'removed!']);\n",
       "            Plotly.purge(gd);\n",
       "            observer.disconnect();\n",
       "        }}\n",
       "}});\n",
       "\n",
       "// Listen for the removal of the full notebook cells\n",
       "var notebookContainer = gd.closest('#notebook-container');\n",
       "if (notebookContainer) {{\n",
       "    x.observe(notebookContainer, {childList: true});\n",
       "}}\n",
       "\n",
       "// Listen for the clearing of the current output cell\n",
       "var outputEl = gd.closest('.output');\n",
       "if (outputEl) {{\n",
       "    x.observe(outputEl, {childList: true});\n",
       "}}\n",
       "\n",
       "                        })                };                });            </script>        </div>"
      ]
     },
     "metadata": {},
     "output_type": "display_data"
    }
   ],
   "source": [
    "def text(recall, row):\n",
    "    if row == 'ZCCR (ALBEF)':\n",
    "        return '<b>{}</b>'.format(str(recall))\n",
    "    if row != 'ZCCR (CLIP)':\n",
    "        return str(recall)\n",
    "    return ''\n",
    "\n",
    "for dataset in ['coco', 'flickr30k']:\n",
    "\n",
    "    # BT\n",
    "    df           = pd.read_csv('results/bt_metrics.csv')\n",
    "    df           = df.rename(columns={'recall': 'R@10'})\n",
    "\n",
    "    df           = df.loc[df['tokenization'] == '_lemma']\n",
    "    df           = df[df['dataset']==dataset]\n",
    "    df['Method'] = ['BT']*len(df)\n",
    "\n",
    "    tagger       = df[['Method', 'task', 'dataset', 'n_seeds', 'n_points_per_class', 'pool size', 'R@10', 'map']]\n",
    "\n",
    "    # BTBA\n",
    "    df           = pd.read_csv('results/btba_metrics.csv')\n",
    "    df           = df.rename(columns={'recall': 'R@10'})\n",
    "\n",
    "    df           = df.loc[df['tokenization'] == '_lemma']\n",
    "    df           = df[df['dataset']==dataset]\n",
    "    df['Method'] = ['BTBA']*len(df)\n",
    "\n",
    "    tagger_bert_2  = df[['Method', 'task', 'dataset', 'n_seeds', 'n_points_per_class', 'pool size', 'R@10', 'map']]\n",
    "\n",
    "    # ZCCR recall@10\n",
    "    df = pd.read_csv('results/zccr_metrics.csv')\n",
    "    df = df.rename(columns={'recall': 'R@10', 'n_points_per_cluster':'n_points_per_class'})\n",
    "\n",
    "    df = df[df['n_seeds'] != 3]\n",
    "    df = df[df['proj']    == 'pca']\n",
    "    df = df[df['dataset'] == dataset]\n",
    "    df = df[df['clustering'] == 'agglomerative']\n",
    "    df = df[df['representative'] == 'centroid']\n",
    "    df = df[df['cluster distance'] == 5]\n",
    "    df['Method'] = df['model'].map(lambda x: 'ZCCR ({})'.format(x.upper()))\n",
    "    # df = df[df['model'] == model]\n",
    "\n",
    "    CRS      = df[['Method', 'task', 'dataset', 'n_seeds', 'n_points_per_class', 'pool size', 'R@10', 'map']]\n",
    "    df_merged = tagger.append(CRS, ignore_index=True)\n",
    "    # df_merged = df_merged.append(tagger_bert, ignore_index=True)\n",
    "    df_merged = df_merged.append(tagger_bert_2, ignore_index=True)\n",
    "\n",
    "    df_merged['n_points_per_seed'] = df_merged['n_points_per_class'].map(lambda e: str(e))\n",
    "    df_merged['text'] = df_merged.apply(lambda x: text(x['R@10'],x['Method']), axis=1)\n",
    "    df_merged         = df_merged[df_merged['n_seeds'] != 10]\n",
    "\n",
    "    df_merged         = df_merged.rename(columns={'n_points_per_seed':'n_points_per_ImageNet_class',\n",
    "                            'n_seeds':'n_ImageNet_classes'})\n",
    "\n",
    "    fig = px.line(df_merged, x=\"n_points_per_ImageNet_class\", y=\"R@10\", text='text', color='Method', #line_dash='representative', \n",
    "                facet_row='task', facet_col='n_ImageNet_classes', category_orders={\"task\": [\"txt2img\", \"txt2txt\", \"img2txt\", \"img2img\"]},\n",
    "                color_discrete_map={\n",
    "                \"ZCCR (CLIP)\": \"#FF9DA6\",\n",
    "                \"ZCCR (ALBEF)\": \"#EF553B\",\n",
    "                \"BTBA\": \"#00CC99\",\n",
    "                \"BT\": \"#636EFA\"},\n",
    "                markers=True)\n",
    "\n",
    "    fig.update_traces(textposition='bottom center')\n",
    "    fig.update_layout(yaxis_range=[-0.2,1.2])\n",
    "    fig.update_layout(\n",
    "        autosize=False,\n",
    "        width=1550,\n",
    "        height=1600,\n",
    "        showlegend=True,\n",
    "        font=dict(\n",
    "                size=20\n",
    "        )\n",
    "    )\n",
    "\n",
    "    fig.write_image('charts/{}_bt_comparison_recall.png'.format(dataset))"
   ]
  }
 ],
 "metadata": {
  "kernelspec": {
   "display_name": "mediaverse_rest",
   "language": "python",
   "name": "python3"
  },
  "language_info": {
   "codemirror_mode": {
    "name": "ipython",
    "version": 3
   },
   "file_extension": ".py",
   "mimetype": "text/x-python",
   "name": "python",
   "nbconvert_exporter": "python",
   "pygments_lexer": "ipython3",
   "version": "3.8.12"
  },
  "orig_nbformat": 4
 },
 "nbformat": 4,
 "nbformat_minor": 2
}
