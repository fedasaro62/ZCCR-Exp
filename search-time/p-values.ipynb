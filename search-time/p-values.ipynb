{
 "cells": [
  {
   "cell_type": "markdown",
   "metadata": {},
   "source": [
    "### Testing the hypothesis of equal means for among two Faiss index scenario"
   ]
  },
  {
   "cell_type": "code",
   "execution_count": 1,
   "metadata": {},
   "outputs": [
    {
     "name": "stdout",
     "output_type": "stream",
     "text": [
      "t-statistic: -38.9311055452792\n",
      "p-value: 0.0\n"
     ]
    }
   ],
   "source": [
    "import math\n",
    "from scipy.stats import t\n",
    "\n",
    "def ttest(mean1, std_dev1, mean2, std_dev2):\n",
    "    n1 = n2 = 1000\n",
    "\n",
    "    # Calculate the t-statistic\n",
    "    t_statistic = (mean1 - mean2) / math.sqrt((std_dev1**2 / n1) + (std_dev2**2 / n2))\n",
    "\n",
    "    # Degrees of freedom\n",
    "    df = n1 + n2 - 2\n",
    "\n",
    "    # Use a statistical library to find the p-value (e.g., SciPy)\n",
    "    \n",
    "\n",
    "    # Calculate the two-tailed p-value\n",
    "    p_value = 2 * (1 - t.cdf(abs(t_statistic), df))\n",
    "\n",
    "    print(\"t-statistic:\", t_statistic)\n",
    "    print(\"p-value:\", p_value)\n",
    "\n",
    "mean1, std1 = 13.8116,0.3406\n",
    "mean2, std2 = 14.4906, 0.4338\n",
    "\n",
    "ttest(mean1, std1, mean2, std2)"
   ]
  }
 ],
 "metadata": {
  "kernelspec": {
   "display_name": ".venv",
   "language": "python",
   "name": "python3"
  },
  "language_info": {
   "codemirror_mode": {
    "name": "ipython",
    "version": 3
   },
   "file_extension": ".py",
   "mimetype": "text/x-python",
   "name": "python",
   "nbconvert_exporter": "python",
   "pygments_lexer": "ipython3",
   "version": "3.10.12"
  }
 },
 "nbformat": 4,
 "nbformat_minor": 2
}
